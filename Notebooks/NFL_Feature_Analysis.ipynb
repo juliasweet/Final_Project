{
 "cells": [
  {
   "cell_type": "markdown",
   "metadata": {},
   "source": [
    "# NFL Playoff Predictions (Prework)"
   ]
  },
  {
   "cell_type": "code",
   "execution_count": 9,
   "metadata": {},
   "outputs": [],
   "source": [
    "# Import dependencies\n",
    "import pandas as pd\n",
    "import numpy as np\n",
    "import sklearn\n",
    "import os"
   ]
  },
  {
   "cell_type": "code",
   "execution_count": 10,
   "metadata": {},
   "outputs": [],
   "source": [
    "from sklearn import linear_model"
   ]
  },
  {
   "cell_type": "code",
   "execution_count": 11,
   "metadata": {},
   "outputs": [
    {
     "data": {
      "text/html": [
       "<div>\n",
       "<style scoped>\n",
       "    .dataframe tbody tr th:only-of-type {\n",
       "        vertical-align: middle;\n",
       "    }\n",
       "\n",
       "    .dataframe tbody tr th {\n",
       "        vertical-align: top;\n",
       "    }\n",
       "\n",
       "    .dataframe thead th {\n",
       "        text-align: right;\n",
       "    }\n",
       "</style>\n",
       "<table border=\"1\" class=\"dataframe\">\n",
       "  <thead>\n",
       "    <tr style=\"text-align: right;\">\n",
       "      <th></th>\n",
       "      <th>Unnamed: 0</th>\n",
       "      <th>play_id</th>\n",
       "      <th>game_id</th>\n",
       "      <th>shotgun</th>\n",
       "      <th>no_huddle</th>\n",
       "      <th>ydstogo</th>\n",
       "      <th>yardline_100</th>\n",
       "      <th>play_type</th>\n",
       "      <th>half_seconds_remaining</th>\n",
       "      <th>down</th>\n",
       "      <th>pass_length</th>\n",
       "      <th>pass_length.1</th>\n",
       "      <th>run_location</th>\n",
       "      <th>score_differential</th>\n",
       "      <th>fg_prob</th>\n",
       "      <th>td_prob</th>\n",
       "      <th>ep</th>\n",
       "      <th>third_down_converted</th>\n",
       "    </tr>\n",
       "  </thead>\n",
       "  <tbody>\n",
       "    <tr>\n",
       "      <th>0</th>\n",
       "      <td>0</td>\n",
       "      <td>190</td>\n",
       "      <td>2018090600</td>\n",
       "      <td>1</td>\n",
       "      <td>0</td>\n",
       "      <td>10</td>\n",
       "      <td>39.0</td>\n",
       "      <td>pass</td>\n",
       "      <td>1681.0</td>\n",
       "      <td>3.0</td>\n",
       "      <td>deep</td>\n",
       "      <td>deep</td>\n",
       "      <td>NaN</td>\n",
       "      <td>0.0</td>\n",
       "      <td>0.415009</td>\n",
       "      <td>0.333712</td>\n",
       "      <td>2.250232</td>\n",
       "      <td>1.0</td>\n",
       "    </tr>\n",
       "    <tr>\n",
       "      <th>1</th>\n",
       "      <td>1</td>\n",
       "      <td>256</td>\n",
       "      <td>2018090600</td>\n",
       "      <td>1</td>\n",
       "      <td>0</td>\n",
       "      <td>1</td>\n",
       "      <td>1.0</td>\n",
       "      <td>pass</td>\n",
       "      <td>1559.0</td>\n",
       "      <td>3.0</td>\n",
       "      <td>short</td>\n",
       "      <td>short</td>\n",
       "      <td>NaN</td>\n",
       "      <td>0.0</td>\n",
       "      <td>0.204515</td>\n",
       "      <td>0.749825</td>\n",
       "      <td>5.661931</td>\n",
       "      <td>0.0</td>\n",
       "    </tr>\n",
       "    <tr>\n",
       "      <th>2</th>\n",
       "      <td>2</td>\n",
       "      <td>344</td>\n",
       "      <td>2018090600</td>\n",
       "      <td>1</td>\n",
       "      <td>0</td>\n",
       "      <td>4</td>\n",
       "      <td>92.0</td>\n",
       "      <td>pass</td>\n",
       "      <td>1464.0</td>\n",
       "      <td>3.0</td>\n",
       "      <td>short</td>\n",
       "      <td>short</td>\n",
       "      <td>NaN</td>\n",
       "      <td>0.0</td>\n",
       "      <td>0.093928</td>\n",
       "      <td>0.213978</td>\n",
       "      <td>-1.832560</td>\n",
       "      <td>0.0</td>\n",
       "    </tr>\n",
       "    <tr>\n",
       "      <th>3</th>\n",
       "      <td>3</td>\n",
       "      <td>445</td>\n",
       "      <td>2018090600</td>\n",
       "      <td>1</td>\n",
       "      <td>0</td>\n",
       "      <td>5</td>\n",
       "      <td>39.0</td>\n",
       "      <td>run</td>\n",
       "      <td>1404.0</td>\n",
       "      <td>3.0</td>\n",
       "      <td>NaN</td>\n",
       "      <td>NaN</td>\n",
       "      <td>right</td>\n",
       "      <td>0.0</td>\n",
       "      <td>0.395592</td>\n",
       "      <td>0.377457</td>\n",
       "      <td>2.642543</td>\n",
       "      <td>1.0</td>\n",
       "    </tr>\n",
       "    <tr>\n",
       "      <th>4</th>\n",
       "      <td>4</td>\n",
       "      <td>636</td>\n",
       "      <td>2018090600</td>\n",
       "      <td>1</td>\n",
       "      <td>0</td>\n",
       "      <td>3</td>\n",
       "      <td>3.0</td>\n",
       "      <td>pass</td>\n",
       "      <td>1207.0</td>\n",
       "      <td>3.0</td>\n",
       "      <td>short</td>\n",
       "      <td>short</td>\n",
       "      <td>NaN</td>\n",
       "      <td>0.0</td>\n",
       "      <td>0.386222</td>\n",
       "      <td>0.567801</td>\n",
       "      <td>4.926552</td>\n",
       "      <td>0.0</td>\n",
       "    </tr>\n",
       "  </tbody>\n",
       "</table>\n",
       "</div>"
      ],
      "text/plain": [
       "   Unnamed: 0  play_id     game_id  shotgun  no_huddle  ydstogo  yardline_100  \\\n",
       "0           0      190  2018090600        1          0       10          39.0   \n",
       "1           1      256  2018090600        1          0        1           1.0   \n",
       "2           2      344  2018090600        1          0        4          92.0   \n",
       "3           3      445  2018090600        1          0        5          39.0   \n",
       "4           4      636  2018090600        1          0        3           3.0   \n",
       "\n",
       "  play_type  half_seconds_remaining  down pass_length pass_length.1  \\\n",
       "0      pass                  1681.0   3.0        deep          deep   \n",
       "1      pass                  1559.0   3.0       short         short   \n",
       "2      pass                  1464.0   3.0       short         short   \n",
       "3       run                  1404.0   3.0         NaN           NaN   \n",
       "4      pass                  1207.0   3.0       short         short   \n",
       "\n",
       "  run_location  score_differential   fg_prob   td_prob        ep  \\\n",
       "0          NaN                 0.0  0.415009  0.333712  2.250232   \n",
       "1          NaN                 0.0  0.204515  0.749825  5.661931   \n",
       "2          NaN                 0.0  0.093928  0.213978 -1.832560   \n",
       "3        right                 0.0  0.395592  0.377457  2.642543   \n",
       "4          NaN                 0.0  0.386222  0.567801  4.926552   \n",
       "\n",
       "   third_down_converted  \n",
       "0                   1.0  \n",
       "1                   0.0  \n",
       "2                   0.0  \n",
       "3                   1.0  \n",
       "4                   0.0  "
      ]
     },
     "execution_count": 11,
     "metadata": {},
     "output_type": "execute_result"
    }
   ],
   "source": [
    "# Load data\n",
    "df = pd.read_csv(os.path.join('thirdDown.csv'))\n",
    "df.head()"
   ]
  },
  {
   "cell_type": "code",
   "execution_count": 15,
   "metadata": {},
   "outputs": [
    {
     "data": {
      "text/plain": [
       "Index(['Unnamed: 0', 'play_id', 'game_id', 'shotgun', 'no_huddle', 'ydstogo',\n",
       "       'yardline_100', 'play_type', 'half_seconds_remaining', 'down',\n",
       "       'pass_length', 'pass_length.1', 'run_location', 'score_differential',\n",
       "       'fg_prob', 'td_prob', 'ep', 'third_down_converted'],\n",
       "      dtype='object')"
      ]
     },
     "execution_count": 15,
     "metadata": {},
     "output_type": "execute_result"
    }
   ],
   "source": [
    "df.columns"
   ]
  },
  {
   "cell_type": "code",
   "execution_count": 21,
   "metadata": {},
   "outputs": [
    {
     "data": {
      "text/plain": [
       "Unnamed: 0                  int64\n",
       "play_id                     int64\n",
       "game_id                     int64\n",
       "shotgun                     int64\n",
       "no_huddle                   int64\n",
       "ydstogo                     int64\n",
       "yardline_100              float64\n",
       "play_type                  object\n",
       "half_seconds_remaining    float64\n",
       "down                      float64\n",
       "pass_length                object\n",
       "pass_length.1              object\n",
       "run_location               object\n",
       "score_differential        float64\n",
       "fg_prob                   float64\n",
       "td_prob                   float64\n",
       "ep                        float64\n",
       "third_down_converted      float64\n",
       "dtype: object"
      ]
     },
     "execution_count": 21,
     "metadata": {},
     "output_type": "execute_result"
    }
   ],
   "source": [
    "df.dtypes"
   ]
  },
  {
   "cell_type": "code",
   "execution_count": 25,
   "metadata": {},
   "outputs": [],
   "source": [
    "# X = df[['shotgun', 'no_huddle','ydstogo', 'pass_length', 'ep', 'score_differential',\n",
    "#         'fg_prob', 'half_seconds_remaining', 'run_location']]\n",
    "# Y = df['third_down_converted'] \n",
    "\n",
    "X = df[['shotgun', 'no_huddle','ep', 'score_differential',\n",
    "        'fg_prob', 'half_seconds_remaining']]\n",
    "Y = df['third_down_converted'] \n",
    "\n",
    "# # with sklearn\n",
    "# regr = linear_model.LinearRegression()\n",
    "# regr.fit(X, Y)\n",
    "\n",
    "# print('Intercept: \\n', regr.intercept_)\n",
    "# print('Coefficients: \\n', regr.coef_)"
   ]
  },
  {
   "cell_type": "code",
   "execution_count": 26,
   "metadata": {},
   "outputs": [
    {
     "name": "stdout",
     "output_type": "stream",
     "text": [
      "                             OLS Regression Results                             \n",
      "================================================================================\n",
      "Dep. Variable:     third_down_converted   R-squared:                       0.053\n",
      "Model:                              OLS   Adj. R-squared:                  0.053\n",
      "Method:                   Least Squares   F-statistic:                     439.1\n",
      "Date:                  Thu, 14 Nov 2019   Prob (F-statistic):               0.00\n",
      "Time:                          18:42:14   Log-Likelihood:                -31678.\n",
      "No. Observations:                 46877   AIC:                         6.337e+04\n",
      "Df Residuals:                     46870   BIC:                         6.343e+04\n",
      "Df Model:                             6                                         \n",
      "Covariance Type:              nonrobust                                         \n",
      "==========================================================================================\n",
      "                             coef    std err          t      P>|t|      [0.025      0.975]\n",
      "------------------------------------------------------------------------------------------\n",
      "const                      0.5363      0.007     72.542      0.000       0.522       0.551\n",
      "shotgun                   -0.0350      0.006     -5.683      0.000      -0.047      -0.023\n",
      "no_huddle                  0.0436      0.009      4.938      0.000       0.026       0.061\n",
      "ep                         0.1120      0.003     44.556      0.000       0.107       0.117\n",
      "score_differential         0.0002      0.000      1.114      0.265      -0.000       0.001\n",
      "fg_prob                   -1.2215      0.030    -41.009      0.000      -1.280      -1.163\n",
      "half_seconds_remaining  8.486e-05   4.37e-06     19.425      0.000    7.63e-05    9.34e-05\n",
      "==============================================================================\n",
      "Omnibus:                   230351.594   Durbin-Watson:                   2.010\n",
      "Prob(Omnibus):                  0.000   Jarque-Bera (JB):             6247.670\n",
      "Skew:                           0.397   Prob(JB):                         0.00\n",
      "Kurtosis:                       1.397   Cond. No.                     1.35e+04\n",
      "==============================================================================\n",
      "\n",
      "Warnings:\n",
      "[1] Standard Errors assume that the covariance matrix of the errors is correctly specified.\n",
      "[2] The condition number is large, 1.35e+04. This might indicate that there are\n",
      "strong multicollinearity or other numerical problems.\n"
     ]
    }
   ],
   "source": [
    "import statsmodels.api as sm\n",
    "# with statsmodels\n",
    "X = sm.add_constant(X) # adding a constant \n",
    "model = sm.OLS(Y, X).fit()\n",
    "predictions = model.predict(X) \n",
    " \n",
    "print_model = model.summary()\n",
    "print(print_model)"
   ]
  },
  {
   "cell_type": "code",
   "execution_count": null,
   "metadata": {},
   "outputs": [],
   "source": []
  }
 ],
 "metadata": {
  "kernelspec": {
   "display_name": "Python 3",
   "language": "python",
   "name": "python3"
  },
  "language_info": {
   "codemirror_mode": {
    "name": "ipython",
    "version": 3
   },
   "file_extension": ".py",
   "mimetype": "text/x-python",
   "name": "python",
   "nbconvert_exporter": "python",
   "pygments_lexer": "ipython3",
   "version": "3.7.3"
  }
 },
 "nbformat": 4,
 "nbformat_minor": 2
}
