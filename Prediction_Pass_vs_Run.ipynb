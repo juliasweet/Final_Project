{
 "cells": [
  {
   "cell_type": "markdown",
   "metadata": {},
   "source": [
    "# 3rd Down Analysis"
   ]
  },
  {
   "cell_type": "code",
   "execution_count": 289,
   "metadata": {
    "scrolled": false
   },
   "outputs": [
    {
     "data": {
      "text/html": [
       "<div>\n",
       "<style scoped>\n",
       "    .dataframe tbody tr th:only-of-type {\n",
       "        vertical-align: middle;\n",
       "    }\n",
       "\n",
       "    .dataframe tbody tr th {\n",
       "        vertical-align: top;\n",
       "    }\n",
       "\n",
       "    .dataframe thead th {\n",
       "        text-align: right;\n",
       "    }\n",
       "</style>\n",
       "<table border=\"1\" class=\"dataframe\">\n",
       "  <thead>\n",
       "    <tr style=\"text-align: right;\">\n",
       "      <th></th>\n",
       "      <th>Unnamed: 0</th>\n",
       "      <th>play_id</th>\n",
       "      <th>game_id</th>\n",
       "      <th>shotgun</th>\n",
       "      <th>no_huddle</th>\n",
       "      <th>ydstogo</th>\n",
       "      <th>yardline_100</th>\n",
       "      <th>play_type</th>\n",
       "      <th>half_seconds_remaining</th>\n",
       "      <th>down</th>\n",
       "      <th>pass_length</th>\n",
       "      <th>pass_length.1</th>\n",
       "      <th>run_location</th>\n",
       "      <th>score_differential</th>\n",
       "      <th>fg_prob</th>\n",
       "      <th>td_prob</th>\n",
       "      <th>ep</th>\n",
       "      <th>third_down_converted</th>\n",
       "    </tr>\n",
       "  </thead>\n",
       "  <tbody>\n",
       "    <tr>\n",
       "      <th>0</th>\n",
       "      <td>0</td>\n",
       "      <td>190</td>\n",
       "      <td>2018090600</td>\n",
       "      <td>1</td>\n",
       "      <td>0</td>\n",
       "      <td>10</td>\n",
       "      <td>39.0</td>\n",
       "      <td>pass</td>\n",
       "      <td>1681.0</td>\n",
       "      <td>3.0</td>\n",
       "      <td>deep</td>\n",
       "      <td>deep</td>\n",
       "      <td>NaN</td>\n",
       "      <td>0.0</td>\n",
       "      <td>0.415009</td>\n",
       "      <td>0.333712</td>\n",
       "      <td>2.250232</td>\n",
       "      <td>1.0</td>\n",
       "    </tr>\n",
       "    <tr>\n",
       "      <th>1</th>\n",
       "      <td>1</td>\n",
       "      <td>256</td>\n",
       "      <td>2018090600</td>\n",
       "      <td>1</td>\n",
       "      <td>0</td>\n",
       "      <td>1</td>\n",
       "      <td>1.0</td>\n",
       "      <td>pass</td>\n",
       "      <td>1559.0</td>\n",
       "      <td>3.0</td>\n",
       "      <td>short</td>\n",
       "      <td>short</td>\n",
       "      <td>NaN</td>\n",
       "      <td>0.0</td>\n",
       "      <td>0.204515</td>\n",
       "      <td>0.749825</td>\n",
       "      <td>5.661931</td>\n",
       "      <td>0.0</td>\n",
       "    </tr>\n",
       "    <tr>\n",
       "      <th>2</th>\n",
       "      <td>2</td>\n",
       "      <td>344</td>\n",
       "      <td>2018090600</td>\n",
       "      <td>1</td>\n",
       "      <td>0</td>\n",
       "      <td>4</td>\n",
       "      <td>92.0</td>\n",
       "      <td>pass</td>\n",
       "      <td>1464.0</td>\n",
       "      <td>3.0</td>\n",
       "      <td>short</td>\n",
       "      <td>short</td>\n",
       "      <td>NaN</td>\n",
       "      <td>0.0</td>\n",
       "      <td>0.093928</td>\n",
       "      <td>0.213978</td>\n",
       "      <td>-1.832560</td>\n",
       "      <td>0.0</td>\n",
       "    </tr>\n",
       "    <tr>\n",
       "      <th>3</th>\n",
       "      <td>3</td>\n",
       "      <td>445</td>\n",
       "      <td>2018090600</td>\n",
       "      <td>1</td>\n",
       "      <td>0</td>\n",
       "      <td>5</td>\n",
       "      <td>39.0</td>\n",
       "      <td>run</td>\n",
       "      <td>1404.0</td>\n",
       "      <td>3.0</td>\n",
       "      <td>NaN</td>\n",
       "      <td>NaN</td>\n",
       "      <td>right</td>\n",
       "      <td>0.0</td>\n",
       "      <td>0.395592</td>\n",
       "      <td>0.377457</td>\n",
       "      <td>2.642543</td>\n",
       "      <td>1.0</td>\n",
       "    </tr>\n",
       "    <tr>\n",
       "      <th>4</th>\n",
       "      <td>4</td>\n",
       "      <td>636</td>\n",
       "      <td>2018090600</td>\n",
       "      <td>1</td>\n",
       "      <td>0</td>\n",
       "      <td>3</td>\n",
       "      <td>3.0</td>\n",
       "      <td>pass</td>\n",
       "      <td>1207.0</td>\n",
       "      <td>3.0</td>\n",
       "      <td>short</td>\n",
       "      <td>short</td>\n",
       "      <td>NaN</td>\n",
       "      <td>0.0</td>\n",
       "      <td>0.386222</td>\n",
       "      <td>0.567801</td>\n",
       "      <td>4.926552</td>\n",
       "      <td>0.0</td>\n",
       "    </tr>\n",
       "  </tbody>\n",
       "</table>\n",
       "</div>"
      ],
      "text/plain": [
       "   Unnamed: 0  play_id     game_id  shotgun  no_huddle  ydstogo  yardline_100  \\\n",
       "0           0      190  2018090600        1          0       10          39.0   \n",
       "1           1      256  2018090600        1          0        1           1.0   \n",
       "2           2      344  2018090600        1          0        4          92.0   \n",
       "3           3      445  2018090600        1          0        5          39.0   \n",
       "4           4      636  2018090600        1          0        3           3.0   \n",
       "\n",
       "  play_type  half_seconds_remaining  down pass_length pass_length.1  \\\n",
       "0      pass                  1681.0   3.0        deep          deep   \n",
       "1      pass                  1559.0   3.0       short         short   \n",
       "2      pass                  1464.0   3.0       short         short   \n",
       "3       run                  1404.0   3.0         NaN           NaN   \n",
       "4      pass                  1207.0   3.0       short         short   \n",
       "\n",
       "  run_location  score_differential   fg_prob   td_prob        ep  \\\n",
       "0          NaN                 0.0  0.415009  0.333712  2.250232   \n",
       "1          NaN                 0.0  0.204515  0.749825  5.661931   \n",
       "2          NaN                 0.0  0.093928  0.213978 -1.832560   \n",
       "3        right                 0.0  0.395592  0.377457  2.642543   \n",
       "4          NaN                 0.0  0.386222  0.567801  4.926552   \n",
       "\n",
       "   third_down_converted  \n",
       "0                   1.0  \n",
       "1                   0.0  \n",
       "2                   0.0  \n",
       "3                   1.0  \n",
       "4                   0.0  "
      ]
     },
     "execution_count": 289,
     "metadata": {},
     "output_type": "execute_result"
    }
   ],
   "source": [
    "%matplotlib inline\n",
    "import matplotlib.pyplot as plt\n",
    "import numpy as np\n",
    "import pandas as pd\n",
    "url = \"https://raw.githubusercontent.com/juliasweet/Final_Project/SweetJ/thirdDown.csv\"\n",
    "Third_Down = pd.read_csv(url)\n",
    "Third_Down.head()"
   ]
  },
  {
   "cell_type": "code",
   "execution_count": 269,
   "metadata": {},
   "outputs": [
    {
     "data": {
      "text/plain": [
       "(46877, 18)"
      ]
     },
     "execution_count": 269,
     "metadata": {},
     "output_type": "execute_result"
    }
   ],
   "source": [
    "#number of rows and columns in a data frame\n",
    "Third_Down.shape"
   ]
  },
  {
   "cell_type": "code",
   "execution_count": 270,
   "metadata": {},
   "outputs": [
    {
     "data": {
      "text/plain": [
       "0.0    28375\n",
       "1.0    18502\n",
       "Name: third_down_converted, dtype: int64"
      ]
     },
     "execution_count": 270,
     "metadata": {},
     "output_type": "execute_result"
    }
   ],
   "source": [
    "#Converted vs not Converted\n",
    "Third_Down['third_down_converted'].value_counts()"
   ]
  },
  {
   "cell_type": "code",
   "execution_count": 271,
   "metadata": {},
   "outputs": [
    {
     "data": {
      "image/png": "[encoded data removed]",
      "text/plain": [
       "<Figure size 432x288 with 1 Axes>"
      ]
     },
     "metadata": {},
     "output_type": "display_data"
    },
    {
     "data": {
      "text/plain": [
       "<Figure size 432x288 with 0 Axes>"
      ]
     },
     "metadata": {},
     "output_type": "display_data"
    }
   ],
   "source": [
    "# Pie chart\n",
    "labels = ['Converted', 'Missed']\n",
    "sizes = [18502, 28375]\n",
    "# only \"explode\" the 2nd slice (i.e. 'Hogs')\n",
    "explode = (0, 0)\n",
    "#add colors\n",
    "colors = ['#ff9999','#66b3ff','#99ff99','#ffcc99']\n",
    "fig1, ax1 = plt.subplots()\n",
    "ax1.pie(sizes, explode=explode, labels=labels, colors=colors, autopct='%1.1f%%',\n",
    "        shadow=True, startangle=90)\n",
    "# Equal aspect ratio ensures that pie is drawn as a circle\n",
    "ax1.axis('equal')\n",
    "plt.tight_layout()\n",
    "plt.title(\"Third Down Converation Average\", bbox={'facecolor':'0.8', 'pad':5})\n",
    "plt.show()\n",
    "plt.savefig('Third Down Converation Average.png')"
   ]
  },
  {
   "cell_type": "code",
   "execution_count": 272,
   "metadata": {},
   "outputs": [
    {
     "data": {
      "text/plain": [
       "pass    37025\n",
       "run      9852\n",
       "Name: play_type, dtype: int64"
      ]
     },
     "execution_count": 272,
     "metadata": {},
     "output_type": "execute_result"
    }
   ],
   "source": [
    "#Play type Pass vs Run\n",
    "Third_Down['play_type'].value_counts()"
   ]
  },
  {
   "cell_type": "code",
   "execution_count": 273,
   "metadata": {},
   "outputs": [
    {
     "data": {
      "image/png": "[encoded data removed]",
      "text/plain": [
       "<Figure size 432x288 with 1 Axes>"
      ]
     },
     "metadata": {},
     "output_type": "display_data"
    }
   ],
   "source": [
    "# Pie chart\n",
    "labels = ['Pass', 'Run']\n",
    "sizes = [37025, 9852]\n",
    "# only \"explode\" the 2nd slice (i.e. 'Hogs')\n",
    "explode = (0, 0)\n",
    "#add colors\n",
    "colors = ['#ff9999','#66b3ff','#99ff99','#ffcc99']\n",
    "fig1, ax1 = plt.subplots()\n",
    "ax1.pie(sizes, explode=explode, labels=labels, colors=colors, autopct='%1.1f%%',\n",
    "        shadow=True, startangle=90)\n",
    "# Equal aspect ratio ensures that pie is drawn as a circle\n",
    "ax1.axis('equal')\n",
    "plt.tight_layout()\n",
    "plt.title(\"Play Type\", bbox={'facecolor':'0.8', 'pad':5})\n",
    "\n",
    "plt.savefig('Play Type Average Comparison.png')\n",
    "plt.show()"
   ]
  },
  {
   "cell_type": "code",
   "execution_count": 274,
   "metadata": {},
   "outputs": [
    {
     "data": {
      "text/plain": [
       "0.39469249312029353"
      ]
     },
     "execution_count": 274,
     "metadata": {},
     "output_type": "execute_result"
    }
   ],
   "source": [
    "#Third Down Converted Average\n",
    "Third_Down['third_down_converted'].mean()"
   ]
  },
  {
   "cell_type": "code",
   "execution_count": 275,
   "metadata": {},
   "outputs": [
    {
     "data": {
      "text/plain": [
       "0.3638892640108035"
      ]
     },
     "execution_count": 275,
     "metadata": {},
     "output_type": "execute_result"
    }
   ],
   "source": [
    "#Pass average converted\n",
    "Third_Down[Third_Down['play_type'] == 'pass']['third_down_converted'].mean()"
   ]
  },
  {
   "cell_type": "code",
   "execution_count": 276,
   "metadata": {},
   "outputs": [
    {
     "data": {
      "text/plain": [
       "0.51045473000406"
      ]
     },
     "execution_count": 276,
     "metadata": {},
     "output_type": "execute_result"
    }
   ],
   "source": [
    "#Run average converted\n",
    "Third_Down[Third_Down['play_type'] == 'run']['third_down_converted'].mean()"
   ]
  },
  {
   "cell_type": "code",
   "execution_count": 277,
   "metadata": {},
   "outputs": [
    {
     "data": {
      "image/png": "[encoded data removed]",
      "text/plain": [
       "<Figure size 432x360 with 1 Axes>"
      ]
     },
     "metadata": {
      "needs_background": "light"
     },
     "output_type": "display_data"
    }
   ],
   "source": [
    "# Bar chart\n",
    "\n",
    "pd.DataFrame({'Play Type':['Pass', 'Run'], 'Values':[Third_Down[Third_Down['play_type'] == 'pass']['third_down_converted'].mean(),\n",
    "                                                    Third_Down[Third_Down['play_type'] == 'run']['third_down_converted'].mean()]}).plot(kind='bar', x= 'Play Type', y='Values', figsize=(6,5), rot=0, colors= colors)\n",
    "plt.xlabel(\"Play Type\", labelpad=14)\n",
    "plt.ylabel(\"Values\", labelpad=14)\n",
    "plt.title(\"Third Down Successful Conversion Average % by Play Type\", bbox={'facecolor':'0.8', 'pad':4});\n",
    "\n",
    "plt.savefig('Successful Conversion Average % by Play Type.png')"
   ]
  },
  {
   "cell_type": "code",
   "execution_count": 278,
   "metadata": {},
   "outputs": [
    {
     "data": {
      "image/png": "[encoded data removed]",
      "text/plain": [
       "<Figure size 432x360 with 1 Axes>"
      ]
     },
     "metadata": {
      "needs_background": "light"
     },
     "output_type": "display_data"
    }
   ],
   "source": [
    "# Bar chart Play-Type Yards to Go\n",
    "\n",
    "colors = ['#ff9999','#66b3ff']\n",
    "pd.DataFrame({'Play Type':['P 1Y', 'R 1Y', 'P 2-4Y', 'R 2-4Y', 'P 5-7Y', 'R 5-7Y', 'P 8Y+', 'R 8Y+'], \n",
    "              'Values':[Third_Down[(Third_Down['play_type'] == 'pass') & (Third_Down['ydstogo']<2)]['third_down_converted'].mean(),\n",
    "                        Third_Down[(Third_Down['play_type'] == 'run') & (Third_Down['ydstogo']<2)]['third_down_converted'].mean(), \n",
    "                        Third_Down[(Third_Down['play_type'] == 'pass') & (Third_Down['ydstogo']>1) & (Third_Down['ydstogo']<5)]['third_down_converted'].mean(), \n",
    "                        Third_Down[(Third_Down['play_type'] == 'run') & (Third_Down['ydstogo']>1) & (Third_Down['ydstogo']<5)]['third_down_converted'].mean(), \n",
    "                        Third_Down[(Third_Down['play_type'] == 'pass') & (Third_Down['ydstogo']>4) & (Third_Down['ydstogo']<8)]['third_down_converted'].mean(), \n",
    "                        Third_Down[(Third_Down['play_type'] == 'run') & (Third_Down['ydstogo']>4) & (Third_Down['ydstogo']<8)]['third_down_converted'].mean(), \n",
    "                        Third_Down[(Third_Down['play_type'] == 'pass') & (Third_Down['ydstogo']>7)]['third_down_converted'].mean(), \n",
    "                        Third_Down[(Third_Down['play_type'] == 'run') & (Third_Down['ydstogo']>7)]['third_down_converted'].mean()]}).plot(kind='bar', x= 'Play Type', y='Values', figsize=(6,5), rot=0, colors= colors)\n",
    "plt.xlabel(\"Play Type\", labelpad=14)\n",
    "plt.ylabel(\"Values\", labelpad=14)\n",
    "plt.title(\"Third Down Successful Conversion Average % by Play Type and Yards to Go\", bbox={'facecolor':'0.8', 'pad':4});\n",
    "\n",
    "plt.savefig('Successful Conversion Average % by Play Type and Yards to Go.png')"
   ]
  },
  {
   "cell_type": "code",
   "execution_count": 279,
   "metadata": {},
   "outputs": [
    {
     "data": {
      "image/png": "[encoded data removed]",
      "text/plain": [
       "<Figure size 432x360 with 1 Axes>"
      ]
     },
     "metadata": {
      "needs_background": "light"
     },
     "output_type": "display_data"
    }
   ],
   "source": [
    "# Bar chart Play-Type Yards to Go\n",
    "\n",
    "colors = ['#ff9999','#66b3ff']\n",
    "pd.DataFrame({'Play Type':['P 1Y', 'R 1Y', 'P 2-4Y', 'R 2-4Y', 'P 5-7Y', 'R 5-7Y', 'P 8Y+', 'R 8Y+'], \n",
    "              'Values':[Third_Down[(Third_Down['play_type'] == 'pass') & (Third_Down['ydstogo']<2)]['third_down_converted'].mean(),\n",
    "                        Third_Down[(Third_Down['play_type'] == 'run') & (Third_Down['ydstogo']<2)]['third_down_converted'].mean(), \n",
    "                        Third_Down[(Third_Down['play_type'] == 'pass') & (Third_Down['ydstogo']>1) & (Third_Down['ydstogo']<5)]['third_down_converted'].mean(), \n",
    "                        Third_Down[(Third_Down['play_type'] == 'run') & (Third_Down['ydstogo']>1) & (Third_Down['ydstogo']<5)]['third_down_converted'].mean(), \n",
    "                        Third_Down[(Third_Down['play_type'] == 'pass') & (Third_Down['ydstogo']>4) & (Third_Down['ydstogo']<8)]['third_down_converted'].mean(), \n",
    "                        Third_Down[(Third_Down['play_type'] == 'run') & (Third_Down['ydstogo']>4) & (Third_Down['ydstogo']<8)]['third_down_converted'].mean(), \n",
    "                        Third_Down[(Third_Down['play_type'] == 'pass') & (Third_Down['ydstogo']>7)]['third_down_converted'].mean(), \n",
    "                        Third_Down[(Third_Down['play_type'] == 'run') & (Third_Down['ydstogo']>7)]['third_down_converted'].mean()]}).plot(kind='bar', x= 'Play Type', y='Values', figsize=(6,5), rot=0, colors= colors)\n",
    "plt.xlabel(\"Play Type\", labelpad=14)\n",
    "plt.ylabel(\"Values\", labelpad=14)\n",
    "plt.title(\"Conversion Average % by Play Type and Yards to Go\", bbox={'facecolor':'0.8', 'pad':4});\n",
    "\n",
    "plt.savefig('Conversion Average % by Play Type and Yards to Go.png')"
   ]
  },
  {
   "cell_type": "code",
   "execution_count": 280,
   "metadata": {},
   "outputs": [
    {
     "data": {
      "image/png": "[encoded data removed]",
      "text/plain": [
       "<Figure size 432x360 with 1 Axes>"
      ]
     },
     "metadata": {
      "needs_background": "light"
     },
     "output_type": "display_data"
    }
   ],
   "source": [
    "# Bar chart Play-Type Yards to Go Over 2 min to go\n",
    "\n",
    "colors = ['#ff9999','#66b3ff']\n",
    "pd.DataFrame({'Play Type':['P 1Y', 'R 1Y', 'P 2-4Y', 'R 2-4Y', 'P 5-7Y', 'R 5-7Y', 'P 8Y+', 'R 8Y+'], \n",
    "              'Values':[Third_Down[(Third_Down['play_type'] == 'pass') & (Third_Down['ydstogo']<2) &(Third_Down['half_seconds_remaining']>119)]['third_down_converted'].mean(),\n",
    "                        Third_Down[(Third_Down['play_type'] == 'run') & (Third_Down['ydstogo']<2)&(Third_Down['half_seconds_remaining']>119)]['third_down_converted'].mean(), \n",
    "                        Third_Down[(Third_Down['play_type'] == 'pass') & (Third_Down['ydstogo']>1) & (Third_Down['ydstogo']<5)&(Third_Down['half_seconds_remaining']>119)]['third_down_converted'].mean(), \n",
    "                        Third_Down[(Third_Down['play_type'] == 'run') & (Third_Down['ydstogo']>1) & (Third_Down['ydstogo']<5)&(Third_Down['half_seconds_remaining']>119)]['third_down_converted'].mean(), \n",
    "                        Third_Down[(Third_Down['play_type'] == 'pass') & (Third_Down['ydstogo']>4) & (Third_Down['ydstogo']<8)&(Third_Down['half_seconds_remaining']>119)]['third_down_converted'].mean(), \n",
    "                        Third_Down[(Third_Down['play_type'] == 'run') & (Third_Down['ydstogo']>4) & (Third_Down['ydstogo']<8)&(Third_Down['half_seconds_remaining']>119)]['third_down_converted'].mean(), \n",
    "                        Third_Down[(Third_Down['play_type'] == 'pass') & (Third_Down['ydstogo']>7)&(Third_Down['half_seconds_remaining']>119)]['third_down_converted'].mean(), \n",
    "                        Third_Down[(Third_Down['play_type'] == 'run') & (Third_Down['ydstogo']>7)&(Third_Down['half_seconds_remaining']>119)]['third_down_converted'].mean()]}).plot(kind='bar', x= 'Play Type', y='Values', figsize=(6,5), rot=0, colors= colors)\n",
    "plt.xlabel(\"Play Type\", labelpad=14)\n",
    "plt.ylabel(\"Values\", labelpad=14)\n",
    "plt.title(\"Over 2 min Left\", bbox={'facecolor':'0.8', 'pad':4});\n",
    "\n",
    "plt.savefig('Over 2 min Left.png')"
   ]
  },
  {
   "cell_type": "code",
   "execution_count": 281,
   "metadata": {},
   "outputs": [
    {
     "data": {
      "image/png": "[encoded data removed]",
      "text/plain": [
       "<Figure size 432x360 with 1 Axes>"
      ]
     },
     "metadata": {
      "needs_background": "light"
     },
     "output_type": "display_data"
    }
   ],
   "source": [
    "# Bar chart Play-Type Yards to Go Over 2 min to go with just one score away\n",
    "\n",
    "colors = ['#ff9999','#66b3ff']\n",
    "pd.DataFrame({'Play Type':['P 1Y', 'R 1Y', 'P 2-4Y', 'R 2-4Y', 'P 5-7Y', 'R 5-7Y', 'P 8Y+', 'R 8Y+'], \n",
    "              'Values':[Third_Down[(Third_Down['play_type'] == 'pass')&(Third_Down['ydstogo']<2)&(Third_Down['half_seconds_remaining']>119)&(Third_Down['score_differential']<9)]['third_down_converted'].mean(),\n",
    "                        Third_Down[(Third_Down['play_type'] == 'run')&(Third_Down['ydstogo']<2)&(Third_Down['half_seconds_remaining']>119)&(Third_Down['score_differential']<9)]['third_down_converted'].mean(), \n",
    "                        Third_Down[(Third_Down['play_type'] == 'pass')&(Third_Down['ydstogo']>1)&(Third_Down['ydstogo']<5)&(Third_Down['half_seconds_remaining']>119)&(Third_Down['score_differential']<9)]['third_down_converted'].mean(), \n",
    "                        Third_Down[(Third_Down['play_type'] == 'run')&(Third_Down['ydstogo']>1)&(Third_Down['ydstogo']<5)&(Third_Down['half_seconds_remaining']>119)&(Third_Down['score_differential']<9)]['third_down_converted'].mean(), \n",
    "                        Third_Down[(Third_Down['play_type'] == 'pass')&(Third_Down['ydstogo']>4)&(Third_Down['ydstogo']<8)&(Third_Down['half_seconds_remaining']>119)&(Third_Down['score_differential']<9)]['third_down_converted'].mean(), \n",
    "                        Third_Down[(Third_Down['play_type'] == 'run')&(Third_Down['ydstogo']>4)&(Third_Down['ydstogo']<8)&(Third_Down['half_seconds_remaining']>119)&(Third_Down['score_differential']<9)]['third_down_converted'].mean(), \n",
    "                        Third_Down[(Third_Down['play_type'] == 'pass')&(Third_Down['ydstogo']>7)&(Third_Down['half_seconds_remaining']>119)&(Third_Down['score_differential']<9)]['third_down_converted'].mean(), \n",
    "                        Third_Down[(Third_Down['play_type'] == 'run')&(Third_Down['ydstogo']>7)&(Third_Down['half_seconds_remaining']>119)&(Third_Down['score_differential']<9)]['third_down_converted'].mean()]}).plot(kind='bar', x= 'Play Type', y='Values', figsize=(6,5), rot=0, colors= colors)\n",
    "plt.xlabel(\"Play Type\", labelpad=14)\n",
    "plt.ylabel(\"Values\", labelpad=14)\n",
    "plt.title(\"Over 2 min Left and one score away\", bbox={'facecolor':'0.8', 'pad':4});\n",
    "\n",
    "plt.savefig('Over 2 min Left and one score away.png')"
   ]
  },
  {
   "cell_type": "code",
   "execution_count": 282,
   "metadata": {},
   "outputs": [
    {
     "data": {
      "image/png": "[encoded data removed]",
      "text/plain": [
       "<Figure size 432x360 with 1 Axes>"
      ]
     },
     "metadata": {
      "needs_background": "light"
     },
     "output_type": "display_data"
    }
   ],
   "source": [
    "# Bar chart Play-Type Yards to Go Under 2 min to go with just one score away\n",
    "\n",
    "colors = ['#ff9999','#66b3ff']\n",
    "pd.DataFrame({'Play Type':['P 1Y', 'R 1Y', 'P 2-4Y', 'R 2-4Y', 'P 5-7Y', 'R 5-7Y', 'P 8Y+', 'R 8Y+'], \n",
    "              'Values':[Third_Down[(Third_Down['play_type'] == 'pass')&(Third_Down['ydstogo']<2)&(Third_Down['half_seconds_remaining']<120)&(Third_Down['score_differential']<9)]['third_down_converted'].mean(),\n",
    "                        Third_Down[(Third_Down['play_type'] == 'run')&(Third_Down['ydstogo']<2)&(Third_Down['half_seconds_remaining']<120)&(Third_Down['score_differential']<9)]['third_down_converted'].mean(), \n",
    "                        Third_Down[(Third_Down['play_type'] == 'pass')&(Third_Down['ydstogo']>1)&(Third_Down['ydstogo']<5)&(Third_Down['half_seconds_remaining']<120)&(Third_Down['score_differential']<9)]['third_down_converted'].mean(), \n",
    "                        Third_Down[(Third_Down['play_type'] == 'run')&(Third_Down['ydstogo']>1)&(Third_Down['ydstogo']<5)&(Third_Down['half_seconds_remaining']<120)&(Third_Down['score_differential']<9)]['third_down_converted'].mean(), \n",
    "                        Third_Down[(Third_Down['play_type'] == 'pass')&(Third_Down['ydstogo']>4)&(Third_Down['ydstogo']<8)&(Third_Down['half_seconds_remaining']<120)&(Third_Down['score_differential']<9)]['third_down_converted'].mean(), \n",
    "                        Third_Down[(Third_Down['play_type'] == 'run')&(Third_Down['ydstogo']>4)&(Third_Down['ydstogo']<8)&(Third_Down['half_seconds_remaining']<120)&(Third_Down['score_differential']<9)]['third_down_converted'].mean(), \n",
    "                        Third_Down[(Third_Down['play_type'] == 'pass')&(Third_Down['ydstogo']>7)&(Third_Down['half_seconds_remaining']<120)&(Third_Down['score_differential']<9)]['third_down_converted'].mean(), \n",
    "                        Third_Down[(Third_Down['play_type'] == 'run')&(Third_Down['ydstogo']>7)&(Third_Down['half_seconds_remaining']<120)&(Third_Down['score_differential']<9)]['third_down_converted'].mean()]}).plot(kind='bar', x= 'Play Type', y='Values', figsize=(6,5), rot=0, colors= colors)\n",
    "plt.xlabel(\"Play Type\", labelpad=14)\n",
    "plt.ylabel(\"Values\", labelpad=14)\n",
    "plt.title(\"Under 2 min Left and one possesion score away\", bbox={'facecolor':'0.8', 'pad':4});\n",
    "\n",
    "plt.savefig('Under 2 min Left and one possesion score away.png')"
   ]
  },
  {
   "cell_type": "code",
   "execution_count": 283,
   "metadata": {},
   "outputs": [
    {
     "data": {
      "image/png": "[encoded data removed]",
      "text/plain": [
       "<Figure size 432x360 with 1 Axes>"
      ]
     },
     "metadata": {
      "needs_background": "light"
     },
     "output_type": "display_data"
    }
   ],
   "source": [
    "# Bar chart Play-Type Yards to Go Under 2 min to go with just two scores away\n",
    "\n",
    "colors = ['#ff9999','#66b3ff']\n",
    "pd.DataFrame({'Play Type':['P 1Y', 'R 1Y', 'P 2-4Y', 'R 2-4Y', 'P 5-7Y', 'R 5-7Y', 'P 8Y+', 'R 8Y+'], \n",
    "              'Values':[Third_Down[(Third_Down['play_type'] == 'pass')&(Third_Down['ydstogo']<2)&(Third_Down['half_seconds_remaining']<120)&(Third_Down['score_differential']>8)&(Third_Down['score_differential']<17)]['third_down_converted'].mean(),\n",
    "                        Third_Down[(Third_Down['play_type'] == 'run')&(Third_Down['ydstogo']<2)&(Third_Down['half_seconds_remaining']<120)&(Third_Down['score_differential']>8)&(Third_Down['score_differential']<17)]['third_down_converted'].mean(), \n",
    "                        Third_Down[(Third_Down['play_type'] == 'pass')&(Third_Down['ydstogo']>1)&(Third_Down['ydstogo']<5)&(Third_Down['half_seconds_remaining']<120)&(Third_Down['score_differential']>8)&(Third_Down['score_differential']<17)]['third_down_converted'].mean(), \n",
    "                        Third_Down[(Third_Down['play_type'] == 'run')&(Third_Down['ydstogo']>1)&(Third_Down['ydstogo']<5)&(Third_Down['half_seconds_remaining']<120)&(Third_Down['score_differential']>8)&(Third_Down['score_differential']<17)]['third_down_converted'].mean(), \n",
    "                        Third_Down[(Third_Down['play_type'] == 'pass')&(Third_Down['ydstogo']>4)&(Third_Down['ydstogo']<8)&(Third_Down['half_seconds_remaining']<120)&(Third_Down['score_differential']>8)&(Third_Down['score_differential']<17)]['third_down_converted'].mean(), \n",
    "                        Third_Down[(Third_Down['play_type'] == 'run')&(Third_Down['ydstogo']>4)&(Third_Down['ydstogo']<8)&(Third_Down['half_seconds_remaining']<120)&(Third_Down['score_differential']>8)&(Third_Down['score_differential']<17)]['third_down_converted'].mean(), \n",
    "                        Third_Down[(Third_Down['play_type'] == 'pass')&(Third_Down['ydstogo']>7)&(Third_Down['half_seconds_remaining']<120)&(Third_Down['score_differential']>8)&(Third_Down['score_differential']<17)]['third_down_converted'].mean(), \n",
    "                        Third_Down[(Third_Down['play_type'] == 'run')&(Third_Down['ydstogo']>7)&(Third_Down['half_seconds_remaining']<120)&(Third_Down['score_differential']>8)&(Third_Down['score_differential']<17)]['third_down_converted'].mean()]}).plot(kind='bar', x= 'Play Type', y='Values', figsize=(6,5), rot=0, colors= colors)\n",
    "plt.xlabel(\"Play Type\", labelpad=14)\n",
    "plt.ylabel(\"Values\", labelpad=14)\n",
    "plt.title(\"Under 2 min Left and two possesions score away\", bbox={'facecolor':'0.8', 'pad':4});\n",
    "\n",
    "plt.savefig('Under 2 min Left and two possesions score away.png')"
   ]
  },
  {
   "cell_type": "code",
   "execution_count": 284,
   "metadata": {},
   "outputs": [
    {
     "data": {
      "image/png": "[encoded data removed]",
      "text/plain": [
       "<Figure size 432x360 with 1 Axes>"
      ]
     },
     "metadata": {
      "needs_background": "light"
     },
     "output_type": "display_data"
    }
   ],
   "source": [
    "# Bar chart Play-Type Yards to Go Over 2 min to go with just two possesion scores away\n",
    "\n",
    "colors = ['#ff9999','#66b3ff']\n",
    "pd.DataFrame({'Play Type':['P 1Y', 'R 1Y', 'P 2-4Y', 'R 2-4Y', 'P 5-7Y', 'R 5-7Y', 'P 8Y+', 'R 8Y+'], \n",
    "              'Values':[Third_Down[(Third_Down['play_type'] == 'pass')&(Third_Down['ydstogo']<2)&(Third_Down['half_seconds_remaining']>119)&(Third_Down['score_differential']>8)&(Third_Down['score_differential']<17)]['third_down_converted'].mean(),\n",
    "                        Third_Down[(Third_Down['play_type'] == 'run')&(Third_Down['ydstogo']<2)&(Third_Down['half_seconds_remaining']>119)&(Third_Down['score_differential']>8)&(Third_Down['score_differential']<17)]['third_down_converted'].mean(), \n",
    "                        Third_Down[(Third_Down['play_type'] == 'pass')&(Third_Down['ydstogo']>1)&(Third_Down['ydstogo']<5)&(Third_Down['half_seconds_remaining']>119)&(Third_Down['score_differential']>8)&(Third_Down['score_differential']<17)]['third_down_converted'].mean(), \n",
    "                        Third_Down[(Third_Down['play_type'] == 'run')&(Third_Down['ydstogo']>1)&(Third_Down['ydstogo']<5)&(Third_Down['half_seconds_remaining']>119)&(Third_Down['score_differential']>8)&(Third_Down['score_differential']<17)]['third_down_converted'].mean(), \n",
    "                        Third_Down[(Third_Down['play_type'] == 'pass')&(Third_Down['ydstogo']>4)&(Third_Down['ydstogo']<8)&(Third_Down['half_seconds_remaining']>119)&(Third_Down['score_differential']>8)&(Third_Down['score_differential']<17)]['third_down_converted'].mean(), \n",
    "                        Third_Down[(Third_Down['play_type'] == 'run')&(Third_Down['ydstogo']>4)&(Third_Down['ydstogo']<8)&(Third_Down['half_seconds_remaining']>119)&(Third_Down['score_differential']>8)&(Third_Down['score_differential']<17)]['third_down_converted'].mean(), \n",
    "                        Third_Down[(Third_Down['play_type'] == 'pass')&(Third_Down['ydstogo']>7)&(Third_Down['half_seconds_remaining']>119)&(Third_Down['score_differential']>8)&(Third_Down['score_differential']<17)]['third_down_converted'].mean(), \n",
    "                        Third_Down[(Third_Down['play_type'] == 'run')&(Third_Down['ydstogo']>7)&(Third_Down['half_seconds_remaining']>119)&(Third_Down['score_differential']>8)&(Third_Down['score_differential']<17)]['third_down_converted'].mean()]}).plot(kind='bar', x= 'Play Type', y='Values', figsize=(6,5), rot=0, colors= colors)\n",
    "plt.xlabel(\"Play Type\", labelpad=14)\n",
    "plt.ylabel(\"Values\", labelpad=14)\n",
    "plt.title(\"Over 2 min Left and two possesions score away\", bbox={'facecolor':'0.8', 'pad':4});\n",
    "\n",
    "plt.savefig('Over 2 min Left and two possesions score away.png')"
   ]
  },
  {
   "cell_type": "code",
   "execution_count": 285,
   "metadata": {},
   "outputs": [
    {
     "data": {
      "image/png": "[encoded data removed]",
      "text/plain": [
       "<Figure size 432x360 with 1 Axes>"
      ]
     },
     "metadata": {
      "needs_background": "light"
     },
     "output_type": "display_data"
    }
   ],
   "source": [
    "# Bar chart Play-Type Yards to Go Over 2 min to go with just two possesion scores away & TD_Prob >10%\n",
    "\n",
    "colors = ['#ff9999','#66b3ff']\n",
    "pd.DataFrame({'Play Type':['P 1Y', 'R 1Y', 'P 2-4Y', 'R 2-4Y', 'P 5-7Y', 'R 5-7Y', 'P 8Y+', 'R 8Y+'], \n",
    "              'Values':[Third_Down[(Third_Down['play_type'] == 'pass')&(Third_Down['ydstogo']<2)&(Third_Down['half_seconds_remaining']>119)&(Third_Down['score_differential']>8)&(Third_Down['score_differential']<17)]['third_down_converted'].mean(),\n",
    "                        Third_Down[(Third_Down['play_type'] == 'run')&(Third_Down['ydstogo']<2)&(Third_Down['half_seconds_remaining']>119)&(Third_Down['score_differential']>8)&(Third_Down['score_differential']<17)]['third_down_converted'].mean(), \n",
    "                        Third_Down[(Third_Down['play_type'] == 'pass')&(Third_Down['ydstogo']>1)&(Third_Down['ydstogo']<5)&(Third_Down['half_seconds_remaining']>119)&(Third_Down['score_differential']>8)&(Third_Down['score_differential']<17)]['third_down_converted'].mean(), \n",
    "                        Third_Down[(Third_Down['play_type'] == 'run')&(Third_Down['ydstogo']>1)&(Third_Down['ydstogo']<5)&(Third_Down['half_seconds_remaining']>119)&(Third_Down['score_differential']>8)&(Third_Down['score_differential']<17)]['third_down_converted'].mean(), \n",
    "                        Third_Down[(Third_Down['play_type'] == 'pass')&(Third_Down['ydstogo']>4)&(Third_Down['ydstogo']<8)&(Third_Down['half_seconds_remaining']>119)&(Third_Down['score_differential']>8)&(Third_Down['score_differential']<17)]['third_down_converted'].mean(), \n",
    "                        Third_Down[(Third_Down['play_type'] == 'run')&(Third_Down['ydstogo']>4)&(Third_Down['ydstogo']<8)&(Third_Down['half_seconds_remaining']>119)&(Third_Down['score_differential']>8)&(Third_Down['score_differential']<17)]['third_down_converted'].mean(), \n",
    "                        Third_Down[(Third_Down['play_type'] == 'pass')&(Third_Down['ydstogo']>7)&(Third_Down['half_seconds_remaining']>119)&(Third_Down['score_differential']>8)&(Third_Down['score_differential']<17)]['third_down_converted'].mean(), \n",
    "                        Third_Down[(Third_Down['play_type'] == 'run')&(Third_Down['ydstogo']>7)&(Third_Down['half_seconds_remaining']>119)&(Third_Down['score_differential']>8)&(Third_Down['score_differential']<17)]['third_down_converted'].mean()]}).plot(kind='bar', x= 'Play Type', y='Values', figsize=(6,5), rot=0, colors= colors)\n",
    "plt.xlabel(\"Play Type\", labelpad=14)\n",
    "plt.ylabel(\"Values\", labelpad=14)\n",
    "plt.title(\"Over 2 min Left and two possesions score away\", bbox={'facecolor':'0.8', 'pad':4});\n",
    "\n",
    "plt.savefig('Over 2 min Left and two possesions score away.png')"
   ]
  },
  {
   "cell_type": "code",
   "execution_count": 286,
   "metadata": {},
   "outputs": [
    {
     "data": {
      "image/png": "[encoded data removed]",
      "text/plain": [
       "<Figure size 432x360 with 1 Axes>"
      ]
     },
     "metadata": {
      "needs_background": "light"
     },
     "output_type": "display_data"
    }
   ],
   "source": [
    "# Bar chart Play-Type Yards to Go Over 2 min to go with just one possesion score away\n",
    "\n",
    "colors = ['#ff9999','#66b3ff']\n",
    "pd.DataFrame({'TD Probability':['P <10Y', 'R <10Y', 'P 10-20Y', 'R 10-20Y', 'P 21-60Y', 'R 21-60Y', 'P 61Y+', 'R 61Y+'], \n",
    "              'Values':[Third_Down[(Third_Down['play_type'] == 'pass')&(Third_Down['yardline_100']<10)&(Third_Down['half_seconds_remaining']>20)]['td_prob'].mean(),\n",
    "                        Third_Down[(Third_Down['play_type'] == 'run')&(Third_Down['yardline_100']<10)&(Third_Down['half_seconds_remaining']>20)]['td_prob'].mean(), \n",
    "                        Third_Down[(Third_Down['play_type'] == 'pass')&(Third_Down['yardline_100']>9)&(Third_Down['yardline_100']<31)&(Third_Down['half_seconds_remaining']>20)]['td_prob'].mean(), \n",
    "                        Third_Down[(Third_Down['play_type'] == 'run')&(Third_Down['yardline_100']>9)&(Third_Down['yardline_100']<31)&(Third_Down['half_seconds_remaining']>20)]['td_prob'].mean(), \n",
    "                        Third_Down[(Third_Down['play_type'] == 'pass')&(Third_Down['yardline_100']>30)&(Third_Down['yardline_100']<51)&(Third_Down['half_seconds_remaining']>20)]['td_prob'].mean(), \n",
    "                        Third_Down[(Third_Down['play_type'] == 'run')&(Third_Down['yardline_100']>30)&(Third_Down['yardline_100']<51)&(Third_Down['half_seconds_remaining']>20)]['td_prob'].mean(), \n",
    "                        Third_Down[(Third_Down['play_type'] == 'pass')&(Third_Down['yardline_100']>50)&(Third_Down['half_seconds_remaining']>20)]['td_prob'].mean(), \n",
    "                        Third_Down[(Third_Down['play_type'] == 'run')&(Third_Down['yardline_100']>50)&(Third_Down['half_seconds_remaining']>20)]['td_prob'].mean()]}).plot(kind='bar', x= 'TD Probability', y='Values', figsize=(6,5), rot=0, colors= colors)\n",
    "plt.xlabel(\"TD Probability\", labelpad=14)\n",
    "plt.ylabel(\"Values\", labelpad=14)\n",
    "plt.title(\"Prob of scoring a TD on last play of the game\", bbox={'facecolor':'0.8', 'pad':4});\n",
    "\n",
    "plt.savefig('Prob of scoring a TD on last play of the game.png')"
   ]
  },
  {
   "cell_type": "code",
   "execution_count": 287,
   "metadata": {},
   "outputs": [
    {
     "data": {
      "text/html": [
       "<div>\n",
       "<style scoped>\n",
       "    .dataframe tbody tr th:only-of-type {\n",
       "        vertical-align: middle;\n",
       "    }\n",
       "\n",
       "    .dataframe tbody tr th {\n",
       "        vertical-align: top;\n",
       "    }\n",
       "\n",
       "    .dataframe thead th {\n",
       "        text-align: right;\n",
       "    }\n",
       "</style>\n",
       "<table border=\"1\" class=\"dataframe\">\n",
       "  <thead>\n",
       "    <tr style=\"text-align: right;\">\n",
       "      <th></th>\n",
       "      <th>Unnamed: 0</th>\n",
       "      <th>play_id</th>\n",
       "      <th>game_id</th>\n",
       "      <th>shotgun</th>\n",
       "      <th>no_huddle</th>\n",
       "      <th>ydstogo</th>\n",
       "      <th>yardline_100</th>\n",
       "      <th>play_type</th>\n",
       "      <th>half_seconds_remaining</th>\n",
       "      <th>down</th>\n",
       "      <th>pass_length</th>\n",
       "      <th>pass_length.1</th>\n",
       "      <th>run_location</th>\n",
       "      <th>score_differential</th>\n",
       "      <th>fg_prob</th>\n",
       "      <th>td_prob</th>\n",
       "      <th>ep</th>\n",
       "      <th>third_down_converted</th>\n",
       "    </tr>\n",
       "  </thead>\n",
       "  <tbody>\n",
       "    <tr>\n",
       "      <th>894</th>\n",
       "      <td>894</td>\n",
       "      <td>1908</td>\n",
       "      <td>2018093007</td>\n",
       "      <td>1</td>\n",
       "      <td>0</td>\n",
       "      <td>3</td>\n",
       "      <td>10.0</td>\n",
       "      <td>run</td>\n",
       "      <td>11.0</td>\n",
       "      <td>3.0</td>\n",
       "      <td>NaN</td>\n",
       "      <td>NaN</td>\n",
       "      <td>middle</td>\n",
       "      <td>4.0</td>\n",
       "      <td>0.496568</td>\n",
       "      <td>0.206320</td>\n",
       "      <td>2.824842</td>\n",
       "      <td>0.0</td>\n",
       "    </tr>\n",
       "    <tr>\n",
       "      <th>5267</th>\n",
       "      <td>5267</td>\n",
       "      <td>1781</td>\n",
       "      <td>2017092412</td>\n",
       "      <td>1</td>\n",
       "      <td>0</td>\n",
       "      <td>19</td>\n",
       "      <td>21.0</td>\n",
       "      <td>run</td>\n",
       "      <td>16.0</td>\n",
       "      <td>3.0</td>\n",
       "      <td>NaN</td>\n",
       "      <td>NaN</td>\n",
       "      <td>middle</td>\n",
       "      <td>-10.0</td>\n",
       "      <td>0.450985</td>\n",
       "      <td>0.143767</td>\n",
       "      <td>2.171886</td>\n",
       "      <td>0.0</td>\n",
       "    </tr>\n",
       "    <tr>\n",
       "      <th>7006</th>\n",
       "      <td>7006</td>\n",
       "      <td>1828</td>\n",
       "      <td>2017111205</td>\n",
       "      <td>1</td>\n",
       "      <td>0</td>\n",
       "      <td>28</td>\n",
       "      <td>30.0</td>\n",
       "      <td>run</td>\n",
       "      <td>19.0</td>\n",
       "      <td>3.0</td>\n",
       "      <td>NaN</td>\n",
       "      <td>NaN</td>\n",
       "      <td>middle</td>\n",
       "      <td>-3.0</td>\n",
       "      <td>0.378244</td>\n",
       "      <td>0.126469</td>\n",
       "      <td>1.771359</td>\n",
       "      <td>0.0</td>\n",
       "    </tr>\n",
       "    <tr>\n",
       "      <th>7597</th>\n",
       "      <td>7597</td>\n",
       "      <td>2471</td>\n",
       "      <td>2017112608</td>\n",
       "      <td>1</td>\n",
       "      <td>0</td>\n",
       "      <td>5</td>\n",
       "      <td>25.0</td>\n",
       "      <td>run</td>\n",
       "      <td>14.0</td>\n",
       "      <td>3.0</td>\n",
       "      <td>NaN</td>\n",
       "      <td>NaN</td>\n",
       "      <td>middle</td>\n",
       "      <td>-7.0</td>\n",
       "      <td>0.385295</td>\n",
       "      <td>0.178964</td>\n",
       "      <td>2.228274</td>\n",
       "      <td>1.0</td>\n",
       "    </tr>\n",
       "    <tr>\n",
       "      <th>20259</th>\n",
       "      <td>20259</td>\n",
       "      <td>2126</td>\n",
       "      <td>2014101600</td>\n",
       "      <td>0</td>\n",
       "      <td>0</td>\n",
       "      <td>25</td>\n",
       "      <td>27.0</td>\n",
       "      <td>run</td>\n",
       "      <td>11.0</td>\n",
       "      <td>3.0</td>\n",
       "      <td>NaN</td>\n",
       "      <td>NaN</td>\n",
       "      <td>left</td>\n",
       "      <td>2.0</td>\n",
       "      <td>0.398185</td>\n",
       "      <td>0.130572</td>\n",
       "      <td>1.883826</td>\n",
       "      <td>0.0</td>\n",
       "    </tr>\n",
       "    <tr>\n",
       "      <th>22253</th>\n",
       "      <td>22253</td>\n",
       "      <td>1879</td>\n",
       "      <td>2014120702</td>\n",
       "      <td>0</td>\n",
       "      <td>0</td>\n",
       "      <td>14</td>\n",
       "      <td>14.0</td>\n",
       "      <td>run</td>\n",
       "      <td>17.0</td>\n",
       "      <td>3.0</td>\n",
       "      <td>NaN</td>\n",
       "      <td>NaN</td>\n",
       "      <td>left</td>\n",
       "      <td>-14.0</td>\n",
       "      <td>0.596920</td>\n",
       "      <td>0.163942</td>\n",
       "      <td>2.868795</td>\n",
       "      <td>0.0</td>\n",
       "    </tr>\n",
       "    <tr>\n",
       "      <th>23626</th>\n",
       "      <td>23626</td>\n",
       "      <td>2507</td>\n",
       "      <td>2013091200</td>\n",
       "      <td>0</td>\n",
       "      <td>0</td>\n",
       "      <td>10</td>\n",
       "      <td>25.0</td>\n",
       "      <td>run</td>\n",
       "      <td>11.0</td>\n",
       "      <td>3.0</td>\n",
       "      <td>NaN</td>\n",
       "      <td>NaN</td>\n",
       "      <td>middle</td>\n",
       "      <td>10.0</td>\n",
       "      <td>0.398231</td>\n",
       "      <td>0.157117</td>\n",
       "      <td>2.100759</td>\n",
       "      <td>0.0</td>\n",
       "    </tr>\n",
       "    <tr>\n",
       "      <th>23678</th>\n",
       "      <td>23678</td>\n",
       "      <td>4327</td>\n",
       "      <td>2013091508</td>\n",
       "      <td>0</td>\n",
       "      <td>0</td>\n",
       "      <td>7</td>\n",
       "      <td>28.0</td>\n",
       "      <td>run</td>\n",
       "      <td>14.0</td>\n",
       "      <td>3.0</td>\n",
       "      <td>NaN</td>\n",
       "      <td>NaN</td>\n",
       "      <td>middle</td>\n",
       "      <td>0.0</td>\n",
       "      <td>0.366737</td>\n",
       "      <td>0.164832</td>\n",
       "      <td>2.051706</td>\n",
       "      <td>0.0</td>\n",
       "    </tr>\n",
       "    <tr>\n",
       "      <th>24343</th>\n",
       "      <td>24343</td>\n",
       "      <td>1972</td>\n",
       "      <td>2013092903</td>\n",
       "      <td>1</td>\n",
       "      <td>0</td>\n",
       "      <td>9</td>\n",
       "      <td>29.0</td>\n",
       "      <td>run</td>\n",
       "      <td>10.0</td>\n",
       "      <td>3.0</td>\n",
       "      <td>NaN</td>\n",
       "      <td>NaN</td>\n",
       "      <td>middle</td>\n",
       "      <td>14.0</td>\n",
       "      <td>0.360555</td>\n",
       "      <td>0.155135</td>\n",
       "      <td>1.955916</td>\n",
       "      <td>0.0</td>\n",
       "    </tr>\n",
       "    <tr>\n",
       "      <th>25015</th>\n",
       "      <td>25015</td>\n",
       "      <td>1941</td>\n",
       "      <td>2013101312</td>\n",
       "      <td>1</td>\n",
       "      <td>0</td>\n",
       "      <td>10</td>\n",
       "      <td>17.0</td>\n",
       "      <td>run</td>\n",
       "      <td>9.0</td>\n",
       "      <td>3.0</td>\n",
       "      <td>NaN</td>\n",
       "      <td>NaN</td>\n",
       "      <td>middle</td>\n",
       "      <td>-10.0</td>\n",
       "      <td>0.467914</td>\n",
       "      <td>0.163141</td>\n",
       "      <td>2.391314</td>\n",
       "      <td>0.0</td>\n",
       "    </tr>\n",
       "    <tr>\n",
       "      <th>29225</th>\n",
       "      <td>29225</td>\n",
       "      <td>4115</td>\n",
       "      <td>2012100701</td>\n",
       "      <td>0</td>\n",
       "      <td>0</td>\n",
       "      <td>8</td>\n",
       "      <td>18.0</td>\n",
       "      <td>run</td>\n",
       "      <td>14.0</td>\n",
       "      <td>3.0</td>\n",
       "      <td>NaN</td>\n",
       "      <td>NaN</td>\n",
       "      <td>middle</td>\n",
       "      <td>-1.0</td>\n",
       "      <td>0.456869</td>\n",
       "      <td>0.170480</td>\n",
       "      <td>2.407601</td>\n",
       "      <td>0.0</td>\n",
       "    </tr>\n",
       "    <tr>\n",
       "      <th>30090</th>\n",
       "      <td>30090</td>\n",
       "      <td>1947</td>\n",
       "      <td>2012102805</td>\n",
       "      <td>1</td>\n",
       "      <td>0</td>\n",
       "      <td>8</td>\n",
       "      <td>26.0</td>\n",
       "      <td>run</td>\n",
       "      <td>13.0</td>\n",
       "      <td>3.0</td>\n",
       "      <td>NaN</td>\n",
       "      <td>NaN</td>\n",
       "      <td>right</td>\n",
       "      <td>14.0</td>\n",
       "      <td>0.386107</td>\n",
       "      <td>0.163048</td>\n",
       "      <td>2.104892</td>\n",
       "      <td>0.0</td>\n",
       "    </tr>\n",
       "    <tr>\n",
       "      <th>44579</th>\n",
       "      <td>44579</td>\n",
       "      <td>2008</td>\n",
       "      <td>2009111507</td>\n",
       "      <td>1</td>\n",
       "      <td>0</td>\n",
       "      <td>10</td>\n",
       "      <td>10.0</td>\n",
       "      <td>run</td>\n",
       "      <td>16.0</td>\n",
       "      <td>3.0</td>\n",
       "      <td>NaN</td>\n",
       "      <td>NaN</td>\n",
       "      <td>middle</td>\n",
       "      <td>0.0</td>\n",
       "      <td>0.575477</td>\n",
       "      <td>0.199040</td>\n",
       "      <td>3.052074</td>\n",
       "      <td>0.0</td>\n",
       "    </tr>\n",
       "    <tr>\n",
       "      <th>46812</th>\n",
       "      <td>46812</td>\n",
       "      <td>2041</td>\n",
       "      <td>2010010313</td>\n",
       "      <td>1</td>\n",
       "      <td>0</td>\n",
       "      <td>5</td>\n",
       "      <td>15.0</td>\n",
       "      <td>run</td>\n",
       "      <td>18.0</td>\n",
       "      <td>3.0</td>\n",
       "      <td>NaN</td>\n",
       "      <td>NaN</td>\n",
       "      <td>middle</td>\n",
       "      <td>4.0</td>\n",
       "      <td>0.473248</td>\n",
       "      <td>0.188309</td>\n",
       "      <td>2.601455</td>\n",
       "      <td>0.0</td>\n",
       "    </tr>\n",
       "  </tbody>\n",
       "</table>\n",
       "</div>"
      ],
      "text/plain": [
       "       Unnamed: 0  play_id     game_id  shotgun  no_huddle  ydstogo  \\\n",
       "894           894     1908  2018093007        1          0        3   \n",
       "5267         5267     1781  2017092412        1          0       19   \n",
       "7006         7006     1828  2017111205        1          0       28   \n",
       "7597         7597     2471  2017112608        1          0        5   \n",
       "20259       20259     2126  2014101600        0          0       25   \n",
       "22253       22253     1879  2014120702        0          0       14   \n",
       "23626       23626     2507  2013091200        0          0       10   \n",
       "23678       23678     4327  2013091508        0          0        7   \n",
       "24343       24343     1972  2013092903        1          0        9   \n",
       "25015       25015     1941  2013101312        1          0       10   \n",
       "29225       29225     4115  2012100701        0          0        8   \n",
       "30090       30090     1947  2012102805        1          0        8   \n",
       "44579       44579     2008  2009111507        1          0       10   \n",
       "46812       46812     2041  2010010313        1          0        5   \n",
       "\n",
       "       yardline_100 play_type  half_seconds_remaining  down pass_length  \\\n",
       "894            10.0       run                    11.0   3.0         NaN   \n",
       "5267           21.0       run                    16.0   3.0         NaN   \n",
       "7006           30.0       run                    19.0   3.0         NaN   \n",
       "7597           25.0       run                    14.0   3.0         NaN   \n",
       "20259          27.0       run                    11.0   3.0         NaN   \n",
       "22253          14.0       run                    17.0   3.0         NaN   \n",
       "23626          25.0       run                    11.0   3.0         NaN   \n",
       "23678          28.0       run                    14.0   3.0         NaN   \n",
       "24343          29.0       run                    10.0   3.0         NaN   \n",
       "25015          17.0       run                     9.0   3.0         NaN   \n",
       "29225          18.0       run                    14.0   3.0         NaN   \n",
       "30090          26.0       run                    13.0   3.0         NaN   \n",
       "44579          10.0       run                    16.0   3.0         NaN   \n",
       "46812          15.0       run                    18.0   3.0         NaN   \n",
       "\n",
       "      pass_length.1 run_location  score_differential   fg_prob   td_prob  \\\n",
       "894             NaN       middle                 4.0  0.496568  0.206320   \n",
       "5267            NaN       middle               -10.0  0.450985  0.143767   \n",
       "7006            NaN       middle                -3.0  0.378244  0.126469   \n",
       "7597            NaN       middle                -7.0  0.385295  0.178964   \n",
       "20259           NaN         left                 2.0  0.398185  0.130572   \n",
       "22253           NaN         left               -14.0  0.596920  0.163942   \n",
       "23626           NaN       middle                10.0  0.398231  0.157117   \n",
       "23678           NaN       middle                 0.0  0.366737  0.164832   \n",
       "24343           NaN       middle                14.0  0.360555  0.155135   \n",
       "25015           NaN       middle               -10.0  0.467914  0.163141   \n",
       "29225           NaN       middle                -1.0  0.456869  0.170480   \n",
       "30090           NaN        right                14.0  0.386107  0.163048   \n",
       "44579           NaN       middle                 0.0  0.575477  0.199040   \n",
       "46812           NaN       middle                 4.0  0.473248  0.188309   \n",
       "\n",
       "             ep  third_down_converted  \n",
       "894    2.824842                   0.0  \n",
       "5267   2.171886                   0.0  \n",
       "7006   1.771359                   0.0  \n",
       "7597   2.228274                   1.0  \n",
       "20259  1.883826                   0.0  \n",
       "22253  2.868795                   0.0  \n",
       "23626  2.100759                   0.0  \n",
       "23678  2.051706                   0.0  \n",
       "24343  1.955916                   0.0  \n",
       "25015  2.391314                   0.0  \n",
       "29225  2.407601                   0.0  \n",
       "30090  2.104892                   0.0  \n",
       "44579  3.052074                   0.0  \n",
       "46812  2.601455                   0.0  "
      ]
     },
     "execution_count": 287,
     "metadata": {},
     "output_type": "execute_result"
    }
   ],
   "source": [
    "TD_10_20Y = Third_Down[(Third_Down['play_type'] == 'run')&(Third_Down['yardline_100']>9)&(Third_Down['yardline_100']<31)&(Third_Down['half_seconds_remaining']<20)]\n",
    "TD_10_20Y"
   ]
  },
  {
   "cell_type": "code",
   "execution_count": null,
   "metadata": {},
   "outputs": [],
   "source": [
    "run_plays = Third_Down[Third_Down['play_type'] == 'run']"
   ]
  },
  {
   "cell_type": "code",
   "execution_count": 309,
   "metadata": {},
   "outputs": [],
   "source": [
    "Third_Down['new_dep1'] = Third_Down.apply(new_dep,axis=1)"
   ]
  },
  {
   "cell_type": "code",
   "execution_count": 310,
   "metadata": {},
   "outputs": [
    {
     "data": {
      "text/plain": [
       "0.38961038961038963"
      ]
     },
     "execution_count": 310,
     "metadata": {},
     "output_type": "execute_result"
    }
   ],
   "source": [
    "Third_Down['new_dep1'].mean()"
   ]
  },
  {
   "cell_type": "code",
   "execution_count": null,
   "metadata": {},
   "outputs": [],
   "source": [
    " if row['play_type'] == 'run':\n",
    "            if row['third_down_converted'] == 1:\n",
    "                #run converted\n",
    "                return 1\n",
    "            else:\n",
    "                return 0\n",
    "    else:\n",
    "        if row['play_type'] == 'pass':\n",
    "            if row['third_down_converted'] == 0:\n",
    "                return 0\n",
    "            else:\n",
    "                return 1\n",
    "        else:\n",
    "            if row['third_down_converted'] == 0:\n",
    "                return 0\n",
    "            else:\n",
    "                return 1"
   ]
  },
  {
   "cell_type": "code",
   "execution_count": 224,
   "metadata": {},
   "outputs": [],
   "source": [
    "x = Third_Down[['fg_prob','td_prob','play_type']]"
   ]
  },
  {
   "cell_type": "code",
   "execution_count": 225,
   "metadata": {},
   "outputs": [
    {
     "data": {
      "text/plain": [
       "(46877, 3)"
      ]
     },
     "execution_count": 225,
     "metadata": {},
     "output_type": "execute_result"
    }
   ],
   "source": [
    "x.shape"
   ]
  },
  {
   "cell_type": "code",
   "execution_count": 226,
   "metadata": {},
   "outputs": [
    {
     "name": "stderr",
     "output_type": "stream",
     "text": [
      "C:\\ProgramData\\Anaconda3\\lib\\site-packages\\ipykernel_launcher.py:1: SettingWithCopyWarning: \n",
      "A value is trying to be set on a copy of a slice from a DataFrame.\n",
      "Try using .loc[row_indexer,col_indexer] = value instead\n",
      "\n",
      "See the caveats in the documentation: http://pandas.pydata.org/pandas-docs/stable/indexing.html#indexing-view-versus-copy\n",
      "  \"\"\"Entry point for launching an IPython kernel.\n"
     ]
    }
   ],
   "source": [
    "x['play_type'] = x['play_type'].astype('category')"
   ]
  },
  {
   "cell_type": "code",
   "execution_count": 227,
   "metadata": {},
   "outputs": [],
   "source": [
    "# x.head()\n",
    "x['play_type'].replace(['run','pass'],[0,1],inplace=True)"
   ]
  },
  {
   "cell_type": "code",
   "execution_count": 228,
   "metadata": {},
   "outputs": [
    {
     "data": {
      "text/html": [
       "<div>\n",
       "<style scoped>\n",
       "    .dataframe tbody tr th:only-of-type {\n",
       "        vertical-align: middle;\n",
       "    }\n",
       "\n",
       "    .dataframe tbody tr th {\n",
       "        vertical-align: top;\n",
       "    }\n",
       "\n",
       "    .dataframe thead th {\n",
       "        text-align: right;\n",
       "    }\n",
       "</style>\n",
       "<table border=\"1\" class=\"dataframe\">\n",
       "  <thead>\n",
       "    <tr style=\"text-align: right;\">\n",
       "      <th></th>\n",
       "      <th>fg_prob</th>\n",
       "      <th>td_prob</th>\n",
       "      <th>play_type</th>\n",
       "    </tr>\n",
       "  </thead>\n",
       "  <tbody>\n",
       "    <tr>\n",
       "      <th>0</th>\n",
       "      <td>0.415009</td>\n",
       "      <td>0.333712</td>\n",
       "      <td>1</td>\n",
       "    </tr>\n",
       "    <tr>\n",
       "      <th>1</th>\n",
       "      <td>0.204515</td>\n",
       "      <td>0.749825</td>\n",
       "      <td>1</td>\n",
       "    </tr>\n",
       "    <tr>\n",
       "      <th>2</th>\n",
       "      <td>0.093928</td>\n",
       "      <td>0.213978</td>\n",
       "      <td>1</td>\n",
       "    </tr>\n",
       "    <tr>\n",
       "      <th>3</th>\n",
       "      <td>0.395592</td>\n",
       "      <td>0.377457</td>\n",
       "      <td>0</td>\n",
       "    </tr>\n",
       "    <tr>\n",
       "      <th>4</th>\n",
       "      <td>0.386222</td>\n",
       "      <td>0.567801</td>\n",
       "      <td>1</td>\n",
       "    </tr>\n",
       "  </tbody>\n",
       "</table>\n",
       "</div>"
      ],
      "text/plain": [
       "    fg_prob   td_prob  play_type\n",
       "0  0.415009  0.333712          1\n",
       "1  0.204515  0.749825          1\n",
       "2  0.093928  0.213978          1\n",
       "3  0.395592  0.377457          0\n",
       "4  0.386222  0.567801          1"
      ]
     },
     "execution_count": 228,
     "metadata": {},
     "output_type": "execute_result"
    }
   ],
   "source": [
    "x.head()"
   ]
  },
  {
   "cell_type": "code",
   "execution_count": 218,
   "metadata": {},
   "outputs": [
    {
     "data": {
      "text/html": [
       "<div>\n",
       "<style scoped>\n",
       "    .dataframe tbody tr th:only-of-type {\n",
       "        vertical-align: middle;\n",
       "    }\n",
       "\n",
       "    .dataframe tbody tr th {\n",
       "        vertical-align: top;\n",
       "    }\n",
       "\n",
       "    .dataframe thead th {\n",
       "        text-align: right;\n",
       "    }\n",
       "</style>\n",
       "<table border=\"1\" class=\"dataframe\">\n",
       "  <thead>\n",
       "    <tr style=\"text-align: right;\">\n",
       "      <th></th>\n",
       "      <th>fg_prob</th>\n",
       "      <th>td_prob</th>\n",
       "      <th>play_type</th>\n",
       "    </tr>\n",
       "  </thead>\n",
       "  <tbody>\n",
       "    <tr>\n",
       "      <th>fg_prob</th>\n",
       "      <td>1.000000</td>\n",
       "      <td>0.468772</td>\n",
       "      <td>0.015905</td>\n",
       "    </tr>\n",
       "    <tr>\n",
       "      <th>td_prob</th>\n",
       "      <td>0.468772</td>\n",
       "      <td>1.000000</td>\n",
       "      <td>-0.190791</td>\n",
       "    </tr>\n",
       "    <tr>\n",
       "      <th>play_type</th>\n",
       "      <td>0.015905</td>\n",
       "      <td>-0.190791</td>\n",
       "      <td>1.000000</td>\n",
       "    </tr>\n",
       "  </tbody>\n",
       "</table>\n",
       "</div>"
      ],
      "text/plain": [
       "            fg_prob   td_prob  play_type\n",
       "fg_prob    1.000000  0.468772   0.015905\n",
       "td_prob    0.468772  1.000000  -0.190791\n",
       "play_type  0.015905 -0.190791   1.000000"
      ]
     },
     "execution_count": 218,
     "metadata": {},
     "output_type": "execute_result"
    }
   ],
   "source": [
    "x.corr()"
   ]
  },
  {
   "cell_type": "code",
   "execution_count": 220,
   "metadata": {},
   "outputs": [
    {
     "data": {
      "text/html": [
       "<div>\n",
       "<style scoped>\n",
       "    .dataframe tbody tr th:only-of-type {\n",
       "        vertical-align: middle;\n",
       "    }\n",
       "\n",
       "    .dataframe tbody tr th {\n",
       "        vertical-align: top;\n",
       "    }\n",
       "\n",
       "    .dataframe thead th {\n",
       "        text-align: right;\n",
       "    }\n",
       "</style>\n",
       "<table border=\"1\" class=\"dataframe\">\n",
       "  <thead>\n",
       "    <tr style=\"text-align: right;\">\n",
       "      <th></th>\n",
       "      <th>fg_prob</th>\n",
       "      <th>td_prob</th>\n",
       "    </tr>\n",
       "  </thead>\n",
       "  <tbody>\n",
       "    <tr>\n",
       "      <th>fg_prob</th>\n",
       "      <td>1.000000</td>\n",
       "      <td>0.468772</td>\n",
       "    </tr>\n",
       "    <tr>\n",
       "      <th>td_prob</th>\n",
       "      <td>0.468772</td>\n",
       "      <td>1.000000</td>\n",
       "    </tr>\n",
       "  </tbody>\n",
       "</table>\n",
       "</div>"
      ],
      "text/plain": [
       "          fg_prob   td_prob\n",
       "fg_prob  1.000000  0.468772\n",
       "td_prob  0.468772  1.000000"
      ]
     },
     "execution_count": 220,
     "metadata": {},
     "output_type": "execute_result"
    }
   ],
   "source": [
    "Third_Down[['fg_prob','td_prob','play_type']].corr()"
   ]
  },
  {
   "cell_type": "code",
   "execution_count": 232,
   "metadata": {},
   "outputs": [],
   "source": [
    "# 2<Yardstogo<4 with less than 2 min remaining and score-diff = one posession\n",
    "def new_dep1(row):\n",
    "    \n",
    "    if row['ydstogo'] >2 & row['ydstogo'] <4 and row['half_seconds_remaining'] <121 and row['score_differential'] <9:\n",
    "        if row['play_type'] == 'pass':\n",
    "            if row['third_down_converted'] == 1:\n",
    "                return 1\n",
    "            else:\n",
    "                #pass not converted\n",
    "                return 0\n",
    "        if row['play_type'] == 'run':\n",
    "            if row['third_down_converted'] == 0:\n",
    "                #run not converted\n",
    "                return 0\n",
    "            else:\n",
    "                return 1\n",
    "    else:\n",
    "        if row['play_type'] == 'pass':\n",
    "            if row['third_down_converted'] == 0:\n",
    "                return 0\n",
    "            else:\n",
    "                return 1\n",
    "        else:\n",
    "            if row['third_down_converted'] == 1:\n",
    "                return 1\n",
    "            else:\n",
    "                return 0\n",
    "                \n",
    "#'td_prob' >10 <10(<1, 2-4, 5-7, >8 'ydstogo','half_seconds_remaining' <2 min > 2 min, 'score_differential' >9, 9-16, >16  "
   ]
  },
  {
   "cell_type": "code",
   "execution_count": 233,
   "metadata": {},
   "outputs": [],
   "source": [
    "x1 = Third_Down[['fg_prob','td_prob','play_type']]"
   ]
  },
  {
   "cell_type": "code",
   "execution_count": 234,
   "metadata": {},
   "outputs": [
    {
     "data": {
      "text/plain": [
       "(46877, 3)"
      ]
     },
     "execution_count": 234,
     "metadata": {},
     "output_type": "execute_result"
    }
   ],
   "source": [
    "x1.shape"
   ]
  },
  {
   "cell_type": "code",
   "execution_count": 235,
   "metadata": {},
   "outputs": [],
   "source": [
    "# x.head()\n",
    "x1['play_type'].replace(['run','pass'],[0,1],inplace=True)"
   ]
  },
  {
   "cell_type": "code",
   "execution_count": 236,
   "metadata": {},
   "outputs": [
    {
     "data": {
      "text/html": [
       "<div>\n",
       "<style scoped>\n",
       "    .dataframe tbody tr th:only-of-type {\n",
       "        vertical-align: middle;\n",
       "    }\n",
       "\n",
       "    .dataframe tbody tr th {\n",
       "        vertical-align: top;\n",
       "    }\n",
       "\n",
       "    .dataframe thead th {\n",
       "        text-align: right;\n",
       "    }\n",
       "</style>\n",
       "<table border=\"1\" class=\"dataframe\">\n",
       "  <thead>\n",
       "    <tr style=\"text-align: right;\">\n",
       "      <th></th>\n",
       "      <th>fg_prob</th>\n",
       "      <th>td_prob</th>\n",
       "      <th>play_type</th>\n",
       "    </tr>\n",
       "  </thead>\n",
       "  <tbody>\n",
       "    <tr>\n",
       "      <th>0</th>\n",
       "      <td>0.415009</td>\n",
       "      <td>0.333712</td>\n",
       "      <td>1</td>\n",
       "    </tr>\n",
       "    <tr>\n",
       "      <th>1</th>\n",
       "      <td>0.204515</td>\n",
       "      <td>0.749825</td>\n",
       "      <td>1</td>\n",
       "    </tr>\n",
       "    <tr>\n",
       "      <th>2</th>\n",
       "      <td>0.093928</td>\n",
       "      <td>0.213978</td>\n",
       "      <td>1</td>\n",
       "    </tr>\n",
       "    <tr>\n",
       "      <th>3</th>\n",
       "      <td>0.395592</td>\n",
       "      <td>0.377457</td>\n",
       "      <td>0</td>\n",
       "    </tr>\n",
       "    <tr>\n",
       "      <th>4</th>\n",
       "      <td>0.386222</td>\n",
       "      <td>0.567801</td>\n",
       "      <td>1</td>\n",
       "    </tr>\n",
       "  </tbody>\n",
       "</table>\n",
       "</div>"
      ],
      "text/plain": [
       "    fg_prob   td_prob  play_type\n",
       "0  0.415009  0.333712          1\n",
       "1  0.204515  0.749825          1\n",
       "2  0.093928  0.213978          1\n",
       "3  0.395592  0.377457          0\n",
       "4  0.386222  0.567801          1"
      ]
     },
     "execution_count": 236,
     "metadata": {},
     "output_type": "execute_result"
    }
   ],
   "source": [
    "x1.head()"
   ]
  },
  {
   "cell_type": "code",
   "execution_count": 174,
   "metadata": {
    "scrolled": false
   },
   "outputs": [
    {
     "data": {
      "text/html": [
       "<div>\n",
       "<style scoped>\n",
       "    .dataframe tbody tr th:only-of-type {\n",
       "        vertical-align: middle;\n",
       "    }\n",
       "\n",
       "    .dataframe tbody tr th {\n",
       "        vertical-align: top;\n",
       "    }\n",
       "\n",
       "    .dataframe thead th {\n",
       "        text-align: right;\n",
       "    }\n",
       "</style>\n",
       "<table border=\"1\" class=\"dataframe\">\n",
       "  <thead>\n",
       "    <tr style=\"text-align: right;\">\n",
       "      <th></th>\n",
       "      <th>Unnamed: 0</th>\n",
       "      <th>play_id</th>\n",
       "      <th>game_id</th>\n",
       "      <th>shotgun</th>\n",
       "      <th>no_huddle</th>\n",
       "      <th>ydstogo</th>\n",
       "      <th>yardline_100</th>\n",
       "      <th>play_type</th>\n",
       "      <th>half_seconds_remaining</th>\n",
       "      <th>down</th>\n",
       "      <th>pass_length</th>\n",
       "      <th>pass_length.1</th>\n",
       "      <th>run_location</th>\n",
       "      <th>score_differential</th>\n",
       "      <th>fg_prob</th>\n",
       "      <th>td_prob</th>\n",
       "      <th>ep</th>\n",
       "      <th>third_down_converted</th>\n",
       "    </tr>\n",
       "  </thead>\n",
       "  <tbody>\n",
       "    <tr>\n",
       "      <th>0</th>\n",
       "      <td>0</td>\n",
       "      <td>190</td>\n",
       "      <td>2018090600</td>\n",
       "      <td>1</td>\n",
       "      <td>0</td>\n",
       "      <td>10</td>\n",
       "      <td>39.0</td>\n",
       "      <td>pass</td>\n",
       "      <td>1681.0</td>\n",
       "      <td>3.0</td>\n",
       "      <td>deep</td>\n",
       "      <td>deep</td>\n",
       "      <td>NaN</td>\n",
       "      <td>0.0</td>\n",
       "      <td>0.415009</td>\n",
       "      <td>0.333712</td>\n",
       "      <td>2.250232</td>\n",
       "      <td>1.0</td>\n",
       "    </tr>\n",
       "    <tr>\n",
       "      <th>1</th>\n",
       "      <td>1</td>\n",
       "      <td>256</td>\n",
       "      <td>2018090600</td>\n",
       "      <td>1</td>\n",
       "      <td>0</td>\n",
       "      <td>1</td>\n",
       "      <td>1.0</td>\n",
       "      <td>pass</td>\n",
       "      <td>1559.0</td>\n",
       "      <td>3.0</td>\n",
       "      <td>short</td>\n",
       "      <td>short</td>\n",
       "      <td>NaN</td>\n",
       "      <td>0.0</td>\n",
       "      <td>0.204515</td>\n",
       "      <td>0.749825</td>\n",
       "      <td>5.661931</td>\n",
       "      <td>0.0</td>\n",
       "    </tr>\n",
       "    <tr>\n",
       "      <th>2</th>\n",
       "      <td>2</td>\n",
       "      <td>344</td>\n",
       "      <td>2018090600</td>\n",
       "      <td>1</td>\n",
       "      <td>0</td>\n",
       "      <td>4</td>\n",
       "      <td>92.0</td>\n",
       "      <td>pass</td>\n",
       "      <td>1464.0</td>\n",
       "      <td>3.0</td>\n",
       "      <td>short</td>\n",
       "      <td>short</td>\n",
       "      <td>NaN</td>\n",
       "      <td>0.0</td>\n",
       "      <td>0.093928</td>\n",
       "      <td>0.213978</td>\n",
       "      <td>-1.832560</td>\n",
       "      <td>0.0</td>\n",
       "    </tr>\n",
       "    <tr>\n",
       "      <th>3</th>\n",
       "      <td>3</td>\n",
       "      <td>445</td>\n",
       "      <td>2018090600</td>\n",
       "      <td>1</td>\n",
       "      <td>0</td>\n",
       "      <td>5</td>\n",
       "      <td>39.0</td>\n",
       "      <td>run</td>\n",
       "      <td>1404.0</td>\n",
       "      <td>3.0</td>\n",
       "      <td>NaN</td>\n",
       "      <td>NaN</td>\n",
       "      <td>right</td>\n",
       "      <td>0.0</td>\n",
       "      <td>0.395592</td>\n",
       "      <td>0.377457</td>\n",
       "      <td>2.642543</td>\n",
       "      <td>1.0</td>\n",
       "    </tr>\n",
       "    <tr>\n",
       "      <th>4</th>\n",
       "      <td>4</td>\n",
       "      <td>636</td>\n",
       "      <td>2018090600</td>\n",
       "      <td>1</td>\n",
       "      <td>0</td>\n",
       "      <td>3</td>\n",
       "      <td>3.0</td>\n",
       "      <td>pass</td>\n",
       "      <td>1207.0</td>\n",
       "      <td>3.0</td>\n",
       "      <td>short</td>\n",
       "      <td>short</td>\n",
       "      <td>NaN</td>\n",
       "      <td>0.0</td>\n",
       "      <td>0.386222</td>\n",
       "      <td>0.567801</td>\n",
       "      <td>4.926552</td>\n",
       "      <td>0.0</td>\n",
       "    </tr>\n",
       "  </tbody>\n",
       "</table>\n",
       "</div>"
      ],
      "text/plain": [
       "   Unnamed: 0  play_id     game_id  shotgun  no_huddle  ydstogo  yardline_100  \\\n",
       "0           0      190  2018090600        1          0       10          39.0   \n",
       "1           1      256  2018090600        1          0        1           1.0   \n",
       "2           2      344  2018090600        1          0        4          92.0   \n",
       "3           3      445  2018090600        1          0        5          39.0   \n",
       "4           4      636  2018090600        1          0        3           3.0   \n",
       "\n",
       "  play_type  half_seconds_remaining  down pass_length pass_length.1  \\\n",
       "0      pass                  1681.0   3.0        deep          deep   \n",
       "1      pass                  1559.0   3.0       short         short   \n",
       "2      pass                  1464.0   3.0       short         short   \n",
       "3       run                  1404.0   3.0         NaN           NaN   \n",
       "4      pass                  1207.0   3.0       short         short   \n",
       "\n",
       "  run_location  score_differential   fg_prob   td_prob        ep  \\\n",
       "0          NaN                 0.0  0.415009  0.333712  2.250232   \n",
       "1          NaN                 0.0  0.204515  0.749825  5.661931   \n",
       "2          NaN                 0.0  0.093928  0.213978 -1.832560   \n",
       "3        right                 0.0  0.395592  0.377457  2.642543   \n",
       "4          NaN                 0.0  0.386222  0.567801  4.926552   \n",
       "\n",
       "   third_down_converted  \n",
       "0                   1.0  \n",
       "1                   0.0  \n",
       "2                   0.0  \n",
       "3                   1.0  \n",
       "4                   0.0  "
      ]
     },
     "execution_count": 174,
     "metadata": {},
     "output_type": "execute_result"
    }
   ],
   "source": [
    "Third_Down.head()"
   ]
  },
  {
   "cell_type": "code",
   "execution_count": 285,
   "metadata": {},
   "outputs": [],
   "source": [
    "Third_Down['new_dep1'] = Third_Down.apply(new_dep,axis=1)"
   ]
  },
  {
   "cell_type": "code",
   "execution_count": 286,
   "metadata": {},
   "outputs": [
    {
     "data": {
      "text/plain": [
       "0.38961038961038963"
      ]
     },
     "execution_count": 286,
     "metadata": {},
     "output_type": "execute_result"
    }
   ],
   "source": [
    "Third_Down['new_dep1'].mean()"
   ]
  },
  {
   "cell_type": "code",
   "execution_count": 284,
   "metadata": {},
   "outputs": [
    {
     "data": {
      "text/plain": [
       "pass    37025\n",
       "run      9852\n",
       "Name: play_type, dtype: int64"
      ]
     },
     "execution_count": 284,
     "metadata": {},
     "output_type": "execute_result"
    }
   ],
   "source": [
    "Third_Down['play_type'].value_counts()"
   ]
  },
  {
   "cell_type": "code",
   "execution_count": 178,
   "metadata": {},
   "outputs": [
    {
     "data": {
      "text/plain": [
       "0.7897545357524013"
      ]
     },
     "execution_count": 178,
     "metadata": {},
     "output_type": "execute_result"
    }
   ],
   "source": [
    "37000/ (9850 + 37000.)"
   ]
  },
  {
   "cell_type": "code",
   "execution_count": 179,
   "metadata": {},
   "outputs": [
    {
     "data": {
      "text/plain": [
       "(9852, 19)"
      ]
     },
     "execution_count": 179,
     "metadata": {},
     "output_type": "execute_result"
    }
   ],
   "source": [
    "run_plays = Third_Down[Third_Down['play_type'] == 'run']\n",
    "run_plays.shape"
   ]
  },
  {
   "cell_type": "code",
   "execution_count": 180,
   "metadata": {},
   "outputs": [
    {
     "data": {
      "text/html": [
       "<div>\n",
       "<style scoped>\n",
       "    .dataframe tbody tr th:only-of-type {\n",
       "        vertical-align: middle;\n",
       "    }\n",
       "\n",
       "    .dataframe tbody tr th {\n",
       "        vertical-align: top;\n",
       "    }\n",
       "\n",
       "    .dataframe thead th {\n",
       "        text-align: right;\n",
       "    }\n",
       "</style>\n",
       "<table border=\"1\" class=\"dataframe\">\n",
       "  <thead>\n",
       "    <tr style=\"text-align: right;\">\n",
       "      <th></th>\n",
       "      <th>Unnamed: 0</th>\n",
       "      <th>play_id</th>\n",
       "      <th>game_id</th>\n",
       "      <th>shotgun</th>\n",
       "      <th>no_huddle</th>\n",
       "      <th>ydstogo</th>\n",
       "      <th>yardline_100</th>\n",
       "      <th>play_type</th>\n",
       "      <th>half_seconds_remaining</th>\n",
       "      <th>down</th>\n",
       "      <th>pass_length</th>\n",
       "      <th>pass_length.1</th>\n",
       "      <th>run_location</th>\n",
       "      <th>score_differential</th>\n",
       "      <th>fg_prob</th>\n",
       "      <th>td_prob</th>\n",
       "      <th>ep</th>\n",
       "      <th>third_down_converted</th>\n",
       "      <th>new_dep</th>\n",
       "    </tr>\n",
       "  </thead>\n",
       "  <tbody>\n",
       "    <tr>\n",
       "      <th>21129</th>\n",
       "      <td>21129</td>\n",
       "      <td>3785</td>\n",
       "      <td>2014110905</td>\n",
       "      <td>0</td>\n",
       "      <td>0</td>\n",
       "      <td>46</td>\n",
       "      <td>78.0</td>\n",
       "      <td>run</td>\n",
       "      <td>105.0</td>\n",
       "      <td>3.0</td>\n",
       "      <td>NaN</td>\n",
       "      <td>NaN</td>\n",
       "      <td>right</td>\n",
       "      <td>14.0</td>\n",
       "      <td>0.101425</td>\n",
       "      <td>0.063212</td>\n",
       "      <td>0.034093</td>\n",
       "      <td>0.0</td>\n",
       "      <td>0</td>\n",
       "    </tr>\n",
       "  </tbody>\n",
       "</table>\n",
       "</div>"
      ],
      "text/plain": [
       "       Unnamed: 0  play_id     game_id  shotgun  no_huddle  ydstogo  \\\n",
       "21129       21129     3785  2014110905        0          0       46   \n",
       "\n",
       "       yardline_100 play_type  half_seconds_remaining  down pass_length  \\\n",
       "21129          78.0       run                   105.0   3.0         NaN   \n",
       "\n",
       "      pass_length.1 run_location  score_differential   fg_prob   td_prob  \\\n",
       "21129           NaN        right                14.0  0.101425  0.063212   \n",
       "\n",
       "             ep  third_down_converted  new_dep  \n",
       "21129  0.034093                   0.0        0  "
      ]
     },
     "execution_count": 180,
     "metadata": {},
     "output_type": "execute_result"
    }
   ],
   "source": [
    "run_plays[run_plays['ydstogo'] > 40]"
   ]
  },
  {
   "cell_type": "code",
   "execution_count": 181,
   "metadata": {},
   "outputs": [
    {
     "data": {
      "text/plain": [
       "count    9852.000000\n",
       "mean        4.933821\n",
       "std         5.442391\n",
       "min         1.000000\n",
       "25%         1.000000\n",
       "50%         2.000000\n",
       "75%         7.000000\n",
       "max        46.000000\n",
       "Name: ydstogo, dtype: float64"
      ]
     },
     "execution_count": 181,
     "metadata": {},
     "output_type": "execute_result"
    }
   ],
   "source": [
    "run_plays['ydstogo'].describe()"
   ]
  },
  {
   "cell_type": "code",
   "execution_count": 182,
   "metadata": {
    "scrolled": true
   },
   "outputs": [
    {
     "data": {
      "text/plain": [
       "pass    37025\n",
       "run      9852\n",
       "Name: play_type, dtype: int64"
      ]
     },
     "execution_count": 182,
     "metadata": {},
     "output_type": "execute_result"
    }
   ],
   "source": [
    "y.value_counts()"
   ]
  },
  {
   "cell_type": "code",
   "execution_count": 183,
   "metadata": {},
   "outputs": [
    {
     "data": {
      "text/plain": [
       "0.7898329671267359"
      ]
     },
     "execution_count": 183,
     "metadata": {},
     "output_type": "execute_result"
    }
   ],
   "source": [
    "37025. / (37025 + 9852.)"
   ]
  },
  {
   "cell_type": "code",
   "execution_count": 184,
   "metadata": {},
   "outputs": [
    {
     "data": {
      "text/plain": [
       "(27628, 19)"
      ]
     },
     "execution_count": 184,
     "metadata": {},
     "output_type": "execute_result"
    }
   ],
   "source": [
    "Third_Down[Third_Down['ydstogo'] <= 7].shape"
   ]
  },
  {
   "cell_type": "code",
   "execution_count": 291,
   "metadata": {},
   "outputs": [
    {
     "data": {
      "text/html": [
       "<div>\n",
       "<style scoped>\n",
       "    .dataframe tbody tr th:only-of-type {\n",
       "        vertical-align: middle;\n",
       "    }\n",
       "\n",
       "    .dataframe tbody tr th {\n",
       "        vertical-align: top;\n",
       "    }\n",
       "\n",
       "    .dataframe thead th {\n",
       "        text-align: right;\n",
       "    }\n",
       "</style>\n",
       "<table border=\"1\" class=\"dataframe\">\n",
       "  <thead>\n",
       "    <tr style=\"text-align: right;\">\n",
       "      <th></th>\n",
       "      <th>Unnamed: 0</th>\n",
       "      <th>shotgun</th>\n",
       "      <th>no_huddle</th>\n",
       "      <th>ydstogo</th>\n",
       "      <th>yardline_100</th>\n",
       "      <th>play_type</th>\n",
       "      <th>half_seconds_remaining</th>\n",
       "      <th>down</th>\n",
       "      <th>score_differential</th>\n",
       "      <th>fg_prob</th>\n",
       "      <th>td_prob</th>\n",
       "      <th>ep</th>\n",
       "      <th>third_down_converted</th>\n",
       "    </tr>\n",
       "  </thead>\n",
       "  <tbody>\n",
       "    <tr>\n",
       "      <th>0</th>\n",
       "      <td>0</td>\n",
       "      <td>1</td>\n",
       "      <td>0</td>\n",
       "      <td>13</td>\n",
       "      <td>75.0</td>\n",
       "      <td>pass</td>\n",
       "      <td>735.0</td>\n",
       "      <td>3.0</td>\n",
       "      <td>-3.0</td>\n",
       "      <td>0.163596</td>\n",
       "      <td>0.221572</td>\n",
       "      <td>-0.728013</td>\n",
       "      <td>0.0</td>\n",
       "    </tr>\n",
       "    <tr>\n",
       "      <th>1</th>\n",
       "      <td>1</td>\n",
       "      <td>1</td>\n",
       "      <td>0</td>\n",
       "      <td>9</td>\n",
       "      <td>20.0</td>\n",
       "      <td>pass</td>\n",
       "      <td>419.0</td>\n",
       "      <td>3.0</td>\n",
       "      <td>0.0</td>\n",
       "      <td>0.491748</td>\n",
       "      <td>0.313103</td>\n",
       "      <td>3.110654</td>\n",
       "      <td>0.0</td>\n",
       "    </tr>\n",
       "    <tr>\n",
       "      <th>2</th>\n",
       "      <td>2</td>\n",
       "      <td>1</td>\n",
       "      <td>0</td>\n",
       "      <td>8</td>\n",
       "      <td>79.0</td>\n",
       "      <td>pass</td>\n",
       "      <td>1399.0</td>\n",
       "      <td>3.0</td>\n",
       "      <td>5.0</td>\n",
       "      <td>0.150793</td>\n",
       "      <td>0.239080</td>\n",
       "      <td>-1.075599</td>\n",
       "      <td>0.0</td>\n",
       "    </tr>\n",
       "    <tr>\n",
       "      <th>3</th>\n",
       "      <td>3</td>\n",
       "      <td>1</td>\n",
       "      <td>0</td>\n",
       "      <td>7</td>\n",
       "      <td>70.0</td>\n",
       "      <td>pass</td>\n",
       "      <td>900.0</td>\n",
       "      <td>3.0</td>\n",
       "      <td>-13.0</td>\n",
       "      <td>0.194591</td>\n",
       "      <td>0.280941</td>\n",
       "      <td>0.016882</td>\n",
       "      <td>0.0</td>\n",
       "    </tr>\n",
       "    <tr>\n",
       "      <th>4</th>\n",
       "      <td>4</td>\n",
       "      <td>1</td>\n",
       "      <td>0</td>\n",
       "      <td>6</td>\n",
       "      <td>48.0</td>\n",
       "      <td>pass</td>\n",
       "      <td>1447.0</td>\n",
       "      <td>3.0</td>\n",
       "      <td>-7.0</td>\n",
       "      <td>0.339833</td>\n",
       "      <td>0.356560</td>\n",
       "      <td>1.918829</td>\n",
       "      <td>0.0</td>\n",
       "    </tr>\n",
       "  </tbody>\n",
       "</table>\n",
       "</div>"
      ],
      "text/plain": [
       "   Unnamed: 0  shotgun  no_huddle  ydstogo  yardline_100 play_type  \\\n",
       "0           0        1          0       13          75.0      pass   \n",
       "1           1        1          0        9          20.0      pass   \n",
       "2           2        1          0        8          79.0      pass   \n",
       "3           3        1          0        7          70.0      pass   \n",
       "4           4        1          0        6          48.0      pass   \n",
       "\n",
       "   half_seconds_remaining  down  score_differential   fg_prob   td_prob  \\\n",
       "0                   735.0   3.0                -3.0  0.163596  0.221572   \n",
       "1                   419.0   3.0                 0.0  0.491748  0.313103   \n",
       "2                  1399.0   3.0                 5.0  0.150793  0.239080   \n",
       "3                   900.0   3.0               -13.0  0.194591  0.280941   \n",
       "4                  1447.0   3.0                -7.0  0.339833  0.356560   \n",
       "\n",
       "         ep  third_down_converted  \n",
       "0 -0.728013                   0.0  \n",
       "1  3.110654                   0.0  \n",
       "2 -1.075599                   0.0  \n",
       "3  0.016882                   0.0  \n",
       "4  1.918829                   0.0  "
      ]
     },
     "execution_count": 291,
     "metadata": {},
     "output_type": "execute_result"
    }
   ],
   "source": [
    "url = \"https://raw.githubusercontent.com/juliasweet/Final_Project/SweetJ/finalBalance.csv\"\n",
    "Final_Balance = pd.read_csv(url)\n",
    "Final_Balance.head()"
   ]
  },
  {
   "cell_type": "code",
   "execution_count": 303,
   "metadata": {},
   "outputs": [
    {
     "data": {
      "text/plain": [
       "Unnamed: 0                  int64\n",
       "shotgun                     int64\n",
       "no_huddle                   int64\n",
       "ydstogo                     int64\n",
       "yardline_100              float64\n",
       "play_type                  object\n",
       "half_seconds_remaining    float64\n",
       "down                      float64\n",
       "score_differential        float64\n",
       "fg_prob                   float64\n",
       "td_prob                   float64\n",
       "ep                        float64\n",
       "third_down_converted      float64\n",
       "dtype: object"
      ]
     },
     "execution_count": 303,
     "metadata": {},
     "output_type": "execute_result"
    }
   ],
   "source": [
    "#Define X & Y From Right side\n",
    "X = Final_Balance[['ydstogo','half_seconds_remaining', 'score_differential', 'yardline_100','fg_prob', 'td_prob']]\n",
    "y = Final_Balance['play_type']\n",
    "\n",
    "# Split into test and train\n",
    "from sklearn.model_selection import train_test_split\n",
    "X_train, X_test, y_train, y_test = train_test_split(X, y, random_state = 1, stratify=y)\n",
    "Final_Balance.dtypes"
   ]
  },
  {
   "cell_type": "code",
   "execution_count": 296,
   "metadata": {},
   "outputs": [
    {
     "name": "stderr",
     "output_type": "stream",
     "text": [
      "C:\\ProgramData\\Anaconda3\\lib\\site-packages\\sklearn\\linear_model\\logistic.py:433: FutureWarning: Default solver will be changed to 'lbfgs' in 0.22. Specify a solver to silence this warning.\n",
      "  FutureWarning)\n"
     ]
    }
   ],
   "source": [
    "from sklearn.linear_model import LogisticRegression\n",
    "logmodel = LogisticRegression()\n",
    "logmodel.fit(X_train,y_train)\n",
    "predictions = logmodel.predict(X_test)"
   ]
  },
  {
   "cell_type": "code",
   "execution_count": 297,
   "metadata": {},
   "outputs": [
    {
     "name": "stdout",
     "output_type": "stream",
     "text": [
      "              precision    recall  f1-score   support\n",
      "\n",
      "        pass       0.67      0.69      0.68      2463\n",
      "         run       0.68      0.66      0.67      2463\n",
      "\n",
      "   micro avg       0.67      0.67      0.67      4926\n",
      "   macro avg       0.67      0.67      0.67      4926\n",
      "weighted avg       0.67      0.67      0.67      4926\n",
      "\n"
     ]
    }
   ],
   "source": [
    "from sklearn.metrics import classification_report\n",
    "print(classification_report(y_test,predictions))"
   ]
  },
  {
   "cell_type": "markdown",
   "metadata": {},
   "source": [
    "#The f1-score gives you the harmonic mean of precision and recall\n",
    "#The scores corresponding to every class will tell you the accuracy of the classifier in classifying the data points in that particular class compared to all other classes\n",
    "#The support is the number of samples of the true response that lie in that class"
   ]
  },
  {
   "cell_type": "code",
   "execution_count": 298,
   "metadata": {
    "scrolled": true
   },
   "outputs": [
    {
     "name": "stderr",
     "output_type": "stream",
     "text": [
      "C:\\ProgramData\\Anaconda3\\lib\\site-packages\\sklearn\\linear_model\\logistic.py:433: FutureWarning: Default solver will be changed to 'lbfgs' in 0.22. Specify a solver to silence this warning.\n",
      "  FutureWarning)\n"
     ]
    },
    {
     "name": "stdout",
     "output_type": "stream",
     "text": [
      "First 10 predictions: ['pass' 'pass' 'run' 'pass' 'run' 'pass' 'run' 'pass' 'run' 'pass']\n",
      "First 10 Actual Labels: ['pass', 'pass', 'run', 'pass', 'run', 'pass', 'pass', 'pass', 'run', 'pass']\n"
     ]
    },
    {
     "data": {
      "text/html": [
       "<div>\n",
       "<style scoped>\n",
       "    .dataframe tbody tr th:only-of-type {\n",
       "        vertical-align: middle;\n",
       "    }\n",
       "\n",
       "    .dataframe tbody tr th {\n",
       "        vertical-align: top;\n",
       "    }\n",
       "\n",
       "    .dataframe thead th {\n",
       "        text-align: right;\n",
       "    }\n",
       "</style>\n",
       "<table border=\"1\" class=\"dataframe\">\n",
       "  <thead>\n",
       "    <tr style=\"text-align: right;\">\n",
       "      <th></th>\n",
       "      <th>Prediction:</th>\n",
       "      <th>Actual:</th>\n",
       "    </tr>\n",
       "  </thead>\n",
       "  <tbody>\n",
       "    <tr>\n",
       "      <th>0</th>\n",
       "      <td>pass</td>\n",
       "      <td>pass</td>\n",
       "    </tr>\n",
       "    <tr>\n",
       "      <th>1</th>\n",
       "      <td>pass</td>\n",
       "      <td>pass</td>\n",
       "    </tr>\n",
       "    <tr>\n",
       "      <th>2</th>\n",
       "      <td>run</td>\n",
       "      <td>run</td>\n",
       "    </tr>\n",
       "    <tr>\n",
       "      <th>3</th>\n",
       "      <td>pass</td>\n",
       "      <td>pass</td>\n",
       "    </tr>\n",
       "    <tr>\n",
       "      <th>4</th>\n",
       "      <td>run</td>\n",
       "      <td>run</td>\n",
       "    </tr>\n",
       "    <tr>\n",
       "      <th>5</th>\n",
       "      <td>pass</td>\n",
       "      <td>pass</td>\n",
       "    </tr>\n",
       "    <tr>\n",
       "      <th>6</th>\n",
       "      <td>run</td>\n",
       "      <td>pass</td>\n",
       "    </tr>\n",
       "    <tr>\n",
       "      <th>7</th>\n",
       "      <td>pass</td>\n",
       "      <td>pass</td>\n",
       "    </tr>\n",
       "    <tr>\n",
       "      <th>8</th>\n",
       "      <td>run</td>\n",
       "      <td>run</td>\n",
       "    </tr>\n",
       "    <tr>\n",
       "      <th>9</th>\n",
       "      <td>pass</td>\n",
       "      <td>pass</td>\n",
       "    </tr>\n",
       "    <tr>\n",
       "      <th>10</th>\n",
       "      <td>run</td>\n",
       "      <td>pass</td>\n",
       "    </tr>\n",
       "    <tr>\n",
       "      <th>11</th>\n",
       "      <td>pass</td>\n",
       "      <td>pass</td>\n",
       "    </tr>\n",
       "    <tr>\n",
       "      <th>12</th>\n",
       "      <td>pass</td>\n",
       "      <td>run</td>\n",
       "    </tr>\n",
       "    <tr>\n",
       "      <th>13</th>\n",
       "      <td>run</td>\n",
       "      <td>run</td>\n",
       "    </tr>\n",
       "    <tr>\n",
       "      <th>14</th>\n",
       "      <td>run</td>\n",
       "      <td>run</td>\n",
       "    </tr>\n",
       "    <tr>\n",
       "      <th>15</th>\n",
       "      <td>run</td>\n",
       "      <td>run</td>\n",
       "    </tr>\n",
       "    <tr>\n",
       "      <th>16</th>\n",
       "      <td>run</td>\n",
       "      <td>run</td>\n",
       "    </tr>\n",
       "    <tr>\n",
       "      <th>17</th>\n",
       "      <td>run</td>\n",
       "      <td>run</td>\n",
       "    </tr>\n",
       "    <tr>\n",
       "      <th>18</th>\n",
       "      <td>pass</td>\n",
       "      <td>run</td>\n",
       "    </tr>\n",
       "    <tr>\n",
       "      <th>19</th>\n",
       "      <td>pass</td>\n",
       "      <td>pass</td>\n",
       "    </tr>\n",
       "    <tr>\n",
       "      <th>20</th>\n",
       "      <td>run</td>\n",
       "      <td>run</td>\n",
       "    </tr>\n",
       "    <tr>\n",
       "      <th>21</th>\n",
       "      <td>run</td>\n",
       "      <td>run</td>\n",
       "    </tr>\n",
       "    <tr>\n",
       "      <th>22</th>\n",
       "      <td>run</td>\n",
       "      <td>pass</td>\n",
       "    </tr>\n",
       "    <tr>\n",
       "      <th>23</th>\n",
       "      <td>run</td>\n",
       "      <td>pass</td>\n",
       "    </tr>\n",
       "    <tr>\n",
       "      <th>24</th>\n",
       "      <td>pass</td>\n",
       "      <td>pass</td>\n",
       "    </tr>\n",
       "    <tr>\n",
       "      <th>25</th>\n",
       "      <td>run</td>\n",
       "      <td>run</td>\n",
       "    </tr>\n",
       "    <tr>\n",
       "      <th>26</th>\n",
       "      <td>pass</td>\n",
       "      <td>pass</td>\n",
       "    </tr>\n",
       "    <tr>\n",
       "      <th>27</th>\n",
       "      <td>pass</td>\n",
       "      <td>pass</td>\n",
       "    </tr>\n",
       "    <tr>\n",
       "      <th>28</th>\n",
       "      <td>run</td>\n",
       "      <td>run</td>\n",
       "    </tr>\n",
       "    <tr>\n",
       "      <th>29</th>\n",
       "      <td>pass</td>\n",
       "      <td>run</td>\n",
       "    </tr>\n",
       "    <tr>\n",
       "      <th>...</th>\n",
       "      <td>...</td>\n",
       "      <td>...</td>\n",
       "    </tr>\n",
       "    <tr>\n",
       "      <th>4896</th>\n",
       "      <td>pass</td>\n",
       "      <td>run</td>\n",
       "    </tr>\n",
       "    <tr>\n",
       "      <th>4897</th>\n",
       "      <td>pass</td>\n",
       "      <td>pass</td>\n",
       "    </tr>\n",
       "    <tr>\n",
       "      <th>4898</th>\n",
       "      <td>pass</td>\n",
       "      <td>pass</td>\n",
       "    </tr>\n",
       "    <tr>\n",
       "      <th>4899</th>\n",
       "      <td>run</td>\n",
       "      <td>pass</td>\n",
       "    </tr>\n",
       "    <tr>\n",
       "      <th>4900</th>\n",
       "      <td>run</td>\n",
       "      <td>pass</td>\n",
       "    </tr>\n",
       "    <tr>\n",
       "      <th>4901</th>\n",
       "      <td>run</td>\n",
       "      <td>pass</td>\n",
       "    </tr>\n",
       "    <tr>\n",
       "      <th>4902</th>\n",
       "      <td>pass</td>\n",
       "      <td>pass</td>\n",
       "    </tr>\n",
       "    <tr>\n",
       "      <th>4903</th>\n",
       "      <td>run</td>\n",
       "      <td>run</td>\n",
       "    </tr>\n",
       "    <tr>\n",
       "      <th>4904</th>\n",
       "      <td>pass</td>\n",
       "      <td>pass</td>\n",
       "    </tr>\n",
       "    <tr>\n",
       "      <th>4905</th>\n",
       "      <td>pass</td>\n",
       "      <td>pass</td>\n",
       "    </tr>\n",
       "    <tr>\n",
       "      <th>4906</th>\n",
       "      <td>run</td>\n",
       "      <td>run</td>\n",
       "    </tr>\n",
       "    <tr>\n",
       "      <th>4907</th>\n",
       "      <td>pass</td>\n",
       "      <td>run</td>\n",
       "    </tr>\n",
       "    <tr>\n",
       "      <th>4908</th>\n",
       "      <td>pass</td>\n",
       "      <td>run</td>\n",
       "    </tr>\n",
       "    <tr>\n",
       "      <th>4909</th>\n",
       "      <td>pass</td>\n",
       "      <td>run</td>\n",
       "    </tr>\n",
       "    <tr>\n",
       "      <th>4910</th>\n",
       "      <td>pass</td>\n",
       "      <td>pass</td>\n",
       "    </tr>\n",
       "    <tr>\n",
       "      <th>4911</th>\n",
       "      <td>run</td>\n",
       "      <td>run</td>\n",
       "    </tr>\n",
       "    <tr>\n",
       "      <th>4912</th>\n",
       "      <td>pass</td>\n",
       "      <td>pass</td>\n",
       "    </tr>\n",
       "    <tr>\n",
       "      <th>4913</th>\n",
       "      <td>run</td>\n",
       "      <td>run</td>\n",
       "    </tr>\n",
       "    <tr>\n",
       "      <th>4914</th>\n",
       "      <td>run</td>\n",
       "      <td>run</td>\n",
       "    </tr>\n",
       "    <tr>\n",
       "      <th>4915</th>\n",
       "      <td>run</td>\n",
       "      <td>run</td>\n",
       "    </tr>\n",
       "    <tr>\n",
       "      <th>4916</th>\n",
       "      <td>pass</td>\n",
       "      <td>pass</td>\n",
       "    </tr>\n",
       "    <tr>\n",
       "      <th>4917</th>\n",
       "      <td>run</td>\n",
       "      <td>run</td>\n",
       "    </tr>\n",
       "    <tr>\n",
       "      <th>4918</th>\n",
       "      <td>pass</td>\n",
       "      <td>run</td>\n",
       "    </tr>\n",
       "    <tr>\n",
       "      <th>4919</th>\n",
       "      <td>pass</td>\n",
       "      <td>pass</td>\n",
       "    </tr>\n",
       "    <tr>\n",
       "      <th>4920</th>\n",
       "      <td>run</td>\n",
       "      <td>pass</td>\n",
       "    </tr>\n",
       "    <tr>\n",
       "      <th>4921</th>\n",
       "      <td>run</td>\n",
       "      <td>run</td>\n",
       "    </tr>\n",
       "    <tr>\n",
       "      <th>4922</th>\n",
       "      <td>run</td>\n",
       "      <td>run</td>\n",
       "    </tr>\n",
       "    <tr>\n",
       "      <th>4923</th>\n",
       "      <td>run</td>\n",
       "      <td>run</td>\n",
       "    </tr>\n",
       "    <tr>\n",
       "      <th>4924</th>\n",
       "      <td>pass</td>\n",
       "      <td>run</td>\n",
       "    </tr>\n",
       "    <tr>\n",
       "      <th>4925</th>\n",
       "      <td>run</td>\n",
       "      <td>run</td>\n",
       "    </tr>\n",
       "  </tbody>\n",
       "</table>\n",
       "<p>4926 rows × 2 columns</p>\n",
       "</div>"
      ],
      "text/plain": [
       "     Prediction: Actual:\n",
       "0           pass    pass\n",
       "1           pass    pass\n",
       "2            run     run\n",
       "3           pass    pass\n",
       "4            run     run\n",
       "5           pass    pass\n",
       "6            run    pass\n",
       "7           pass    pass\n",
       "8            run     run\n",
       "9           pass    pass\n",
       "10           run    pass\n",
       "11          pass    pass\n",
       "12          pass     run\n",
       "13           run     run\n",
       "14           run     run\n",
       "15           run     run\n",
       "16           run     run\n",
       "17           run     run\n",
       "18          pass     run\n",
       "19          pass    pass\n",
       "20           run     run\n",
       "21           run     run\n",
       "22           run    pass\n",
       "23           run    pass\n",
       "24          pass    pass\n",
       "25           run     run\n",
       "26          pass    pass\n",
       "27          pass    pass\n",
       "28           run     run\n",
       "29          pass     run\n",
       "...          ...     ...\n",
       "4896        pass     run\n",
       "4897        pass    pass\n",
       "4898        pass    pass\n",
       "4899         run    pass\n",
       "4900         run    pass\n",
       "4901         run    pass\n",
       "4902        pass    pass\n",
       "4903         run     run\n",
       "4904        pass    pass\n",
       "4905        pass    pass\n",
       "4906         run     run\n",
       "4907        pass     run\n",
       "4908        pass     run\n",
       "4909        pass     run\n",
       "4910        pass    pass\n",
       "4911         run     run\n",
       "4912        pass    pass\n",
       "4913         run     run\n",
       "4914         run     run\n",
       "4915         run     run\n",
       "4916        pass    pass\n",
       "4917         run     run\n",
       "4918        pass     run\n",
       "4919        pass    pass\n",
       "4920         run    pass\n",
       "4921         run     run\n",
       "4922         run     run\n",
       "4923         run     run\n",
       "4924        pass     run\n",
       "4925         run     run\n",
       "\n",
       "[4926 rows x 2 columns]"
      ]
     },
     "execution_count": 298,
     "metadata": {},
     "output_type": "execute_result"
    }
   ],
   "source": [
    "# Create the logistic regression\n",
    "from sklearn.linear_model import LogisticRegression\n",
    "classifier = LogisticRegression()\n",
    "classifier\n",
    "classifier.fit(X_train, y_train)\n",
    "print(f\"First 10 predictions: {predictions[:10]}\")\n",
    "print(f\"First 10 Actual Labels: {y_test[:10].tolist()}\")\n",
    "pd.DataFrame({\"Prediction:\": predictions, \"Actual:\": y_test}).reset_index(drop=True)"
   ]
  },
  {
   "cell_type": "code",
   "execution_count": 299,
   "metadata": {},
   "outputs": [],
   "source": [
    "from sklearn.metrics import confusion_matrix"
   ]
  },
  {
   "cell_type": "code",
   "execution_count": 300,
   "metadata": {},
   "outputs": [
    {
     "data": {
      "text/plain": [
       "array([[1690,  773],\n",
       "       [ 830, 1633]], dtype=int64)"
      ]
     },
     "execution_count": 300,
     "metadata": {},
     "output_type": "execute_result"
    }
   ],
   "source": [
    "confusion_matrix(y_test, predictions)"
   ]
  },
  {
   "cell_type": "code",
   "execution_count": 301,
   "metadata": {},
   "outputs": [],
   "source": [
    "from sklearn.metrics import accuracy_score"
   ]
  },
  {
   "cell_type": "code",
   "execution_count": 302,
   "metadata": {},
   "outputs": [
    {
     "data": {
      "text/plain": [
       "0.6745838408444986"
      ]
     },
     "execution_count": 302,
     "metadata": {},
     "output_type": "execute_result"
    }
   ],
   "source": [
    "accuracy_score(y_test, predictions)"
   ]
  },
  {
   "cell_type": "markdown",
   "metadata": {},
   "source": [
    "# Prediction\n"
   ]
  },
  {
   "cell_type": "code",
   "execution_count": 304,
   "metadata": {
    "scrolled": true
   },
   "outputs": [
    {
     "data": {
      "text/html": [
       "<div>\n",
       "<style scoped>\n",
       "    .dataframe tbody tr th:only-of-type {\n",
       "        vertical-align: middle;\n",
       "    }\n",
       "\n",
       "    .dataframe tbody tr th {\n",
       "        vertical-align: top;\n",
       "    }\n",
       "\n",
       "    .dataframe thead th {\n",
       "        text-align: right;\n",
       "    }\n",
       "</style>\n",
       "<table border=\"1\" class=\"dataframe\">\n",
       "  <thead>\n",
       "    <tr style=\"text-align: right;\">\n",
       "      <th></th>\n",
       "      <th>Unnamed: 0</th>\n",
       "      <th>shotgun</th>\n",
       "      <th>no_huddle</th>\n",
       "      <th>ydstogo</th>\n",
       "      <th>yardline_100</th>\n",
       "      <th>play_type</th>\n",
       "      <th>half_seconds_remaining</th>\n",
       "      <th>down</th>\n",
       "      <th>score_differential</th>\n",
       "      <th>fg_prob</th>\n",
       "      <th>td_prob</th>\n",
       "      <th>ep</th>\n",
       "      <th>third_down_converted</th>\n",
       "    </tr>\n",
       "  </thead>\n",
       "  <tbody>\n",
       "    <tr>\n",
       "      <th>0</th>\n",
       "      <td>0</td>\n",
       "      <td>1</td>\n",
       "      <td>0</td>\n",
       "      <td>13</td>\n",
       "      <td>75.0</td>\n",
       "      <td>2</td>\n",
       "      <td>735.0</td>\n",
       "      <td>3.0</td>\n",
       "      <td>-3.0</td>\n",
       "      <td>0.163596</td>\n",
       "      <td>0.221572</td>\n",
       "      <td>-0.728013</td>\n",
       "      <td>0.0</td>\n",
       "    </tr>\n",
       "    <tr>\n",
       "      <th>1</th>\n",
       "      <td>1</td>\n",
       "      <td>1</td>\n",
       "      <td>0</td>\n",
       "      <td>9</td>\n",
       "      <td>20.0</td>\n",
       "      <td>2</td>\n",
       "      <td>419.0</td>\n",
       "      <td>3.0</td>\n",
       "      <td>0.0</td>\n",
       "      <td>0.491748</td>\n",
       "      <td>0.313103</td>\n",
       "      <td>3.110654</td>\n",
       "      <td>0.0</td>\n",
       "    </tr>\n",
       "    <tr>\n",
       "      <th>2</th>\n",
       "      <td>2</td>\n",
       "      <td>1</td>\n",
       "      <td>0</td>\n",
       "      <td>8</td>\n",
       "      <td>79.0</td>\n",
       "      <td>2</td>\n",
       "      <td>1399.0</td>\n",
       "      <td>3.0</td>\n",
       "      <td>5.0</td>\n",
       "      <td>0.150793</td>\n",
       "      <td>0.239080</td>\n",
       "      <td>-1.075599</td>\n",
       "      <td>0.0</td>\n",
       "    </tr>\n",
       "    <tr>\n",
       "      <th>3</th>\n",
       "      <td>3</td>\n",
       "      <td>1</td>\n",
       "      <td>0</td>\n",
       "      <td>7</td>\n",
       "      <td>70.0</td>\n",
       "      <td>2</td>\n",
       "      <td>900.0</td>\n",
       "      <td>3.0</td>\n",
       "      <td>-13.0</td>\n",
       "      <td>0.194591</td>\n",
       "      <td>0.280941</td>\n",
       "      <td>0.016882</td>\n",
       "      <td>0.0</td>\n",
       "    </tr>\n",
       "    <tr>\n",
       "      <th>4</th>\n",
       "      <td>4</td>\n",
       "      <td>1</td>\n",
       "      <td>0</td>\n",
       "      <td>6</td>\n",
       "      <td>48.0</td>\n",
       "      <td>2</td>\n",
       "      <td>1447.0</td>\n",
       "      <td>3.0</td>\n",
       "      <td>-7.0</td>\n",
       "      <td>0.339833</td>\n",
       "      <td>0.356560</td>\n",
       "      <td>1.918829</td>\n",
       "      <td>0.0</td>\n",
       "    </tr>\n",
       "  </tbody>\n",
       "</table>\n",
       "</div>"
      ],
      "text/plain": [
       "   Unnamed: 0  shotgun  no_huddle  ydstogo  yardline_100  play_type  \\\n",
       "0           0        1          0       13          75.0          2   \n",
       "1           1        1          0        9          20.0          2   \n",
       "2           2        1          0        8          79.0          2   \n",
       "3           3        1          0        7          70.0          2   \n",
       "4           4        1          0        6          48.0          2   \n",
       "\n",
       "   half_seconds_remaining  down  score_differential   fg_prob   td_prob  \\\n",
       "0                   735.0   3.0                -3.0  0.163596  0.221572   \n",
       "1                   419.0   3.0                 0.0  0.491748  0.313103   \n",
       "2                  1399.0   3.0                 5.0  0.150793  0.239080   \n",
       "3                   900.0   3.0               -13.0  0.194591  0.280941   \n",
       "4                  1447.0   3.0                -7.0  0.339833  0.356560   \n",
       "\n",
       "         ep  third_down_converted  \n",
       "0 -0.728013                   0.0  \n",
       "1  3.110654                   0.0  \n",
       "2 -1.075599                   0.0  \n",
       "3  0.016882                   0.0  \n",
       "4  1.918829                   0.0  "
      ]
     },
     "execution_count": 304,
     "metadata": {},
     "output_type": "execute_result"
    }
   ],
   "source": [
    "#Play_type\n",
    "#run = 1, pass =2\n",
    "CR_Final=Final_Balance.replace(['run', 'pass'], \n",
    "                     [1, 2])\n",
    "CR_Final.head()\n",
    "CR_F= CR_Final.astype({\"play_type\": int})\n",
    "CR_F.head()"
   ]
  },
  {
   "cell_type": "code",
   "execution_count": 305,
   "metadata": {},
   "outputs": [
    {
     "ename": "SyntaxError",
     "evalue": "invalid syntax (<ipython-input-305-3b415ebd005c>, line 1)",
     "output_type": "error",
     "traceback": [
      "\u001b[1;36m  File \u001b[1;32m\"<ipython-input-305-3b415ebd005c>\"\u001b[1;36m, line \u001b[1;32m1\u001b[0m\n\u001b[1;33m    un = 1, pass =2\u001b[0m\n\u001b[1;37m               ^\u001b[0m\n\u001b[1;31mSyntaxError\u001b[0m\u001b[1;31m:\u001b[0m invalid syntax\n"
     ]
    }
   ],
   "source": [
    "un = 1, pass =2\n",
    "CR_Final=Final_Balance.replace(['run', 'pass'], \n",
    "                     [1, 2])\n",
    "CR_Final.head()\n",
    "CR_F= CR_Final.astype({\"play_type\": int})\n",
    "CR_F.head()"
   ]
  },
  {
   "cell_type": "code",
   "execution_count": 306,
   "metadata": {},
   "outputs": [
    {
     "data": {
      "text/plain": [
       "Unnamed: 0                  int64\n",
       "shotgun                     int64\n",
       "no_huddle                   int64\n",
       "ydstogo                     int64\n",
       "yardline_100              float64\n",
       "play_type                   int32\n",
       "half_seconds_remaining    float64\n",
       "down                      float64\n",
       "score_differential        float64\n",
       "fg_prob                   float64\n",
       "td_prob                   float64\n",
       "ep                        float64\n",
       "third_down_converted      float64\n",
       "dtype: object"
      ]
     },
     "execution_count": 306,
     "metadata": {},
     "output_type": "execute_result"
    }
   ],
   "source": [
    "#Play_type\n",
    "#run = 1, pass =2\n",
    "CR_Final=Final_Balance.replace(['run', 'pass'], \n",
    "                     [1, 2])\n",
    "CR_Final.head()\n",
    "CR_Final = CR_Final.astype({\"play_type\": int})\n",
    "CR_Final.dtypes"
   ]
  },
  {
   "cell_type": "code",
   "execution_count": 307,
   "metadata": {},
   "outputs": [
    {
     "data": {
      "text/plain": [
       "Unnamed: 0                  int64\n",
       "shotgun                     int64\n",
       "no_huddle                   int64\n",
       "ydstogo                     int64\n",
       "yardline_100              float64\n",
       "play_type                  object\n",
       "half_seconds_remaining    float64\n",
       "down                      float64\n",
       "score_differential        float64\n",
       "fg_prob                   float64\n",
       "td_prob                   float64\n",
       "ep                        float64\n",
       "third_down_converted      float64\n",
       "dtype: object"
      ]
     },
     "execution_count": 307,
     "metadata": {},
     "output_type": "execute_result"
    }
   ],
   "source": [
    "\n",
    "#Define X & Y From Right side\n",
    "X1 = Final_Balance[['td_prob','ydstogo','half_seconds_remaining', 'score_differential']]\n",
    "y1 = Final_Balance['third_down_converted']\n",
    "\n",
    "# Split into test and train\n",
    "from sklearn.model_selection import train_test_split\n",
    "X1_train, X1_test, y1_train, y1_test = train_test_split(X1, y1, random_state = 1, stratify=y1)\n",
    "Final_Balance.dtypes"
   ]
  },
  {
   "cell_type": "code",
   "execution_count": 308,
   "metadata": {},
   "outputs": [
    {
     "name": "stderr",
     "output_type": "stream",
     "text": [
      "C:\\ProgramData\\Anaconda3\\lib\\site-packages\\sklearn\\linear_model\\logistic.py:433: FutureWarning: Default solver will be changed to 'lbfgs' in 0.22. Specify a solver to silence this warning.\n",
      "  FutureWarning)\n"
     ]
    }
   ],
   "source": [
    "from sklearn.linear_model import LogisticRegression\n",
    "logmodel = LogisticRegression()\n",
    "logmodel.fit(X1_train,y1_train)\n",
    "predictions = logmodel.predict(X1_test)"
   ]
  },
  {
   "cell_type": "code",
   "execution_count": 309,
   "metadata": {},
   "outputs": [
    {
     "name": "stdout",
     "output_type": "stream",
     "text": [
      "First 10 predictions: [1. 0. 1. 0. 1. 0. 1. 0. 0. 1.]\n",
      "First 10 Actual Labels: [0.0, 1.0, 1.0, 0.0, 1.0, 0.0, 0.0, 0.0, 0.0, 0.0]\n"
     ]
    },
    {
     "name": "stderr",
     "output_type": "stream",
     "text": [
      "C:\\ProgramData\\Anaconda3\\lib\\site-packages\\sklearn\\linear_model\\logistic.py:433: FutureWarning: Default solver will be changed to 'lbfgs' in 0.22. Specify a solver to silence this warning.\n",
      "  FutureWarning)\n"
     ]
    },
    {
     "data": {
      "text/html": [
       "<div>\n",
       "<style scoped>\n",
       "    .dataframe tbody tr th:only-of-type {\n",
       "        vertical-align: middle;\n",
       "    }\n",
       "\n",
       "    .dataframe tbody tr th {\n",
       "        vertical-align: top;\n",
       "    }\n",
       "\n",
       "    .dataframe thead th {\n",
       "        text-align: right;\n",
       "    }\n",
       "</style>\n",
       "<table border=\"1\" class=\"dataframe\">\n",
       "  <thead>\n",
       "    <tr style=\"text-align: right;\">\n",
       "      <th></th>\n",
       "      <th>Prediction:</th>\n",
       "      <th>Actual:</th>\n",
       "    </tr>\n",
       "  </thead>\n",
       "  <tbody>\n",
       "    <tr>\n",
       "      <th>0</th>\n",
       "      <td>1.0</td>\n",
       "      <td>0.0</td>\n",
       "    </tr>\n",
       "    <tr>\n",
       "      <th>1</th>\n",
       "      <td>0.0</td>\n",
       "      <td>1.0</td>\n",
       "    </tr>\n",
       "    <tr>\n",
       "      <th>2</th>\n",
       "      <td>1.0</td>\n",
       "      <td>1.0</td>\n",
       "    </tr>\n",
       "    <tr>\n",
       "      <th>3</th>\n",
       "      <td>0.0</td>\n",
       "      <td>0.0</td>\n",
       "    </tr>\n",
       "    <tr>\n",
       "      <th>4</th>\n",
       "      <td>1.0</td>\n",
       "      <td>1.0</td>\n",
       "    </tr>\n",
       "    <tr>\n",
       "      <th>5</th>\n",
       "      <td>0.0</td>\n",
       "      <td>0.0</td>\n",
       "    </tr>\n",
       "    <tr>\n",
       "      <th>6</th>\n",
       "      <td>1.0</td>\n",
       "      <td>0.0</td>\n",
       "    </tr>\n",
       "    <tr>\n",
       "      <th>7</th>\n",
       "      <td>0.0</td>\n",
       "      <td>0.0</td>\n",
       "    </tr>\n",
       "    <tr>\n",
       "      <th>8</th>\n",
       "      <td>0.0</td>\n",
       "      <td>0.0</td>\n",
       "    </tr>\n",
       "    <tr>\n",
       "      <th>9</th>\n",
       "      <td>1.0</td>\n",
       "      <td>0.0</td>\n",
       "    </tr>\n",
       "    <tr>\n",
       "      <th>10</th>\n",
       "      <td>1.0</td>\n",
       "      <td>1.0</td>\n",
       "    </tr>\n",
       "    <tr>\n",
       "      <th>11</th>\n",
       "      <td>1.0</td>\n",
       "      <td>0.0</td>\n",
       "    </tr>\n",
       "    <tr>\n",
       "      <th>12</th>\n",
       "      <td>1.0</td>\n",
       "      <td>1.0</td>\n",
       "    </tr>\n",
       "    <tr>\n",
       "      <th>13</th>\n",
       "      <td>0.0</td>\n",
       "      <td>1.0</td>\n",
       "    </tr>\n",
       "    <tr>\n",
       "      <th>14</th>\n",
       "      <td>0.0</td>\n",
       "      <td>1.0</td>\n",
       "    </tr>\n",
       "    <tr>\n",
       "      <th>15</th>\n",
       "      <td>0.0</td>\n",
       "      <td>1.0</td>\n",
       "    </tr>\n",
       "    <tr>\n",
       "      <th>16</th>\n",
       "      <td>0.0</td>\n",
       "      <td>0.0</td>\n",
       "    </tr>\n",
       "    <tr>\n",
       "      <th>17</th>\n",
       "      <td>0.0</td>\n",
       "      <td>1.0</td>\n",
       "    </tr>\n",
       "    <tr>\n",
       "      <th>18</th>\n",
       "      <td>1.0</td>\n",
       "      <td>1.0</td>\n",
       "    </tr>\n",
       "    <tr>\n",
       "      <th>19</th>\n",
       "      <td>0.0</td>\n",
       "      <td>0.0</td>\n",
       "    </tr>\n",
       "    <tr>\n",
       "      <th>20</th>\n",
       "      <td>1.0</td>\n",
       "      <td>0.0</td>\n",
       "    </tr>\n",
       "    <tr>\n",
       "      <th>21</th>\n",
       "      <td>0.0</td>\n",
       "      <td>0.0</td>\n",
       "    </tr>\n",
       "    <tr>\n",
       "      <th>22</th>\n",
       "      <td>0.0</td>\n",
       "      <td>0.0</td>\n",
       "    </tr>\n",
       "    <tr>\n",
       "      <th>23</th>\n",
       "      <td>1.0</td>\n",
       "      <td>1.0</td>\n",
       "    </tr>\n",
       "    <tr>\n",
       "      <th>24</th>\n",
       "      <td>1.0</td>\n",
       "      <td>1.0</td>\n",
       "    </tr>\n",
       "    <tr>\n",
       "      <th>25</th>\n",
       "      <td>1.0</td>\n",
       "      <td>1.0</td>\n",
       "    </tr>\n",
       "    <tr>\n",
       "      <th>26</th>\n",
       "      <td>1.0</td>\n",
       "      <td>1.0</td>\n",
       "    </tr>\n",
       "    <tr>\n",
       "      <th>27</th>\n",
       "      <td>1.0</td>\n",
       "      <td>0.0</td>\n",
       "    </tr>\n",
       "    <tr>\n",
       "      <th>28</th>\n",
       "      <td>0.0</td>\n",
       "      <td>0.0</td>\n",
       "    </tr>\n",
       "    <tr>\n",
       "      <th>29</th>\n",
       "      <td>0.0</td>\n",
       "      <td>1.0</td>\n",
       "    </tr>\n",
       "    <tr>\n",
       "      <th>...</th>\n",
       "      <td>...</td>\n",
       "      <td>...</td>\n",
       "    </tr>\n",
       "    <tr>\n",
       "      <th>4896</th>\n",
       "      <td>1.0</td>\n",
       "      <td>0.0</td>\n",
       "    </tr>\n",
       "    <tr>\n",
       "      <th>4897</th>\n",
       "      <td>0.0</td>\n",
       "      <td>0.0</td>\n",
       "    </tr>\n",
       "    <tr>\n",
       "      <th>4898</th>\n",
       "      <td>1.0</td>\n",
       "      <td>1.0</td>\n",
       "    </tr>\n",
       "    <tr>\n",
       "      <th>4899</th>\n",
       "      <td>0.0</td>\n",
       "      <td>0.0</td>\n",
       "    </tr>\n",
       "    <tr>\n",
       "      <th>4900</th>\n",
       "      <td>1.0</td>\n",
       "      <td>0.0</td>\n",
       "    </tr>\n",
       "    <tr>\n",
       "      <th>4901</th>\n",
       "      <td>1.0</td>\n",
       "      <td>1.0</td>\n",
       "    </tr>\n",
       "    <tr>\n",
       "      <th>4902</th>\n",
       "      <td>0.0</td>\n",
       "      <td>0.0</td>\n",
       "    </tr>\n",
       "    <tr>\n",
       "      <th>4903</th>\n",
       "      <td>0.0</td>\n",
       "      <td>0.0</td>\n",
       "    </tr>\n",
       "    <tr>\n",
       "      <th>4904</th>\n",
       "      <td>0.0</td>\n",
       "      <td>0.0</td>\n",
       "    </tr>\n",
       "    <tr>\n",
       "      <th>4905</th>\n",
       "      <td>0.0</td>\n",
       "      <td>0.0</td>\n",
       "    </tr>\n",
       "    <tr>\n",
       "      <th>4906</th>\n",
       "      <td>0.0</td>\n",
       "      <td>0.0</td>\n",
       "    </tr>\n",
       "    <tr>\n",
       "      <th>4907</th>\n",
       "      <td>1.0</td>\n",
       "      <td>1.0</td>\n",
       "    </tr>\n",
       "    <tr>\n",
       "      <th>4908</th>\n",
       "      <td>0.0</td>\n",
       "      <td>0.0</td>\n",
       "    </tr>\n",
       "    <tr>\n",
       "      <th>4909</th>\n",
       "      <td>0.0</td>\n",
       "      <td>0.0</td>\n",
       "    </tr>\n",
       "    <tr>\n",
       "      <th>4910</th>\n",
       "      <td>0.0</td>\n",
       "      <td>0.0</td>\n",
       "    </tr>\n",
       "    <tr>\n",
       "      <th>4911</th>\n",
       "      <td>0.0</td>\n",
       "      <td>0.0</td>\n",
       "    </tr>\n",
       "    <tr>\n",
       "      <th>4912</th>\n",
       "      <td>0.0</td>\n",
       "      <td>1.0</td>\n",
       "    </tr>\n",
       "    <tr>\n",
       "      <th>4913</th>\n",
       "      <td>1.0</td>\n",
       "      <td>0.0</td>\n",
       "    </tr>\n",
       "    <tr>\n",
       "      <th>4914</th>\n",
       "      <td>0.0</td>\n",
       "      <td>1.0</td>\n",
       "    </tr>\n",
       "    <tr>\n",
       "      <th>4915</th>\n",
       "      <td>0.0</td>\n",
       "      <td>0.0</td>\n",
       "    </tr>\n",
       "    <tr>\n",
       "      <th>4916</th>\n",
       "      <td>0.0</td>\n",
       "      <td>0.0</td>\n",
       "    </tr>\n",
       "    <tr>\n",
       "      <th>4917</th>\n",
       "      <td>1.0</td>\n",
       "      <td>1.0</td>\n",
       "    </tr>\n",
       "    <tr>\n",
       "      <th>4918</th>\n",
       "      <td>1.0</td>\n",
       "      <td>1.0</td>\n",
       "    </tr>\n",
       "    <tr>\n",
       "      <th>4919</th>\n",
       "      <td>0.0</td>\n",
       "      <td>1.0</td>\n",
       "    </tr>\n",
       "    <tr>\n",
       "      <th>4920</th>\n",
       "      <td>1.0</td>\n",
       "      <td>1.0</td>\n",
       "    </tr>\n",
       "    <tr>\n",
       "      <th>4921</th>\n",
       "      <td>1.0</td>\n",
       "      <td>0.0</td>\n",
       "    </tr>\n",
       "    <tr>\n",
       "      <th>4922</th>\n",
       "      <td>1.0</td>\n",
       "      <td>1.0</td>\n",
       "    </tr>\n",
       "    <tr>\n",
       "      <th>4923</th>\n",
       "      <td>1.0</td>\n",
       "      <td>1.0</td>\n",
       "    </tr>\n",
       "    <tr>\n",
       "      <th>4924</th>\n",
       "      <td>1.0</td>\n",
       "      <td>1.0</td>\n",
       "    </tr>\n",
       "    <tr>\n",
       "      <th>4925</th>\n",
       "      <td>0.0</td>\n",
       "      <td>0.0</td>\n",
       "    </tr>\n",
       "  </tbody>\n",
       "</table>\n",
       "<p>4926 rows × 2 columns</p>\n",
       "</div>"
      ],
      "text/plain": [
       "      Prediction:  Actual:\n",
       "0             1.0      0.0\n",
       "1             0.0      1.0\n",
       "2             1.0      1.0\n",
       "3             0.0      0.0\n",
       "4             1.0      1.0\n",
       "5             0.0      0.0\n",
       "6             1.0      0.0\n",
       "7             0.0      0.0\n",
       "8             0.0      0.0\n",
       "9             1.0      0.0\n",
       "10            1.0      1.0\n",
       "11            1.0      0.0\n",
       "12            1.0      1.0\n",
       "13            0.0      1.0\n",
       "14            0.0      1.0\n",
       "15            0.0      1.0\n",
       "16            0.0      0.0\n",
       "17            0.0      1.0\n",
       "18            1.0      1.0\n",
       "19            0.0      0.0\n",
       "20            1.0      0.0\n",
       "21            0.0      0.0\n",
       "22            0.0      0.0\n",
       "23            1.0      1.0\n",
       "24            1.0      1.0\n",
       "25            1.0      1.0\n",
       "26            1.0      1.0\n",
       "27            1.0      0.0\n",
       "28            0.0      0.0\n",
       "29            0.0      1.0\n",
       "...           ...      ...\n",
       "4896          1.0      0.0\n",
       "4897          0.0      0.0\n",
       "4898          1.0      1.0\n",
       "4899          0.0      0.0\n",
       "4900          1.0      0.0\n",
       "4901          1.0      1.0\n",
       "4902          0.0      0.0\n",
       "4903          0.0      0.0\n",
       "4904          0.0      0.0\n",
       "4905          0.0      0.0\n",
       "4906          0.0      0.0\n",
       "4907          1.0      1.0\n",
       "4908          0.0      0.0\n",
       "4909          0.0      0.0\n",
       "4910          0.0      0.0\n",
       "4911          0.0      0.0\n",
       "4912          0.0      1.0\n",
       "4913          1.0      0.0\n",
       "4914          0.0      1.0\n",
       "4915          0.0      0.0\n",
       "4916          0.0      0.0\n",
       "4917          1.0      1.0\n",
       "4918          1.0      1.0\n",
       "4919          0.0      1.0\n",
       "4920          1.0      1.0\n",
       "4921          1.0      0.0\n",
       "4922          1.0      1.0\n",
       "4923          1.0      1.0\n",
       "4924          1.0      1.0\n",
       "4925          0.0      0.0\n",
       "\n",
       "[4926 rows x 2 columns]"
      ]
     },
     "execution_count": 309,
     "metadata": {},
     "output_type": "execute_result"
    }
   ],
   "source": [
    "# Create the logistic regression\n",
    "from sklearn.linear_model import LogisticRegression\n",
    "classifier = LogisticRegression()\n",
    "classifier\n",
    "classifier.fit(X1_train, y1_train)\n",
    "print(f\"First 10 predictions: {predictions[:10]}\")\n",
    "print(f\"First 10 Actual Labels: {y1_test[:10].tolist()}\")\n",
    "pd.DataFrame({\"Prediction:\": predictions, \"Actual:\": y1_test}).reset_index(drop=True)"
   ]
  },
  {
   "cell_type": "code",
   "execution_count": 211,
   "metadata": {},
   "outputs": [
    {
     "data": {
      "text/plain": [
       "array([[5684, 1410],\n",
       "       [2638, 1988]], dtype=int64)"
      ]
     },
     "execution_count": 211,
     "metadata": {},
     "output_type": "execute_result"
    }
   ],
   "source": [
    "confusion_matrix(y1_test, predictions)"
   ]
  },
  {
   "cell_type": "code",
   "execution_count": 157,
   "metadata": {},
   "outputs": [
    {
     "name": "stdout",
     "output_type": "stream",
     "text": [
      "Unnamed: 0\n",
      "play_id\n",
      "game_id\n",
      "play_type\n",
      "down\n",
      "pass_length\n",
      "pass_length.1\n",
      "run_location\n",
      "new_dep\n"
     ]
    }
   ],
   "source": [
    "for x in Third_Down.columns:\n",
    "    if x not in weights.keys():\n",
    "        print (x)"
   ]
  },
  {
   "cell_type": "code",
   "execution_count": 158,
   "metadata": {},
   "outputs": [
    {
     "data": {
      "text/html": [
       "<div>\n",
       "<style scoped>\n",
       "    .dataframe tbody tr th:only-of-type {\n",
       "        vertical-align: middle;\n",
       "    }\n",
       "\n",
       "    .dataframe tbody tr th {\n",
       "        vertical-align: top;\n",
       "    }\n",
       "\n",
       "    .dataframe thead th {\n",
       "        text-align: right;\n",
       "    }\n",
       "</style>\n",
       "<table border=\"1\" class=\"dataframe\">\n",
       "  <thead>\n",
       "    <tr style=\"text-align: right;\">\n",
       "      <th></th>\n",
       "      <th>td_prob</th>\n",
       "      <th>ydstogo</th>\n",
       "      <th>half_seconds_remaining</th>\n",
       "      <th>fg_prob</th>\n",
       "      <th>score_differential</th>\n",
       "      <th>yardline_100</th>\n",
       "      <th>play_type</th>\n",
       "    </tr>\n",
       "  </thead>\n",
       "  <tbody>\n",
       "    <tr>\n",
       "      <th>29362</th>\n",
       "      <td>0.355049</td>\n",
       "      <td>5</td>\n",
       "      <td>1653.0</td>\n",
       "      <td>0.301795</td>\n",
       "      <td>0.0</td>\n",
       "      <td>53.0</td>\n",
       "      <td>pass</td>\n",
       "    </tr>\n",
       "    <tr>\n",
       "      <th>33569</th>\n",
       "      <td>0.357882</td>\n",
       "      <td>7</td>\n",
       "      <td>904.0</td>\n",
       "      <td>0.446105</td>\n",
       "      <td>0.0</td>\n",
       "      <td>32.0</td>\n",
       "      <td>pass</td>\n",
       "    </tr>\n",
       "    <tr>\n",
       "      <th>23098</th>\n",
       "      <td>0.396644</td>\n",
       "      <td>1</td>\n",
       "      <td>1560.0</td>\n",
       "      <td>0.174244</td>\n",
       "      <td>-7.0</td>\n",
       "      <td>71.0</td>\n",
       "      <td>pass</td>\n",
       "    </tr>\n",
       "    <tr>\n",
       "      <th>27595</th>\n",
       "      <td>0.264085</td>\n",
       "      <td>8</td>\n",
       "      <td>287.0</td>\n",
       "      <td>0.264759</td>\n",
       "      <td>3.0</td>\n",
       "      <td>47.0</td>\n",
       "      <td>pass</td>\n",
       "    </tr>\n",
       "    <tr>\n",
       "      <th>21109</th>\n",
       "      <td>0.477436</td>\n",
       "      <td>1</td>\n",
       "      <td>1434.0</td>\n",
       "      <td>0.342758</td>\n",
       "      <td>0.0</td>\n",
       "      <td>39.0</td>\n",
       "      <td>pass</td>\n",
       "    </tr>\n",
       "  </tbody>\n",
       "</table>\n",
       "</div>"
      ],
      "text/plain": [
       "        td_prob  ydstogo  half_seconds_remaining   fg_prob  \\\n",
       "29362  0.355049        5                  1653.0  0.301795   \n",
       "33569  0.357882        7                   904.0  0.446105   \n",
       "23098  0.396644        1                  1560.0  0.174244   \n",
       "27595  0.264085        8                   287.0  0.264759   \n",
       "21109  0.477436        1                  1434.0  0.342758   \n",
       "\n",
       "       score_differential  yardline_100 play_type  \n",
       "29362                 0.0          53.0      pass  \n",
       "33569                 0.0          32.0      pass  \n",
       "23098                -7.0          71.0      pass  \n",
       "27595                 3.0          47.0      pass  \n",
       "21109                 0.0          39.0      pass  "
      ]
     },
     "execution_count": 158,
     "metadata": {},
     "output_type": "execute_result"
    }
   ],
   "source": [
    "X1_train.head()"
   ]
  },
  {
   "cell_type": "code",
   "execution_count": null,
   "metadata": {},
   "outputs": [],
   "source": []
  }
 ],
 "metadata": {
  "kernelspec": {
   "display_name": "Python 3",
   "language": "python",
   "name": "python3"
  },
  "language_info": {
   "codemirror_mode": {
    "name": "ipython",
    "version": 3
   },
   "file_extension": ".py",
   "mimetype": "text/x-python",
   "name": "python",
   "nbconvert_exporter": "python",
   "pygments_lexer": "ipython3",
   "version": "3.7.3"
  }
 },
 "nbformat": 4,
 "nbformat_minor": 2
}
