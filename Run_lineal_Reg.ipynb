{
 "cells": [
  {
   "cell_type": "code",
   "execution_count": 1,
   "metadata": {},
   "outputs": [],
   "source": [
    "%matplotlib inline\n",
    "import matplotlib.pyplot as plt\n",
    "import numpy as np\n",
    "import pandas as pd\n"
   ]
  },
  {
   "cell_type": "code",
   "execution_count": 2,
   "metadata": {},
   "outputs": [
    {
     "data": {
      "text/html": [
       "<div>\n",
       "<style scoped>\n",
       "    .dataframe tbody tr th:only-of-type {\n",
       "        vertical-align: middle;\n",
       "    }\n",
       "\n",
       "    .dataframe tbody tr th {\n",
       "        vertical-align: top;\n",
       "    }\n",
       "\n",
       "    .dataframe thead th {\n",
       "        text-align: right;\n",
       "    }\n",
       "</style>\n",
       "<table border=\"1\" class=\"dataframe\">\n",
       "  <thead>\n",
       "    <tr style=\"text-align: right;\">\n",
       "      <th></th>\n",
       "      <th>Unnamed: 0</th>\n",
       "      <th>play_id</th>\n",
       "      <th>game_id</th>\n",
       "      <th>shotgun</th>\n",
       "      <th>no_huddle</th>\n",
       "      <th>ydstogo</th>\n",
       "      <th>yardline_100</th>\n",
       "      <th>play_type</th>\n",
       "      <th>half_seconds_remaining</th>\n",
       "      <th>down</th>\n",
       "      <th>pass_length</th>\n",
       "      <th>pass_length.1</th>\n",
       "      <th>run_location</th>\n",
       "      <th>score_differential</th>\n",
       "      <th>fg_prob</th>\n",
       "      <th>td_prob</th>\n",
       "      <th>ep</th>\n",
       "      <th>third_down_converted</th>\n",
       "    </tr>\n",
       "  </thead>\n",
       "  <tbody>\n",
       "    <tr>\n",
       "      <th>0</th>\n",
       "      <td>0</td>\n",
       "      <td>190</td>\n",
       "      <td>2018090600</td>\n",
       "      <td>1</td>\n",
       "      <td>0</td>\n",
       "      <td>10</td>\n",
       "      <td>39.0</td>\n",
       "      <td>pass</td>\n",
       "      <td>1681.0</td>\n",
       "      <td>3.0</td>\n",
       "      <td>deep</td>\n",
       "      <td>deep</td>\n",
       "      <td>NaN</td>\n",
       "      <td>0.0</td>\n",
       "      <td>0.415009</td>\n",
       "      <td>0.333712</td>\n",
       "      <td>2.250232</td>\n",
       "      <td>1.0</td>\n",
       "    </tr>\n",
       "    <tr>\n",
       "      <th>1</th>\n",
       "      <td>1</td>\n",
       "      <td>256</td>\n",
       "      <td>2018090600</td>\n",
       "      <td>1</td>\n",
       "      <td>0</td>\n",
       "      <td>1</td>\n",
       "      <td>1.0</td>\n",
       "      <td>pass</td>\n",
       "      <td>1559.0</td>\n",
       "      <td>3.0</td>\n",
       "      <td>short</td>\n",
       "      <td>short</td>\n",
       "      <td>NaN</td>\n",
       "      <td>0.0</td>\n",
       "      <td>0.204515</td>\n",
       "      <td>0.749825</td>\n",
       "      <td>5.661931</td>\n",
       "      <td>0.0</td>\n",
       "    </tr>\n",
       "    <tr>\n",
       "      <th>2</th>\n",
       "      <td>2</td>\n",
       "      <td>344</td>\n",
       "      <td>2018090600</td>\n",
       "      <td>1</td>\n",
       "      <td>0</td>\n",
       "      <td>4</td>\n",
       "      <td>92.0</td>\n",
       "      <td>pass</td>\n",
       "      <td>1464.0</td>\n",
       "      <td>3.0</td>\n",
       "      <td>short</td>\n",
       "      <td>short</td>\n",
       "      <td>NaN</td>\n",
       "      <td>0.0</td>\n",
       "      <td>0.093928</td>\n",
       "      <td>0.213978</td>\n",
       "      <td>-1.832560</td>\n",
       "      <td>0.0</td>\n",
       "    </tr>\n",
       "    <tr>\n",
       "      <th>3</th>\n",
       "      <td>3</td>\n",
       "      <td>445</td>\n",
       "      <td>2018090600</td>\n",
       "      <td>1</td>\n",
       "      <td>0</td>\n",
       "      <td>5</td>\n",
       "      <td>39.0</td>\n",
       "      <td>run</td>\n",
       "      <td>1404.0</td>\n",
       "      <td>3.0</td>\n",
       "      <td>NaN</td>\n",
       "      <td>NaN</td>\n",
       "      <td>right</td>\n",
       "      <td>0.0</td>\n",
       "      <td>0.395592</td>\n",
       "      <td>0.377457</td>\n",
       "      <td>2.642543</td>\n",
       "      <td>1.0</td>\n",
       "    </tr>\n",
       "    <tr>\n",
       "      <th>4</th>\n",
       "      <td>4</td>\n",
       "      <td>636</td>\n",
       "      <td>2018090600</td>\n",
       "      <td>1</td>\n",
       "      <td>0</td>\n",
       "      <td>3</td>\n",
       "      <td>3.0</td>\n",
       "      <td>pass</td>\n",
       "      <td>1207.0</td>\n",
       "      <td>3.0</td>\n",
       "      <td>short</td>\n",
       "      <td>short</td>\n",
       "      <td>NaN</td>\n",
       "      <td>0.0</td>\n",
       "      <td>0.386222</td>\n",
       "      <td>0.567801</td>\n",
       "      <td>4.926552</td>\n",
       "      <td>0.0</td>\n",
       "    </tr>\n",
       "    <tr>\n",
       "      <th>5</th>\n",
       "      <td>5</td>\n",
       "      <td>839</td>\n",
       "      <td>2018090600</td>\n",
       "      <td>1</td>\n",
       "      <td>0</td>\n",
       "      <td>12</td>\n",
       "      <td>59.0</td>\n",
       "      <td>pass</td>\n",
       "      <td>981.0</td>\n",
       "      <td>3.0</td>\n",
       "      <td>NaN</td>\n",
       "      <td>NaN</td>\n",
       "      <td>NaN</td>\n",
       "      <td>-3.0</td>\n",
       "      <td>0.272244</td>\n",
       "      <td>0.291378</td>\n",
       "      <td>0.687785</td>\n",
       "      <td>0.0</td>\n",
       "    </tr>\n",
       "    <tr>\n",
       "      <th>6</th>\n",
       "      <td>6</td>\n",
       "      <td>949</td>\n",
       "      <td>2018090600</td>\n",
       "      <td>1</td>\n",
       "      <td>0</td>\n",
       "      <td>12</td>\n",
       "      <td>82.0</td>\n",
       "      <td>pass</td>\n",
       "      <td>900.0</td>\n",
       "      <td>3.0</td>\n",
       "      <td>short</td>\n",
       "      <td>short</td>\n",
       "      <td>NaN</td>\n",
       "      <td>3.0</td>\n",
       "      <td>0.133984</td>\n",
       "      <td>0.205101</td>\n",
       "      <td>-1.377900</td>\n",
       "      <td>0.0</td>\n",
       "    </tr>\n",
       "    <tr>\n",
       "      <th>7</th>\n",
       "      <td>7</td>\n",
       "      <td>1037</td>\n",
       "      <td>2018090600</td>\n",
       "      <td>1</td>\n",
       "      <td>0</td>\n",
       "      <td>7</td>\n",
       "      <td>57.0</td>\n",
       "      <td>pass</td>\n",
       "      <td>773.0</td>\n",
       "      <td>3.0</td>\n",
       "      <td>short</td>\n",
       "      <td>short</td>\n",
       "      <td>NaN</td>\n",
       "      <td>-3.0</td>\n",
       "      <td>0.269825</td>\n",
       "      <td>0.319773</td>\n",
       "      <td>1.193780</td>\n",
       "      <td>1.0</td>\n",
       "    </tr>\n",
       "    <tr>\n",
       "      <th>8</th>\n",
       "      <td>8</td>\n",
       "      <td>1160</td>\n",
       "      <td>2018090600</td>\n",
       "      <td>1</td>\n",
       "      <td>1</td>\n",
       "      <td>1</td>\n",
       "      <td>22.0</td>\n",
       "      <td>run</td>\n",
       "      <td>613.0</td>\n",
       "      <td>3.0</td>\n",
       "      <td>NaN</td>\n",
       "      <td>NaN</td>\n",
       "      <td>left</td>\n",
       "      <td>-3.0</td>\n",
       "      <td>0.415125</td>\n",
       "      <td>0.454985</td>\n",
       "      <td>3.967255</td>\n",
       "      <td>1.0</td>\n",
       "    </tr>\n",
       "    <tr>\n",
       "      <th>9</th>\n",
       "      <td>9</td>\n",
       "      <td>1344</td>\n",
       "      <td>2018090600</td>\n",
       "      <td>1</td>\n",
       "      <td>0</td>\n",
       "      <td>18</td>\n",
       "      <td>18.0</td>\n",
       "      <td>pass</td>\n",
       "      <td>413.0</td>\n",
       "      <td>3.0</td>\n",
       "      <td>short</td>\n",
       "      <td>short</td>\n",
       "      <td>NaN</td>\n",
       "      <td>-3.0</td>\n",
       "      <td>0.640069</td>\n",
       "      <td>0.255746</td>\n",
       "      <td>3.489784</td>\n",
       "      <td>0.0</td>\n",
       "    </tr>\n",
       "  </tbody>\n",
       "</table>\n",
       "</div>"
      ],
      "text/plain": [
       "   Unnamed: 0  play_id     game_id  shotgun  no_huddle  ydstogo  yardline_100  \\\n",
       "0           0      190  2018090600        1          0       10          39.0   \n",
       "1           1      256  2018090600        1          0        1           1.0   \n",
       "2           2      344  2018090600        1          0        4          92.0   \n",
       "3           3      445  2018090600        1          0        5          39.0   \n",
       "4           4      636  2018090600        1          0        3           3.0   \n",
       "5           5      839  2018090600        1          0       12          59.0   \n",
       "6           6      949  2018090600        1          0       12          82.0   \n",
       "7           7     1037  2018090600        1          0        7          57.0   \n",
       "8           8     1160  2018090600        1          1        1          22.0   \n",
       "9           9     1344  2018090600        1          0       18          18.0   \n",
       "\n",
       "  play_type  half_seconds_remaining  down pass_length pass_length.1  \\\n",
       "0      pass                  1681.0   3.0        deep          deep   \n",
       "1      pass                  1559.0   3.0       short         short   \n",
       "2      pass                  1464.0   3.0       short         short   \n",
       "3       run                  1404.0   3.0         NaN           NaN   \n",
       "4      pass                  1207.0   3.0       short         short   \n",
       "5      pass                   981.0   3.0         NaN           NaN   \n",
       "6      pass                   900.0   3.0       short         short   \n",
       "7      pass                   773.0   3.0       short         short   \n",
       "8       run                   613.0   3.0         NaN           NaN   \n",
       "9      pass                   413.0   3.0       short         short   \n",
       "\n",
       "  run_location  score_differential   fg_prob   td_prob        ep  \\\n",
       "0          NaN                 0.0  0.415009  0.333712  2.250232   \n",
       "1          NaN                 0.0  0.204515  0.749825  5.661931   \n",
       "2          NaN                 0.0  0.093928  0.213978 -1.832560   \n",
       "3        right                 0.0  0.395592  0.377457  2.642543   \n",
       "4          NaN                 0.0  0.386222  0.567801  4.926552   \n",
       "5          NaN                -3.0  0.272244  0.291378  0.687785   \n",
       "6          NaN                 3.0  0.133984  0.205101 -1.377900   \n",
       "7          NaN                -3.0  0.269825  0.319773  1.193780   \n",
       "8         left                -3.0  0.415125  0.454985  3.967255   \n",
       "9          NaN                -3.0  0.640069  0.255746  3.489784   \n",
       "\n",
       "   third_down_converted  \n",
       "0                   1.0  \n",
       "1                   0.0  \n",
       "2                   0.0  \n",
       "3                   1.0  \n",
       "4                   0.0  \n",
       "5                   0.0  \n",
       "6                   0.0  \n",
       "7                   1.0  \n",
       "8                   1.0  \n",
       "9                   0.0  "
      ]
     },
     "execution_count": 2,
     "metadata": {},
     "output_type": "execute_result"
    }
   ],
   "source": [
    "NFL_Data = pd.read_csv(r'C:\\Users\\rbonner\\Google Drive\\Bootcamp\\Final_Project\\thirdDown.csv')\n",
    "NFL_Data.head(10)"
   ]
  },
  {
   "cell_type": "code",
   "execution_count": 3,
   "metadata": {},
   "outputs": [
    {
     "data": {
      "text/html": [
       "<div>\n",
       "<style scoped>\n",
       "    .dataframe tbody tr th:only-of-type {\n",
       "        vertical-align: middle;\n",
       "    }\n",
       "\n",
       "    .dataframe tbody tr th {\n",
       "        vertical-align: top;\n",
       "    }\n",
       "\n",
       "    .dataframe thead th {\n",
       "        text-align: right;\n",
       "    }\n",
       "</style>\n",
       "<table border=\"1\" class=\"dataframe\">\n",
       "  <thead>\n",
       "    <tr style=\"text-align: right;\">\n",
       "      <th></th>\n",
       "      <th>Unnamed: 0</th>\n",
       "      <th>play_id</th>\n",
       "      <th>game_id</th>\n",
       "      <th>shotgun</th>\n",
       "      <th>no_huddle</th>\n",
       "      <th>ydstogo</th>\n",
       "      <th>yardline_100</th>\n",
       "      <th>play_type</th>\n",
       "      <th>half_seconds_remaining</th>\n",
       "      <th>down</th>\n",
       "      <th>pass_length</th>\n",
       "      <th>pass_length.1</th>\n",
       "      <th>run_location</th>\n",
       "      <th>score_differential</th>\n",
       "      <th>fg_prob</th>\n",
       "      <th>td_prob</th>\n",
       "      <th>ep</th>\n",
       "      <th>third_down_converted</th>\n",
       "    </tr>\n",
       "  </thead>\n",
       "  <tbody>\n",
       "    <tr>\n",
       "      <th>3</th>\n",
       "      <td>3</td>\n",
       "      <td>445</td>\n",
       "      <td>2018090600</td>\n",
       "      <td>1</td>\n",
       "      <td>0</td>\n",
       "      <td>5</td>\n",
       "      <td>39.0</td>\n",
       "      <td>run</td>\n",
       "      <td>1404.0</td>\n",
       "      <td>3.0</td>\n",
       "      <td>NaN</td>\n",
       "      <td>NaN</td>\n",
       "      <td>right</td>\n",
       "      <td>0.0</td>\n",
       "      <td>0.395592</td>\n",
       "      <td>0.377457</td>\n",
       "      <td>2.642543</td>\n",
       "      <td>1.0</td>\n",
       "    </tr>\n",
       "    <tr>\n",
       "      <th>8</th>\n",
       "      <td>8</td>\n",
       "      <td>1160</td>\n",
       "      <td>2018090600</td>\n",
       "      <td>1</td>\n",
       "      <td>1</td>\n",
       "      <td>1</td>\n",
       "      <td>22.0</td>\n",
       "      <td>run</td>\n",
       "      <td>613.0</td>\n",
       "      <td>3.0</td>\n",
       "      <td>NaN</td>\n",
       "      <td>NaN</td>\n",
       "      <td>left</td>\n",
       "      <td>-3.0</td>\n",
       "      <td>0.415125</td>\n",
       "      <td>0.454985</td>\n",
       "      <td>3.967255</td>\n",
       "      <td>1.0</td>\n",
       "    </tr>\n",
       "    <tr>\n",
       "      <th>14</th>\n",
       "      <td>14</td>\n",
       "      <td>2672</td>\n",
       "      <td>2018090600</td>\n",
       "      <td>0</td>\n",
       "      <td>0</td>\n",
       "      <td>1</td>\n",
       "      <td>54.0</td>\n",
       "      <td>run</td>\n",
       "      <td>1429.0</td>\n",
       "      <td>3.0</td>\n",
       "      <td>NaN</td>\n",
       "      <td>NaN</td>\n",
       "      <td>right</td>\n",
       "      <td>-3.0</td>\n",
       "      <td>0.260790</td>\n",
       "      <td>0.458135</td>\n",
       "      <td>2.519950</td>\n",
       "      <td>1.0</td>\n",
       "    </tr>\n",
       "    <tr>\n",
       "      <th>19</th>\n",
       "      <td>19</td>\n",
       "      <td>3460</td>\n",
       "      <td>2018090600</td>\n",
       "      <td>0</td>\n",
       "      <td>0</td>\n",
       "      <td>1</td>\n",
       "      <td>87.0</td>\n",
       "      <td>run</td>\n",
       "      <td>691.0</td>\n",
       "      <td>3.0</td>\n",
       "      <td>NaN</td>\n",
       "      <td>NaN</td>\n",
       "      <td>right</td>\n",
       "      <td>4.0</td>\n",
       "      <td>0.097999</td>\n",
       "      <td>0.292759</td>\n",
       "      <td>-0.193396</td>\n",
       "      <td>1.0</td>\n",
       "    </tr>\n",
       "    <tr>\n",
       "      <th>22</th>\n",
       "      <td>22</td>\n",
       "      <td>337</td>\n",
       "      <td>2018090900</td>\n",
       "      <td>0</td>\n",
       "      <td>0</td>\n",
       "      <td>1</td>\n",
       "      <td>11.0</td>\n",
       "      <td>run</td>\n",
       "      <td>1464.0</td>\n",
       "      <td>3.0</td>\n",
       "      <td>NaN</td>\n",
       "      <td>NaN</td>\n",
       "      <td>middle</td>\n",
       "      <td>0.0</td>\n",
       "      <td>0.489985</td>\n",
       "      <td>0.442328</td>\n",
       "      <td>4.218395</td>\n",
       "      <td>1.0</td>\n",
       "    </tr>\n",
       "    <tr>\n",
       "      <th>27</th>\n",
       "      <td>27</td>\n",
       "      <td>1115</td>\n",
       "      <td>2018090900</td>\n",
       "      <td>1</td>\n",
       "      <td>0</td>\n",
       "      <td>22</td>\n",
       "      <td>87.0</td>\n",
       "      <td>run</td>\n",
       "      <td>900.0</td>\n",
       "      <td>3.0</td>\n",
       "      <td>NaN</td>\n",
       "      <td>NaN</td>\n",
       "      <td>middle</td>\n",
       "      <td>-14.0</td>\n",
       "      <td>0.112259</td>\n",
       "      <td>0.160949</td>\n",
       "      <td>-2.093438</td>\n",
       "      <td>0.0</td>\n",
       "    </tr>\n",
       "    <tr>\n",
       "      <th>32</th>\n",
       "      <td>32</td>\n",
       "      <td>2071</td>\n",
       "      <td>2018090900</td>\n",
       "      <td>1</td>\n",
       "      <td>0</td>\n",
       "      <td>9</td>\n",
       "      <td>74.0</td>\n",
       "      <td>run</td>\n",
       "      <td>211.0</td>\n",
       "      <td>3.0</td>\n",
       "      <td>NaN</td>\n",
       "      <td>NaN</td>\n",
       "      <td>right</td>\n",
       "      <td>-20.0</td>\n",
       "      <td>0.102316</td>\n",
       "      <td>0.151007</td>\n",
       "      <td>-0.174255</td>\n",
       "      <td>0.0</td>\n",
       "    </tr>\n",
       "    <tr>\n",
       "      <th>40</th>\n",
       "      <td>40</td>\n",
       "      <td>3548</td>\n",
       "      <td>2018090900</td>\n",
       "      <td>1</td>\n",
       "      <td>0</td>\n",
       "      <td>6</td>\n",
       "      <td>71.0</td>\n",
       "      <td>run</td>\n",
       "      <td>988.0</td>\n",
       "      <td>3.0</td>\n",
       "      <td>NaN</td>\n",
       "      <td>NaN</td>\n",
       "      <td>left</td>\n",
       "      <td>37.0</td>\n",
       "      <td>0.189809</td>\n",
       "      <td>0.287887</td>\n",
       "      <td>-0.006412</td>\n",
       "      <td>1.0</td>\n",
       "    </tr>\n",
       "    <tr>\n",
       "      <th>45</th>\n",
       "      <td>45</td>\n",
       "      <td>4408</td>\n",
       "      <td>2018090900</td>\n",
       "      <td>1</td>\n",
       "      <td>0</td>\n",
       "      <td>4</td>\n",
       "      <td>84.0</td>\n",
       "      <td>run</td>\n",
       "      <td>120.0</td>\n",
       "      <td>3.0</td>\n",
       "      <td>NaN</td>\n",
       "      <td>NaN</td>\n",
       "      <td>left</td>\n",
       "      <td>44.0</td>\n",
       "      <td>0.056247</td>\n",
       "      <td>0.117593</td>\n",
       "      <td>-0.304254</td>\n",
       "      <td>0.0</td>\n",
       "    </tr>\n",
       "    <tr>\n",
       "      <th>47</th>\n",
       "      <td>47</td>\n",
       "      <td>776</td>\n",
       "      <td>2018090907</td>\n",
       "      <td>0</td>\n",
       "      <td>0</td>\n",
       "      <td>8</td>\n",
       "      <td>8.0</td>\n",
       "      <td>run</td>\n",
       "      <td>973.0</td>\n",
       "      <td>3.0</td>\n",
       "      <td>NaN</td>\n",
       "      <td>NaN</td>\n",
       "      <td>left</td>\n",
       "      <td>-3.0</td>\n",
       "      <td>0.565936</td>\n",
       "      <td>0.385835</td>\n",
       "      <td>4.190838</td>\n",
       "      <td>0.0</td>\n",
       "    </tr>\n",
       "  </tbody>\n",
       "</table>\n",
       "</div>"
      ],
      "text/plain": [
       "    Unnamed: 0  play_id     game_id  shotgun  no_huddle  ydstogo  \\\n",
       "3            3      445  2018090600        1          0        5   \n",
       "8            8     1160  2018090600        1          1        1   \n",
       "14          14     2672  2018090600        0          0        1   \n",
       "19          19     3460  2018090600        0          0        1   \n",
       "22          22      337  2018090900        0          0        1   \n",
       "27          27     1115  2018090900        1          0       22   \n",
       "32          32     2071  2018090900        1          0        9   \n",
       "40          40     3548  2018090900        1          0        6   \n",
       "45          45     4408  2018090900        1          0        4   \n",
       "47          47      776  2018090907        0          0        8   \n",
       "\n",
       "    yardline_100 play_type  half_seconds_remaining  down pass_length  \\\n",
       "3           39.0       run                  1404.0   3.0         NaN   \n",
       "8           22.0       run                   613.0   3.0         NaN   \n",
       "14          54.0       run                  1429.0   3.0         NaN   \n",
       "19          87.0       run                   691.0   3.0         NaN   \n",
       "22          11.0       run                  1464.0   3.0         NaN   \n",
       "27          87.0       run                   900.0   3.0         NaN   \n",
       "32          74.0       run                   211.0   3.0         NaN   \n",
       "40          71.0       run                   988.0   3.0         NaN   \n",
       "45          84.0       run                   120.0   3.0         NaN   \n",
       "47           8.0       run                   973.0   3.0         NaN   \n",
       "\n",
       "   pass_length.1 run_location  score_differential   fg_prob   td_prob  \\\n",
       "3            NaN        right                 0.0  0.395592  0.377457   \n",
       "8            NaN         left                -3.0  0.415125  0.454985   \n",
       "14           NaN        right                -3.0  0.260790  0.458135   \n",
       "19           NaN        right                 4.0  0.097999  0.292759   \n",
       "22           NaN       middle                 0.0  0.489985  0.442328   \n",
       "27           NaN       middle               -14.0  0.112259  0.160949   \n",
       "32           NaN        right               -20.0  0.102316  0.151007   \n",
       "40           NaN         left                37.0  0.189809  0.287887   \n",
       "45           NaN         left                44.0  0.056247  0.117593   \n",
       "47           NaN         left                -3.0  0.565936  0.385835   \n",
       "\n",
       "          ep  third_down_converted  \n",
       "3   2.642543                   1.0  \n",
       "8   3.967255                   1.0  \n",
       "14  2.519950                   1.0  \n",
       "19 -0.193396                   1.0  \n",
       "22  4.218395                   1.0  \n",
       "27 -2.093438                   0.0  \n",
       "32 -0.174255                   0.0  \n",
       "40 -0.006412                   1.0  \n",
       "45 -0.304254                   0.0  \n",
       "47  4.190838                   0.0  "
      ]
     },
     "execution_count": 3,
     "metadata": {},
     "output_type": "execute_result"
    }
   ],
   "source": [
    "#Filtering Run\n",
    "Run = NFL_Data.loc[NFL_Data['play_type'] == 'run']\n",
    "Run.head(10)"
   ]
  },
  {
   "cell_type": "code",
   "execution_count": 4,
   "metadata": {},
   "outputs": [],
   "source": [
    "#Filtering Right\n",
    "Run_Right = Run.loc[Run['run_location'] == 'right']\n"
   ]
  },
  {
   "cell_type": "code",
   "execution_count": 5,
   "metadata": {},
   "outputs": [],
   "source": [
    "#Filtering Left\n",
    "Run_Left = Run.loc[Run['run_location'] == 'left']\n"
   ]
  },
  {
   "cell_type": "code",
   "execution_count": 6,
   "metadata": {},
   "outputs": [],
   "source": [
    "#Filtering Middle\n",
    "Run_Middle = Run.loc[Run['run_location'] == 'middle']\n"
   ]
  },
  {
   "cell_type": "code",
   "execution_count": 7,
   "metadata": {},
   "outputs": [
    {
     "data": {
      "text/plain": [
       "(3471, 18)"
      ]
     },
     "execution_count": 7,
     "metadata": {},
     "output_type": "execute_result"
    }
   ],
   "source": [
    "Run_Middle.shape"
   ]
  },
  {
   "cell_type": "code",
   "execution_count": 8,
   "metadata": {},
   "outputs": [
    {
     "data": {
      "text/plain": [
       "(3141, 18)"
      ]
     },
     "execution_count": 8,
     "metadata": {},
     "output_type": "execute_result"
    }
   ],
   "source": [
    "Run_Right.shape"
   ]
  },
  {
   "cell_type": "code",
   "execution_count": 9,
   "metadata": {},
   "outputs": [
    {
     "data": {
      "text/plain": [
       "(3086, 18)"
      ]
     },
     "execution_count": 9,
     "metadata": {},
     "output_type": "execute_result"
    }
   ],
   "source": [
    "Run_Left.shape"
   ]
  },
  {
   "cell_type": "markdown",
   "metadata": {},
   "source": [
    "# Linear Regression"
   ]
  },
  {
   "cell_type": "code",
   "execution_count": 10,
   "metadata": {},
   "outputs": [
    {
     "data": {
      "text/plain": [
       "(1409, 18)"
      ]
     },
     "execution_count": 10,
     "metadata": {},
     "output_type": "execute_result"
    }
   ],
   "source": [
    "#Filtering Right_From Shotgun\n",
    "Run_Right_Shotgun = Run_Right.loc[Run_Right['shotgun'] == 1]\n",
    "Run_Right_Shotgun.shape"
   ]
  },
  {
   "cell_type": "code",
   "execution_count": 11,
   "metadata": {},
   "outputs": [
    {
     "data": {
      "text/plain": [
       "(1732, 18)"
      ]
     },
     "execution_count": 11,
     "metadata": {},
     "output_type": "execute_result"
    }
   ],
   "source": [
    "#Filtering Right_out Shotgun\n",
    "Run_Right_outShotgun = Run_Right.loc[Run_Right['shotgun'] == 0]\n",
    "Run_Right_outShotgun.shape"
   ]
  },
  {
   "cell_type": "markdown",
   "metadata": {},
   "source": [
    "# Shotgun and yrds to go VS third_down converted"
   ]
  },
  {
   "cell_type": "code",
   "execution_count": 12,
   "metadata": {},
   "outputs": [
    {
     "data": {
      "image/png": "[encoded data removed]",
      "text/plain": [
       "<Figure size 432x288 with 1 Axes>"
      ]
     },
     "metadata": {
      "needs_background": "light"
     },
     "output_type": "display_data"
    },
    {
     "data": {
      "image/png": "[encoded data removed]",
      "text/plain": [
       "<Figure size 432x288 with 1 Axes>"
      ]
     },
     "metadata": {
      "needs_background": "light"
     },
     "output_type": "display_data"
    },
    {
     "data": {
      "image/png": "[encoded data removed]",
      "text/plain": [
       "<Figure size 432x288 with 1 Axes>"
      ]
     },
     "metadata": {
      "needs_background": "light"
     },
     "output_type": "display_data"
    },
    {
     "data": {
      "image/png": "[encoded data removed]",
      "text/plain": [
       "<Figure size 432x288 with 1 Axes>"
      ]
     },
     "metadata": {
      "needs_background": "light"
     },
     "output_type": "display_data"
    },
    {
     "data": {
      "image/png": "[encoded data removed]",
      "text/plain": [
       "<Figure size 432x288 with 1 Axes>"
      ]
     },
     "metadata": {
      "needs_background": "light"
     },
     "output_type": "display_data"
    },
    {
     "data": {
      "image/png": "[encoded data removed]",
      "text/plain": [
       "<Figure size 432x288 with 1 Axes>"
      ]
     },
     "metadata": {
      "needs_background": "light"
     },
     "output_type": "display_data"
    }
   ],
   "source": [
    "\n",
    "#Scatter from Run_Right side on Shotgun and yrds to go VS third_down converted\n",
    "Run_Right_Converted = Run_Right.loc[Run_Right['third_down_converted'] == 1]\n",
    "plt.scatter(Run_Right_Converted['ydstogo'], Run_Right_Converted['shotgun'], color='green')\n",
    "plt.title('Converted Running from Right Side in Shotgun vs Yrds to go', fontsize=14)\n",
    "plt.xlabel('Yrds to Go', fontsize=14)\n",
    "plt.ylabel('ShotGun', fontsize=14)\n",
    "plt.grid(True)\n",
    "plt.show()\n",
    "\n",
    "#Scatter from Run_Right side on Shotgun and yrds to go VS third_down not converted\n",
    "Run_Right_NotConverted = Run_Right.loc[Run_Right['third_down_converted'] == 0]\n",
    "plt.scatter(Run_Right_NotConverted['ydstogo'], Run_Right_NotConverted['shotgun'], color='green')\n",
    "plt.title('Not Converted Running from Right Side in Shotgun vs Yrds to go', fontsize=14)\n",
    "plt.xlabel('Yrds to Go', fontsize=14)\n",
    "plt.ylabel('ShotGun', fontsize=14)\n",
    "plt.grid(True)\n",
    "plt.show()\n",
    "\n",
    "\n",
    "#Scatter from Run_Middle side on Shotgun and yrds to go VS third_down converted\n",
    "Run_Middle_Converted = Run_Middle.loc[Run_Middle['third_down_converted'] == 1]\n",
    "plt.scatter(Run_Middle_Converted['ydstogo'], Run_Middle_Converted['shotgun'], color='orange')\n",
    "plt.title('Converted Running from Middle Side in Shotgun vs Yrds to go', fontsize=14)\n",
    "plt.xlabel('Yrds to Go', fontsize=14)\n",
    "plt.ylabel('ShotGun', fontsize=14)\n",
    "plt.grid(True)\n",
    "plt.show()\n",
    "\n",
    "#Scatter from Run_Middle side on Shotgun and yrds to go VS third_down not converted\n",
    "Run_Middle_NotConverted = Run_Middle.loc[Run_Middle['third_down_converted'] == 0]\n",
    "plt.scatter(Run_Middle_NotConverted ['ydstogo'], Run_Middle_NotConverted ['shotgun'], color='orange')\n",
    "plt.title('Not Converted Running from Middle Side in Shotgun vs Yrds to go', fontsize=14)\n",
    "plt.xlabel('Yrds to Go', fontsize=14)\n",
    "plt.ylabel('ShotGun', fontsize=14)\n",
    "plt.grid(True)\n",
    "plt.show()\n",
    "\n",
    "#Scatter from Run_Left side on Shotgun and yrds to go VS third_down converted\n",
    "Run_Left_Converted = Run_Left.loc[Run_Left['third_down_converted'] == 1]\n",
    "plt.scatter(Run_Left_Converted['ydstogo'], Run_Left_Converted['shotgun'], color='blue')\n",
    "plt.title('Converted Running from Left Side in Shotgun vs Yrds to go', fontsize=14)\n",
    "plt.xlabel('Yrds to Go', fontsize=14)\n",
    "plt.ylabel('ShotGun', fontsize=14)\n",
    "plt.grid(True)\n",
    "plt.show()\n",
    "\n",
    "#Scatter from Run_Left side on Shotgun and yrds to go VS third_down not converted\n",
    "Run_Left_NotConverted = Run_Left.loc[Run_Left['third_down_converted'] == 0]\n",
    "plt.scatter(Run_Left_NotConverted ['ydstogo'], Run_Left_NotConverted ['shotgun'], color='blue')\n",
    "plt.title('Not Converted Running from Left Side in Shotgun vs Yrds to go', fontsize=14)\n",
    "plt.xlabel('Yrds to Go', fontsize=14)\n",
    "plt.ylabel('ShotGun', fontsize=14)\n",
    "plt.grid(True)\n",
    "plt.show()"
   ]
  },
  {
   "cell_type": "code",
   "execution_count": 13,
   "metadata": {},
   "outputs": [
    {
     "data": {
      "image/png": "[encoded data removed]",
      "text/plain": [
       "<Figure size 432x288 with 1 Axes>"
      ]
     },
     "metadata": {
      "needs_background": "light"
     },
     "output_type": "display_data"
    },
    {
     "data": {
      "image/png": "[encoded data removed]",
      "text/plain": [
       "<Figure size 432x288 with 1 Axes>"
      ]
     },
     "metadata": {
      "needs_background": "light"
     },
     "output_type": "display_data"
    },
    {
     "data": {
      "image/png": "[encoded data removed]",
      "text/plain": [
       "<Figure size 432x288 with 1 Axes>"
      ]
     },
     "metadata": {
      "needs_background": "light"
     },
     "output_type": "display_data"
    },
    {
     "data": {
      "image/png": "[encoded data removed]",
      "text/plain": [
       "<Figure size 432x288 with 1 Axes>"
      ]
     },
     "metadata": {
      "needs_background": "light"
     },
     "output_type": "display_data"
    },
    {
     "data": {
      "image/png": "[encoded data removed]",
      "text/plain": [
       "<Figure size 432x288 with 1 Axes>"
      ]
     },
     "metadata": {
      "needs_background": "light"
     },
     "output_type": "display_data"
    },
    {
     "data": {
      "image/png": "[encoded data removed]",
      "text/plain": [
       "<Figure size 432x288 with 1 Axes>"
      ]
     },
     "metadata": {
      "needs_background": "light"
     },
     "output_type": "display_data"
    }
   ],
   "source": [
    "#Scatter from Run_Right side vs Score_Diff and yrds to go VS third_down converted\n",
    "Run_Right_Converted = Run_Right.loc[Run_Right['third_down_converted'] == 1]\n",
    "plt.scatter(Run_Right_Converted['ydstogo'], Run_Right_Converted['score_differential'], color='green')\n",
    "plt.title('Converted Running from Right Side vs Score Diff vs Yrds to go', fontsize=14)\n",
    "plt.xlabel('Yrds to Go', fontsize=14)\n",
    "plt.ylabel('Score Diff', fontsize=14)\n",
    "plt.grid(True)\n",
    "plt.show()\n",
    "\n",
    "#Scatter from Run_Right side vs Score_Diff and yrds to go VS third_down not converted\n",
    "Run_Right_NotConverted = Run_Right.loc[Run_Right['third_down_converted'] == 0]\n",
    "plt.scatter(Run_Right_NotConverted['ydstogo'], Run_Right_NotConverted['score_differential'], color='green')\n",
    "plt.title('Not Converted Running from Right Side Score Diff vs Yrds to go', fontsize=14)\n",
    "plt.xlabel('Yrds to Go', fontsize=14)\n",
    "plt.ylabel('Score Diff', fontsize=14)\n",
    "plt.grid(True)\n",
    "plt.show()\n",
    "\n",
    "#Scatter from Run_Middle side vs Score_Diff and yrds to go VS third_down converted\n",
    "Run_Middle_Converted = Run_Middle.loc[Run_Middle['third_down_converted'] == 1]\n",
    "plt.scatter(Run_Middle_Converted['ydstogo'], Run_Middle_Converted['score_differential'], color='orange')\n",
    "plt.title('Converted Running from Middle Side Score Diff vs Yrds to go', fontsize=14)\n",
    "plt.xlabel('Yrds to Go', fontsize=14)\n",
    "plt.ylabel('Score Diff', fontsize=14)\n",
    "plt.grid(True)\n",
    "plt.show()\n",
    "\n",
    "#Scatter from Run_Middle side vs Score_Diff and yrds to go VS third_down not converted\n",
    "Run_Middle_NotConverted = Run_Middle.loc[Run_Middle['third_down_converted'] == 0]\n",
    "plt.scatter(Run_Middle_NotConverted ['ydstogo'], Run_Middle_NotConverted ['score_differential'], color='orange')\n",
    "plt.title('Not Converted Running from Middle Side Score Diff vs Yrds to go', fontsize=14)\n",
    "plt.xlabel('Yrds to Go', fontsize=14)\n",
    "plt.ylabel('Score Diff', fontsize=14)\n",
    "plt.grid(True)\n",
    "plt.show()\n",
    "\n",
    "#Scatter from Run_Left side vs Score_Diff and yrds to go VS third_down converted\n",
    "Run_Left_Converted = Run_Left.loc[Run_Left['third_down_converted'] == 1]\n",
    "plt.scatter(Run_Left_Converted['ydstogo'], Run_Left_Converted['score_differential'], color='blue')\n",
    "plt.title('Converted Running from Left Side Score Diff vs Yrds to go', fontsize=14)\n",
    "plt.xlabel('Yrds to Go', fontsize=14)\n",
    "plt.ylabel('Score Diff', fontsize=14)\n",
    "plt.grid(True)\n",
    "plt.show()\n",
    "\n",
    "#Scatter from Run_Left side vs Score_Diff and yrds to go VS third_down not converted\n",
    "Run_Left_NotConverted = Run_Left.loc[Run_Left['third_down_converted'] == 0]\n",
    "plt.scatter(Run_Left_NotConverted ['ydstogo'], Run_Left_NotConverted ['score_differential'], color='blue')\n",
    "plt.title('Not Converted Running from Left Side Score Diff vs Yrds to go', fontsize=14)\n",
    "plt.xlabel('Yrds to Go', fontsize=14)\n",
    "plt.ylabel('Score Diff', fontsize=14)\n",
    "plt.grid(True)\n",
    "plt.show()"
   ]
  },
  {
   "cell_type": "code",
   "execution_count": 14,
   "metadata": {},
   "outputs": [
    {
     "data": {
      "image/png": "[encoded data removed]",
      "text/plain": [
       "<Figure size 432x288 with 1 Axes>"
      ]
     },
     "metadata": {
      "needs_background": "light"
     },
     "output_type": "display_data"
    },
    {
     "data": {
      "image/png": "[encoded data removed]",
      "text/plain": [
       "<Figure size 432x288 with 1 Axes>"
      ]
     },
     "metadata": {
      "needs_background": "light"
     },
     "output_type": "display_data"
    },
    {
     "data": {
      "image/png": "[encoded data removed]",
      "text/plain": [
       "<Figure size 432x288 with 1 Axes>"
      ]
     },
     "metadata": {
      "needs_background": "light"
     },
     "output_type": "display_data"
    },
    {
     "data": {
      "image/png": "[encoded data removed]",
      "text/plain": [
       "<Figure size 432x288 with 1 Axes>"
      ]
     },
     "metadata": {
      "needs_background": "light"
     },
     "output_type": "display_data"
    },
    {
     "data": {
      "image/png": "[encoded data removed]",
      "text/plain": [
       "<Figure size 432x288 with 1 Axes>"
      ]
     },
     "metadata": {
      "needs_background": "light"
     },
     "output_type": "display_data"
    },
    {
     "data": {
      "image/png": "[encoded data removed]",
      "text/plain": [
       "<Figure size 432x288 with 1 Axes>"
      ]
     },
     "metadata": {
      "needs_background": "light"
     },
     "output_type": "display_data"
    }
   ],
   "source": [
    "#Scatter from Run_Right side vs half_seconds_remaining and yrds to go VS third_down converted\n",
    "Run_Right_Converted = Run_Right.loc[Run_Right['third_down_converted'] == 1]\n",
    "plt.scatter(Run_Right_Converted['ydstogo'], Run_Right_Converted['half_seconds_remaining'], color='green')\n",
    "plt.title('Converted Running from Right Side vs Score Diff vs Yrds to go', fontsize=14)\n",
    "plt.xlabel('Yrds to Go', fontsize=14)\n",
    "plt.ylabel('Score Diff', fontsize=14)\n",
    "plt.grid(True)\n",
    "plt.show()\n",
    "\n",
    "#Scatter from Run_Right side vs half_seconds_remaining and yrds to go VS third_down not converted\n",
    "Run_Right_NotConverted = Run_Right.loc[Run_Right['third_down_converted'] == 0]\n",
    "plt.scatter(Run_Right_NotConverted['ydstogo'], Run_Right_NotConverted['half_seconds_remaining'], color='green')\n",
    "plt.title('Not Converted Running from Right Side Score Diff vs Yrds to go', fontsize=14)\n",
    "plt.xlabel('Yrds to Go', fontsize=14)\n",
    "plt.ylabel('Score Diff', fontsize=14)\n",
    "plt.grid(True)\n",
    "plt.show()\n",
    "\n",
    "#Scatter from Run_Middle side vs half_seconds_remaining and yrds to go VS third_down converted\n",
    "Run_Middle_Converted = Run_Middle.loc[Run_Middle['third_down_converted'] == 1]\n",
    "plt.scatter(Run_Middle_Converted['ydstogo'], Run_Middle_Converted['half_seconds_remaining'], color='orange')\n",
    "plt.title('Converted Running from Middle Side Score Diff vs Yrds to go', fontsize=14)\n",
    "plt.xlabel('Yrds to Go', fontsize=14)\n",
    "plt.ylabel('half_seconds_remaining', fontsize=14)\n",
    "plt.grid(True)\n",
    "plt.show()\n",
    "\n",
    "#Scatter from Run_Middle side vs half_seconds_remaining and yrds to go VS third_down not converted\n",
    "Run_Middle_NotConverted = Run_Middle.loc[Run_Middle['third_down_converted'] == 0]\n",
    "plt.scatter(Run_Middle_NotConverted ['ydstogo'], Run_Middle_NotConverted ['half_seconds_remaining'], color='orange')\n",
    "plt.title('Not Converted Running from Middle Side Score Diff vs Yrds to go', fontsize=14)\n",
    "plt.xlabel('Yrds to Go', fontsize=14)\n",
    "plt.ylabel('half_seconds_remaining', fontsize=14)\n",
    "plt.grid(True)\n",
    "plt.show()\n",
    "\n",
    "#Scatter from Run_Left side on Shotgun and yrds to go VS third_down converted\n",
    "Run_Left_Converted = Run_Left.loc[Run_Left['third_down_converted'] == 1]\n",
    "plt.scatter(Run_Left_Converted['ydstogo'], Run_Left_Converted['half_seconds_remaining'], color='blue')\n",
    "plt.title('Converted Running from Left Side Score Diff vs Yrds to go', fontsize=14)\n",
    "plt.xlabel('Yrds to Go', fontsize=14)\n",
    "plt.ylabel('half_seconds_remaining', fontsize=14)\n",
    "plt.grid(True)\n",
    "plt.show()\n",
    "\n",
    "#Scatter from Run_Left side vs half_seconds_remaining and yrds to go VS third_down not converted\n",
    "Run_Left_NotConverted = Run_Left.loc[Run_Left['third_down_converted'] == 0]\n",
    "plt.scatter(Run_Left_NotConverted ['ydstogo'], Run_Left_NotConverted ['half_seconds_remaining'], color='blue')\n",
    "plt.title('Not Converted Running from Left Side Score Diff vs Yrds to go', fontsize=14)\n",
    "plt.xlabel('Yrds to Go', fontsize=14)\n",
    "plt.ylabel('half_seconds_remaining', fontsize=14)\n",
    "plt.grid(True)\n",
    "plt.show()"
   ]
  },
  {
   "cell_type": "code",
   "execution_count": 15,
   "metadata": {},
   "outputs": [
    {
     "name": "stdout",
     "output_type": "stream",
     "text": [
      "Intercept: \n",
      " 0.6175660016595703\n",
      "Coefficients: \n",
      " [-3.94662210e-02  5.93283235e-05  8.52806918e-02 -9.93281391e-04]\n"
     ]
    }
   ],
   "source": [
    "#Define X & Y From Right side\n",
    "Xr = Run_Right[['ydstogo','half_seconds_remaining', 'shotgun', 'score_differential']]\n",
    "Yr = Run_Right['third_down_converted']\n",
    "# Begin regression \n",
    "from sklearn import linear_model\n",
    "# with sklearn\n",
    "regr = linear_model.LinearRegression()\n",
    "regr.fit(Xr, Yr)\n",
    "\n",
    "print('Intercept: \\n', regr.intercept_)\n",
    "print('Coefficients: \\n', regr.coef_)"
   ]
  },
  {
   "cell_type": "code",
   "execution_count": 16,
   "metadata": {},
   "outputs": [
    {
     "name": "stdout",
     "output_type": "stream",
     "text": [
      "                             OLS Regression Results                             \n",
      "================================================================================\n",
      "Dep. Variable:     third_down_converted   R-squared:                       0.167\n",
      "Model:                              OLS   Adj. R-squared:                  0.166\n",
      "Method:                   Least Squares   F-statistic:                     157.2\n",
      "Date:                  Thu, 14 Nov 2019   Prob (F-statistic):          8.94e-123\n",
      "Time:                          20:59:29   Log-Likelihood:                -1992.0\n",
      "No. Observations:                  3141   AIC:                             3994.\n",
      "Df Residuals:                      3136   BIC:                             4024.\n",
      "Df Model:                             4                                         \n",
      "Covariance Type:              nonrobust                                         \n",
      "==========================================================================================\n",
      "                             coef    std err          t      P>|t|      [0.025      0.975]\n",
      "------------------------------------------------------------------------------------------\n",
      "const                      0.6176      0.018     34.817      0.000       0.583       0.652\n",
      "ydstogo                   -0.0395      0.002    -23.306      0.000      -0.043      -0.036\n",
      "half_seconds_remaining  5.933e-05   1.55e-05      3.824      0.000    2.89e-05    8.97e-05\n",
      "shotgun                    0.0853      0.018      4.791      0.000       0.050       0.120\n",
      "score_differential        -0.0010      0.001     -1.356      0.175      -0.002       0.000\n",
      "==============================================================================\n",
      "Omnibus:                    18045.125   Durbin-Watson:                   2.007\n",
      "Prob(Omnibus):                  0.000   Jarque-Bera (JB):              339.618\n",
      "Skew:                          -0.236   Prob(JB):                     1.79e-74\n",
      "Kurtosis:                       1.460   Cond. No.                     2.31e+03\n",
      "==============================================================================\n",
      "\n",
      "Warnings:\n",
      "[1] Standard Errors assume that the covariance matrix of the errors is correctly specified.\n",
      "[2] The condition number is large, 2.31e+03. This might indicate that there are\n",
      "strong multicollinearity or other numerical problems.\n"
     ]
    },
    {
     "name": "stderr",
     "output_type": "stream",
     "text": [
      "C:\\ProgramData\\Anaconda3\\lib\\site-packages\\numpy\\core\\fromnumeric.py:2389: FutureWarning: Method .ptp is deprecated and will be removed in a future version. Use numpy.ptp instead.\n",
      "  return ptp(axis=axis, out=out, **kwargs)\n"
     ]
    }
   ],
   "source": [
    "import statsmodels.api as sm\n",
    "# with statsmodels\n",
    "X = sm.add_constant(Xr) # adding a constant \n",
    "model = sm.OLS(Yr, X).fit()\n",
    "predictions = model.predict(X) \n",
    " \n",
    "print_model = model.summary()\n",
    "print(print_model)"
   ]
  },
  {
   "cell_type": "code",
   "execution_count": 17,
   "metadata": {},
   "outputs": [
    {
     "name": "stdout",
     "output_type": "stream",
     "text": [
      "Intercept: \n",
      " 0.6201276250930593\n",
      "Coefficients: \n",
      " [-3.75638542e-02  6.87941721e-05  8.39268764e-02 -3.16435272e-03]\n"
     ]
    }
   ],
   "source": [
    "#Define X & Y From Left side\n",
    "Xl = Run_Left[['ydstogo','half_seconds_remaining', 'shotgun', 'score_differential']]\n",
    "Yl = Run_Left['third_down_converted']\n",
    "# Begin regression \n",
    "from sklearn import linear_model\n",
    "# with sklearn\n",
    "regr = linear_model.LinearRegression()\n",
    "regr.fit(Xl, Yl)\n",
    "\n",
    "print('Intercept: \\n', regr.intercept_)\n",
    "print('Coefficients: \\n', regr.coef_)"
   ]
  },
  {
   "cell_type": "code",
   "execution_count": 18,
   "metadata": {},
   "outputs": [
    {
     "name": "stdout",
     "output_type": "stream",
     "text": [
      "                             OLS Regression Results                             \n",
      "================================================================================\n",
      "Dep. Variable:     third_down_converted   R-squared:                       0.169\n",
      "Model:                              OLS   Adj. R-squared:                  0.168\n",
      "Method:                   Least Squares   F-statistic:                     156.9\n",
      "Date:                  Thu, 14 Nov 2019   Prob (F-statistic):          2.21e-122\n",
      "Time:                          20:59:29   Log-Likelihood:                -1951.6\n",
      "No. Observations:                  3086   AIC:                             3913.\n",
      "Df Residuals:                      3081   BIC:                             3943.\n",
      "Df Model:                             4                                         \n",
      "Covariance Type:              nonrobust                                         \n",
      "==========================================================================================\n",
      "                             coef    std err          t      P>|t|      [0.025      0.975]\n",
      "------------------------------------------------------------------------------------------\n",
      "const                      0.6201      0.018     34.478      0.000       0.585       0.655\n",
      "ydstogo                   -0.0376      0.002    -22.650      0.000      -0.041      -0.034\n",
      "half_seconds_remaining  6.879e-05   1.55e-05      4.435      0.000    3.84e-05    9.92e-05\n",
      "shotgun                    0.0839      0.018      4.767      0.000       0.049       0.118\n",
      "score_differential        -0.0032      0.001     -4.261      0.000      -0.005      -0.002\n",
      "==============================================================================\n",
      "Omnibus:                    23077.121   Durbin-Watson:                   1.916\n",
      "Prob(Omnibus):                  0.000   Jarque-Bera (JB):              300.201\n",
      "Skew:                          -0.236   Prob(JB):                     6.49e-66\n",
      "Kurtosis:                       1.547   Cond. No.                     2.31e+03\n",
      "==============================================================================\n",
      "\n",
      "Warnings:\n",
      "[1] Standard Errors assume that the covariance matrix of the errors is correctly specified.\n",
      "[2] The condition number is large, 2.31e+03. This might indicate that there are\n",
      "strong multicollinearity or other numerical problems.\n"
     ]
    },
    {
     "name": "stderr",
     "output_type": "stream",
     "text": [
      "C:\\ProgramData\\Anaconda3\\lib\\site-packages\\numpy\\core\\fromnumeric.py:2389: FutureWarning: Method .ptp is deprecated and will be removed in a future version. Use numpy.ptp instead.\n",
      "  return ptp(axis=axis, out=out, **kwargs)\n"
     ]
    }
   ],
   "source": [
    "import statsmodels.api as sm\n",
    "# with statsmodels\n",
    "X = sm.add_constant(Xl) # adding a constant \n",
    "model = sm.OLS(Yl, X).fit()\n",
    "predictions = model.predict(X) \n",
    " \n",
    "print_model = model.summary()\n",
    "print(print_model)"
   ]
  },
  {
   "cell_type": "code",
   "execution_count": 19,
   "metadata": {},
   "outputs": [
    {
     "name": "stdout",
     "output_type": "stream",
     "text": [
      "Intercept: \n",
      " 0.6534754205561655\n",
      "Coefficients: \n",
      " [-3.71455330e-02  6.44051433e-05  8.01723626e-03 -2.18619266e-03]\n"
     ]
    }
   ],
   "source": [
    "#Define X & Y From Middle side\n",
    "Xm = Run_Middle[['ydstogo','half_seconds_remaining', 'shotgun', 'score_differential']]\n",
    "Ym = Run_Middle['third_down_converted']\n",
    "# Begin regression \n",
    "from sklearn import linear_model\n",
    "# with sklearn\n",
    "regr = linear_model.LinearRegression()\n",
    "regr.fit(Xm, Ym)\n",
    "\n",
    "print('Intercept: \\n', regr.intercept_)\n",
    "print('Coefficients: \\n', regr.coef_)"
   ]
  },
  {
   "cell_type": "code",
   "execution_count": 20,
   "metadata": {},
   "outputs": [
    {
     "name": "stderr",
     "output_type": "stream",
     "text": [
      "C:\\ProgramData\\Anaconda3\\lib\\site-packages\\numpy\\core\\fromnumeric.py:2389: FutureWarning: Method .ptp is deprecated and will be removed in a future version. Use numpy.ptp instead.\n",
      "  return ptp(axis=axis, out=out, **kwargs)\n"
     ]
    },
    {
     "name": "stdout",
     "output_type": "stream",
     "text": [
      "                             OLS Regression Results                             \n",
      "================================================================================\n",
      "Dep. Variable:     third_down_converted   R-squared:                       0.198\n",
      "Model:                              OLS   Adj. R-squared:                  0.197\n",
      "Method:                   Least Squares   F-statistic:                     213.8\n",
      "Date:                  Thu, 14 Nov 2019   Prob (F-statistic):          3.78e-164\n",
      "Time:                          20:59:29   Log-Likelihood:                -2132.8\n",
      "No. Observations:                  3471   AIC:                             4276.\n",
      "Df Residuals:                      3466   BIC:                             4306.\n",
      "Df Model:                             4                                         \n",
      "Covariance Type:              nonrobust                                         \n",
      "==========================================================================================\n",
      "                             coef    std err          t      P>|t|      [0.025      0.975]\n",
      "------------------------------------------------------------------------------------------\n",
      "const                      0.6535      0.016     40.185      0.000       0.622       0.685\n",
      "ydstogo                   -0.0371      0.001    -25.893      0.000      -0.040      -0.034\n",
      "half_seconds_remaining  6.441e-05   1.43e-05      4.500      0.000    3.63e-05    9.25e-05\n",
      "shotgun                    0.0080      0.017      0.484      0.629      -0.024       0.041\n",
      "score_differential        -0.0022      0.001     -3.229      0.001      -0.004      -0.001\n",
      "==============================================================================\n",
      "Omnibus:                    35435.459   Durbin-Watson:                   2.012\n",
      "Prob(Omnibus):                  0.000   Jarque-Bera (JB):              340.684\n",
      "Skew:                          -0.315   Prob(JB):                     1.05e-74\n",
      "Kurtosis:                       1.600   Cond. No.                     2.35e+03\n",
      "==============================================================================\n",
      "\n",
      "Warnings:\n",
      "[1] Standard Errors assume that the covariance matrix of the errors is correctly specified.\n",
      "[2] The condition number is large, 2.35e+03. This might indicate that there are\n",
      "strong multicollinearity or other numerical problems.\n"
     ]
    }
   ],
   "source": [
    "import statsmodels.api as sm\n",
    "# with statsmodels\n",
    "X = sm.add_constant(Xm) # adding a constant \n",
    "model = sm.OLS(Ym, X).fit()\n",
    "predictions = model.predict(X) \n",
    " \n",
    "print_model = model.summary()\n",
    "print(print_model)"
   ]
  },
  {
   "cell_type": "code",
   "execution_count": 21,
   "metadata": {},
   "outputs": [
    {
     "name": "stdout",
     "output_type": "stream",
     "text": [
      "Intercept: \n",
      " 0.6630501352683225\n",
      "Coefficients: \n",
      " [-0.04073791  0.09557478]\n"
     ]
    }
   ],
   "source": [
    "#Define X & Y From Right side and yds to go\n",
    "Xry = Run_Right[['ydstogo', 'shotgun']]\n",
    "Yry = Run_Right['third_down_converted']\n",
    "# Begin regression \n",
    "from sklearn import linear_model\n",
    "# with sklearn\n",
    "regr = linear_model.LinearRegression()\n",
    "regr.fit(Xry, Yry)\n",
    "\n",
    "print('Intercept: \\n', regr.intercept_)\n",
    "print('Coefficients: \\n', regr.coef_)"
   ]
  },
  {
   "cell_type": "code",
   "execution_count": 22,
   "metadata": {},
   "outputs": [
    {
     "name": "stderr",
     "output_type": "stream",
     "text": [
      "C:\\ProgramData\\Anaconda3\\lib\\site-packages\\numpy\\core\\fromnumeric.py:2389: FutureWarning: Method .ptp is deprecated and will be removed in a future version. Use numpy.ptp instead.\n",
      "  return ptp(axis=axis, out=out, **kwargs)\n"
     ]
    },
    {
     "name": "stdout",
     "output_type": "stream",
     "text": [
      "                             OLS Regression Results                             \n",
      "================================================================================\n",
      "Dep. Variable:     third_down_converted   R-squared:                       0.162\n",
      "Model:                              OLS   Adj. R-squared:                  0.162\n",
      "Method:                   Least Squares   F-statistic:                     303.6\n",
      "Date:                  Thu, 14 Nov 2019   Prob (F-statistic):          3.03e-121\n",
      "Time:                          20:59:29   Log-Likelihood:                -2001.3\n",
      "No. Observations:                  3141   AIC:                             4009.\n",
      "Df Residuals:                      3138   BIC:                             4027.\n",
      "Df Model:                             2                                         \n",
      "Covariance Type:              nonrobust                                         \n",
      "==============================================================================\n",
      "                 coef    std err          t      P>|t|      [0.025      0.975]\n",
      "------------------------------------------------------------------------------\n",
      "const          0.6631      0.012     54.254      0.000       0.639       0.687\n",
      "ydstogo       -0.0407      0.002    -24.443      0.000      -0.044      -0.037\n",
      "shotgun        0.0956      0.017      5.466      0.000       0.061       0.130\n",
      "==============================================================================\n",
      "Omnibus:                    16798.553   Durbin-Watson:                   2.010\n",
      "Prob(Omnibus):                  0.000   Jarque-Bera (JB):              352.456\n",
      "Skew:                          -0.230   Prob(JB):                     2.92e-77\n",
      "Kurtosis:                       1.425   Cond. No.                         16.3\n",
      "==============================================================================\n",
      "\n",
      "Warnings:\n",
      "[1] Standard Errors assume that the covariance matrix of the errors is correctly specified.\n"
     ]
    }
   ],
   "source": [
    "import statsmodels.api as sm\n",
    "# with statsmodels\n",
    "X = sm.add_constant(Xry) # adding a constant \n",
    "model = sm.OLS(Yry, X).fit()\n",
    "predictions = model.predict(X) \n",
    " \n",
    "print_model = model.summary()\n",
    "print(print_model)"
   ]
  },
  {
   "cell_type": "code",
   "execution_count": 23,
   "metadata": {},
   "outputs": [
    {
     "name": "stdout",
     "output_type": "stream",
     "text": [
      "Intercept: \n",
      " 0.7048343229137454\n",
      "Coefficients: \n",
      " [-0.03807961  0.01320921]\n"
     ]
    }
   ],
   "source": [
    "#Define X & Y From Middle side and yds to go\n",
    "Xmy = Run_Middle[['ydstogo', 'shotgun']]\n",
    "Ymy = Run_Middle['third_down_converted']\n",
    "# Begin regression \n",
    "from sklearn import linear_model\n",
    "# with sklearn\n",
    "regr = linear_model.LinearRegression()\n",
    "regr.fit(Xmy, Ymy)\n",
    "\n",
    "print('Intercept: \\n', regr.intercept_)\n",
    "print('Coefficients: \\n', regr.coef_)"
   ]
  },
  {
   "cell_type": "code",
   "execution_count": 24,
   "metadata": {
    "scrolled": true
   },
   "outputs": [
    {
     "name": "stderr",
     "output_type": "stream",
     "text": [
      "C:\\ProgramData\\Anaconda3\\lib\\site-packages\\numpy\\core\\fromnumeric.py:2389: FutureWarning: Method .ptp is deprecated and will be removed in a future version. Use numpy.ptp instead.\n",
      "  return ptp(axis=axis, out=out, **kwargs)\n"
     ]
    },
    {
     "name": "stdout",
     "output_type": "stream",
     "text": [
      "                             OLS Regression Results                             \n",
      "================================================================================\n",
      "Dep. Variable:     third_down_converted   R-squared:                       0.190\n",
      "Model:                              OLS   Adj. R-squared:                  0.190\n",
      "Method:                   Least Squares   F-statistic:                     407.1\n",
      "Date:                  Thu, 14 Nov 2019   Prob (F-statistic):          1.58e-159\n",
      "Time:                          20:59:29   Log-Likelihood:                -2149.5\n",
      "No. Observations:                  3471   AIC:                             4305.\n",
      "Df Residuals:                      3468   BIC:                             4323.\n",
      "Df Model:                             2                                         \n",
      "Covariance Type:              nonrobust                                         \n",
      "==============================================================================\n",
      "                 coef    std err          t      P>|t|      [0.025      0.975]\n",
      "------------------------------------------------------------------------------\n",
      "const          0.7048      0.011     61.523      0.000       0.682       0.727\n",
      "ydstogo       -0.0381      0.001    -26.618      0.000      -0.041      -0.035\n",
      "shotgun        0.0132      0.017      0.798      0.425      -0.019       0.046\n",
      "==============================================================================\n",
      "Omnibus:                    26904.896   Durbin-Watson:                   2.015\n",
      "Prob(Omnibus):                  0.000   Jarque-Bera (JB):              356.638\n",
      "Skew:                          -0.309   Prob(JB):                     3.61e-78\n",
      "Kurtosis:                       1.556   Cond. No.                         17.9\n",
      "==============================================================================\n",
      "\n",
      "Warnings:\n",
      "[1] Standard Errors assume that the covariance matrix of the errors is correctly specified.\n"
     ]
    }
   ],
   "source": [
    "import statsmodels.api as sm\n",
    "# with statsmodels\n",
    "X = sm.add_constant(Xmy) # adding a constant \n",
    "model = sm.OLS(Ymy, X).fit()\n",
    "predictions = model.predict(X) \n",
    " \n",
    "print_model = model.summary()\n",
    "print(print_model)"
   ]
  },
  {
   "cell_type": "code",
   "execution_count": 27,
   "metadata": {},
   "outputs": [
    {
     "data": {
      "text/plain": [
       "18"
      ]
     },
     "execution_count": 27,
     "metadata": {},
     "output_type": "execute_result"
    }
   ],
   "source": [
    "# Converted Runs\n",
    "Converted = NFL_Data.loc[NFL_Data['third_down_converted'] == 1]\n",
    "Converted_R = Converted.loc[Converted['play_type'] == \"run\"]\n",
    "\n",
    "len(Converted_R.columns)"
   ]
  },
  {
   "cell_type": "code",
   "execution_count": 28,
   "metadata": {},
   "outputs": [
    {
     "data": {
      "text/html": [
       "<div>\n",
       "<style scoped>\n",
       "    .dataframe tbody tr th:only-of-type {\n",
       "        vertical-align: middle;\n",
       "    }\n",
       "\n",
       "    .dataframe tbody tr th {\n",
       "        vertical-align: top;\n",
       "    }\n",
       "\n",
       "    .dataframe thead th {\n",
       "        text-align: right;\n",
       "    }\n",
       "</style>\n",
       "<table border=\"1\" class=\"dataframe\">\n",
       "  <thead>\n",
       "    <tr style=\"text-align: right;\">\n",
       "      <th></th>\n",
       "      <th>Unnamed: 0</th>\n",
       "      <th>play_id</th>\n",
       "      <th>game_id</th>\n",
       "      <th>shotgun</th>\n",
       "      <th>no_huddle</th>\n",
       "      <th>ydstogo</th>\n",
       "      <th>yardline_100</th>\n",
       "      <th>play_type</th>\n",
       "      <th>half_seconds_remaining</th>\n",
       "      <th>down</th>\n",
       "      <th>pass_length</th>\n",
       "      <th>pass_length.1</th>\n",
       "      <th>run_location</th>\n",
       "      <th>score_differential</th>\n",
       "      <th>fg_prob</th>\n",
       "      <th>td_prob</th>\n",
       "      <th>ep</th>\n",
       "      <th>third_down_converted</th>\n",
       "    </tr>\n",
       "  </thead>\n",
       "  <tbody>\n",
       "    <tr>\n",
       "      <th>3</th>\n",
       "      <td>3</td>\n",
       "      <td>445</td>\n",
       "      <td>2018090600</td>\n",
       "      <td>1</td>\n",
       "      <td>0</td>\n",
       "      <td>5</td>\n",
       "      <td>39.0</td>\n",
       "      <td>run</td>\n",
       "      <td>1404.0</td>\n",
       "      <td>3.0</td>\n",
       "      <td>NaN</td>\n",
       "      <td>NaN</td>\n",
       "      <td>right</td>\n",
       "      <td>0.0</td>\n",
       "      <td>0.395592</td>\n",
       "      <td>0.377457</td>\n",
       "      <td>2.642543</td>\n",
       "      <td>1.0</td>\n",
       "    </tr>\n",
       "    <tr>\n",
       "      <th>8</th>\n",
       "      <td>8</td>\n",
       "      <td>1160</td>\n",
       "      <td>2018090600</td>\n",
       "      <td>1</td>\n",
       "      <td>1</td>\n",
       "      <td>1</td>\n",
       "      <td>22.0</td>\n",
       "      <td>run</td>\n",
       "      <td>613.0</td>\n",
       "      <td>3.0</td>\n",
       "      <td>NaN</td>\n",
       "      <td>NaN</td>\n",
       "      <td>left</td>\n",
       "      <td>-3.0</td>\n",
       "      <td>0.415125</td>\n",
       "      <td>0.454985</td>\n",
       "      <td>3.967255</td>\n",
       "      <td>1.0</td>\n",
       "    </tr>\n",
       "    <tr>\n",
       "      <th>14</th>\n",
       "      <td>14</td>\n",
       "      <td>2672</td>\n",
       "      <td>2018090600</td>\n",
       "      <td>0</td>\n",
       "      <td>0</td>\n",
       "      <td>1</td>\n",
       "      <td>54.0</td>\n",
       "      <td>run</td>\n",
       "      <td>1429.0</td>\n",
       "      <td>3.0</td>\n",
       "      <td>NaN</td>\n",
       "      <td>NaN</td>\n",
       "      <td>right</td>\n",
       "      <td>-3.0</td>\n",
       "      <td>0.260790</td>\n",
       "      <td>0.458135</td>\n",
       "      <td>2.519950</td>\n",
       "      <td>1.0</td>\n",
       "    </tr>\n",
       "    <tr>\n",
       "      <th>19</th>\n",
       "      <td>19</td>\n",
       "      <td>3460</td>\n",
       "      <td>2018090600</td>\n",
       "      <td>0</td>\n",
       "      <td>0</td>\n",
       "      <td>1</td>\n",
       "      <td>87.0</td>\n",
       "      <td>run</td>\n",
       "      <td>691.0</td>\n",
       "      <td>3.0</td>\n",
       "      <td>NaN</td>\n",
       "      <td>NaN</td>\n",
       "      <td>right</td>\n",
       "      <td>4.0</td>\n",
       "      <td>0.097999</td>\n",
       "      <td>0.292759</td>\n",
       "      <td>-0.193396</td>\n",
       "      <td>1.0</td>\n",
       "    </tr>\n",
       "    <tr>\n",
       "      <th>22</th>\n",
       "      <td>22</td>\n",
       "      <td>337</td>\n",
       "      <td>2018090900</td>\n",
       "      <td>0</td>\n",
       "      <td>0</td>\n",
       "      <td>1</td>\n",
       "      <td>11.0</td>\n",
       "      <td>run</td>\n",
       "      <td>1464.0</td>\n",
       "      <td>3.0</td>\n",
       "      <td>NaN</td>\n",
       "      <td>NaN</td>\n",
       "      <td>middle</td>\n",
       "      <td>0.0</td>\n",
       "      <td>0.489985</td>\n",
       "      <td>0.442328</td>\n",
       "      <td>4.218395</td>\n",
       "      <td>1.0</td>\n",
       "    </tr>\n",
       "    <tr>\n",
       "      <th>40</th>\n",
       "      <td>40</td>\n",
       "      <td>3548</td>\n",
       "      <td>2018090900</td>\n",
       "      <td>1</td>\n",
       "      <td>0</td>\n",
       "      <td>6</td>\n",
       "      <td>71.0</td>\n",
       "      <td>run</td>\n",
       "      <td>988.0</td>\n",
       "      <td>3.0</td>\n",
       "      <td>NaN</td>\n",
       "      <td>NaN</td>\n",
       "      <td>left</td>\n",
       "      <td>37.0</td>\n",
       "      <td>0.189809</td>\n",
       "      <td>0.287887</td>\n",
       "      <td>-0.006412</td>\n",
       "      <td>1.0</td>\n",
       "    </tr>\n",
       "    <tr>\n",
       "      <th>53</th>\n",
       "      <td>53</td>\n",
       "      <td>2120</td>\n",
       "      <td>2018090907</td>\n",
       "      <td>0</td>\n",
       "      <td>0</td>\n",
       "      <td>1</td>\n",
       "      <td>35.0</td>\n",
       "      <td>run</td>\n",
       "      <td>1631.0</td>\n",
       "      <td>3.0</td>\n",
       "      <td>NaN</td>\n",
       "      <td>NaN</td>\n",
       "      <td>left</td>\n",
       "      <td>-7.0</td>\n",
       "      <td>0.365093</td>\n",
       "      <td>0.475407</td>\n",
       "      <td>3.584501</td>\n",
       "      <td>1.0</td>\n",
       "    </tr>\n",
       "    <tr>\n",
       "      <th>66</th>\n",
       "      <td>66</td>\n",
       "      <td>218</td>\n",
       "      <td>2018090906</td>\n",
       "      <td>1</td>\n",
       "      <td>0</td>\n",
       "      <td>2</td>\n",
       "      <td>5.0</td>\n",
       "      <td>run</td>\n",
       "      <td>1605.0</td>\n",
       "      <td>3.0</td>\n",
       "      <td>NaN</td>\n",
       "      <td>NaN</td>\n",
       "      <td>left</td>\n",
       "      <td>0.0</td>\n",
       "      <td>0.554042</td>\n",
       "      <td>0.385633</td>\n",
       "      <td>4.051023</td>\n",
       "      <td>1.0</td>\n",
       "    </tr>\n",
       "    <tr>\n",
       "      <th>67</th>\n",
       "      <td>67</td>\n",
       "      <td>333</td>\n",
       "      <td>2018090906</td>\n",
       "      <td>0</td>\n",
       "      <td>0</td>\n",
       "      <td>1</td>\n",
       "      <td>59.0</td>\n",
       "      <td>run</td>\n",
       "      <td>1539.0</td>\n",
       "      <td>3.0</td>\n",
       "      <td>NaN</td>\n",
       "      <td>NaN</td>\n",
       "      <td>middle</td>\n",
       "      <td>-7.0</td>\n",
       "      <td>0.234232</td>\n",
       "      <td>0.443175</td>\n",
       "      <td>2.108085</td>\n",
       "      <td>1.0</td>\n",
       "    </tr>\n",
       "    <tr>\n",
       "      <th>80</th>\n",
       "      <td>80</td>\n",
       "      <td>3858</td>\n",
       "      <td>2018090906</td>\n",
       "      <td>0</td>\n",
       "      <td>0</td>\n",
       "      <td>1</td>\n",
       "      <td>1.0</td>\n",
       "      <td>run</td>\n",
       "      <td>537.0</td>\n",
       "      <td>3.0</td>\n",
       "      <td>NaN</td>\n",
       "      <td>NaN</td>\n",
       "      <td>left</td>\n",
       "      <td>-23.0</td>\n",
       "      <td>0.197196</td>\n",
       "      <td>0.744081</td>\n",
       "      <td>5.624668</td>\n",
       "      <td>1.0</td>\n",
       "    </tr>\n",
       "  </tbody>\n",
       "</table>\n",
       "</div>"
      ],
      "text/plain": [
       "    Unnamed: 0  play_id     game_id  shotgun  no_huddle  ydstogo  \\\n",
       "3            3      445  2018090600        1          0        5   \n",
       "8            8     1160  2018090600        1          1        1   \n",
       "14          14     2672  2018090600        0          0        1   \n",
       "19          19     3460  2018090600        0          0        1   \n",
       "22          22      337  2018090900        0          0        1   \n",
       "40          40     3548  2018090900        1          0        6   \n",
       "53          53     2120  2018090907        0          0        1   \n",
       "66          66      218  2018090906        1          0        2   \n",
       "67          67      333  2018090906        0          0        1   \n",
       "80          80     3858  2018090906        0          0        1   \n",
       "\n",
       "    yardline_100 play_type  half_seconds_remaining  down pass_length  \\\n",
       "3           39.0       run                  1404.0   3.0         NaN   \n",
       "8           22.0       run                   613.0   3.0         NaN   \n",
       "14          54.0       run                  1429.0   3.0         NaN   \n",
       "19          87.0       run                   691.0   3.0         NaN   \n",
       "22          11.0       run                  1464.0   3.0         NaN   \n",
       "40          71.0       run                   988.0   3.0         NaN   \n",
       "53          35.0       run                  1631.0   3.0         NaN   \n",
       "66           5.0       run                  1605.0   3.0         NaN   \n",
       "67          59.0       run                  1539.0   3.0         NaN   \n",
       "80           1.0       run                   537.0   3.0         NaN   \n",
       "\n",
       "   pass_length.1 run_location  score_differential   fg_prob   td_prob  \\\n",
       "3            NaN        right                 0.0  0.395592  0.377457   \n",
       "8            NaN         left                -3.0  0.415125  0.454985   \n",
       "14           NaN        right                -3.0  0.260790  0.458135   \n",
       "19           NaN        right                 4.0  0.097999  0.292759   \n",
       "22           NaN       middle                 0.0  0.489985  0.442328   \n",
       "40           NaN         left                37.0  0.189809  0.287887   \n",
       "53           NaN         left                -7.0  0.365093  0.475407   \n",
       "66           NaN         left                 0.0  0.554042  0.385633   \n",
       "67           NaN       middle                -7.0  0.234232  0.443175   \n",
       "80           NaN         left               -23.0  0.197196  0.744081   \n",
       "\n",
       "          ep  third_down_converted  \n",
       "3   2.642543                   1.0  \n",
       "8   3.967255                   1.0  \n",
       "14  2.519950                   1.0  \n",
       "19 -0.193396                   1.0  \n",
       "22  4.218395                   1.0  \n",
       "40 -0.006412                   1.0  \n",
       "53  3.584501                   1.0  \n",
       "66  4.051023                   1.0  \n",
       "67  2.108085                   1.0  \n",
       "80  5.624668                   1.0  "
      ]
     },
     "execution_count": 28,
     "metadata": {},
     "output_type": "execute_result"
    }
   ],
   "source": [
    "Converted_R.head(10)"
   ]
  },
  {
   "cell_type": "code",
   "execution_count": 29,
   "metadata": {},
   "outputs": [
    {
     "data": {
      "text/plain": [
       "17"
      ]
     },
     "execution_count": 29,
     "metadata": {},
     "output_type": "execute_result"
    }
   ],
   "source": [
    "CR = Converted_R.drop(columns = ['Unnamed: 0'])\n",
    "CR.head()\n",
    "len(CR.columns)"
   ]
  },
  {
   "cell_type": "code",
   "execution_count": 61,
   "metadata": {
    "scrolled": true
   },
   "outputs": [
    {
     "data": {
      "text/html": [
       "<div>\n",
       "<style scoped>\n",
       "    .dataframe tbody tr th:only-of-type {\n",
       "        vertical-align: middle;\n",
       "    }\n",
       "\n",
       "    .dataframe tbody tr th {\n",
       "        vertical-align: top;\n",
       "    }\n",
       "\n",
       "    .dataframe thead th {\n",
       "        text-align: right;\n",
       "    }\n",
       "</style>\n",
       "<table border=\"1\" class=\"dataframe\">\n",
       "  <thead>\n",
       "    <tr style=\"text-align: right;\">\n",
       "      <th></th>\n",
       "      <th>play_id</th>\n",
       "      <th>game_id</th>\n",
       "      <th>shotgun</th>\n",
       "      <th>no_huddle</th>\n",
       "      <th>ydstogo</th>\n",
       "      <th>yardline_100</th>\n",
       "      <th>play_type</th>\n",
       "      <th>half_seconds_remaining</th>\n",
       "      <th>down</th>\n",
       "      <th>pass_length</th>\n",
       "      <th>pass_length.1</th>\n",
       "      <th>run_location</th>\n",
       "      <th>score_differential</th>\n",
       "      <th>fg_prob</th>\n",
       "      <th>td_prob</th>\n",
       "      <th>ep</th>\n",
       "      <th>third_down_converted</th>\n",
       "    </tr>\n",
       "  </thead>\n",
       "  <tbody>\n",
       "    <tr>\n",
       "      <th>3</th>\n",
       "      <td>445</td>\n",
       "      <td>2018090600</td>\n",
       "      <td>1</td>\n",
       "      <td>0</td>\n",
       "      <td>5</td>\n",
       "      <td>39.0</td>\n",
       "      <td>run</td>\n",
       "      <td>1404.0</td>\n",
       "      <td>3.0</td>\n",
       "      <td>NaN</td>\n",
       "      <td>NaN</td>\n",
       "      <td>right</td>\n",
       "      <td>0.0</td>\n",
       "      <td>0.395592</td>\n",
       "      <td>0.377457</td>\n",
       "      <td>2.642543</td>\n",
       "      <td>1.0</td>\n",
       "    </tr>\n",
       "    <tr>\n",
       "      <th>8</th>\n",
       "      <td>1160</td>\n",
       "      <td>2018090600</td>\n",
       "      <td>1</td>\n",
       "      <td>1</td>\n",
       "      <td>1</td>\n",
       "      <td>22.0</td>\n",
       "      <td>run</td>\n",
       "      <td>613.0</td>\n",
       "      <td>3.0</td>\n",
       "      <td>NaN</td>\n",
       "      <td>NaN</td>\n",
       "      <td>left</td>\n",
       "      <td>-3.0</td>\n",
       "      <td>0.415125</td>\n",
       "      <td>0.454985</td>\n",
       "      <td>3.967255</td>\n",
       "      <td>1.0</td>\n",
       "    </tr>\n",
       "    <tr>\n",
       "      <th>14</th>\n",
       "      <td>2672</td>\n",
       "      <td>2018090600</td>\n",
       "      <td>0</td>\n",
       "      <td>0</td>\n",
       "      <td>1</td>\n",
       "      <td>54.0</td>\n",
       "      <td>run</td>\n",
       "      <td>1429.0</td>\n",
       "      <td>3.0</td>\n",
       "      <td>NaN</td>\n",
       "      <td>NaN</td>\n",
       "      <td>right</td>\n",
       "      <td>-3.0</td>\n",
       "      <td>0.260790</td>\n",
       "      <td>0.458135</td>\n",
       "      <td>2.519950</td>\n",
       "      <td>1.0</td>\n",
       "    </tr>\n",
       "    <tr>\n",
       "      <th>19</th>\n",
       "      <td>3460</td>\n",
       "      <td>2018090600</td>\n",
       "      <td>0</td>\n",
       "      <td>0</td>\n",
       "      <td>1</td>\n",
       "      <td>87.0</td>\n",
       "      <td>run</td>\n",
       "      <td>691.0</td>\n",
       "      <td>3.0</td>\n",
       "      <td>NaN</td>\n",
       "      <td>NaN</td>\n",
       "      <td>right</td>\n",
       "      <td>4.0</td>\n",
       "      <td>0.097999</td>\n",
       "      <td>0.292759</td>\n",
       "      <td>-0.193396</td>\n",
       "      <td>1.0</td>\n",
       "    </tr>\n",
       "    <tr>\n",
       "      <th>22</th>\n",
       "      <td>337</td>\n",
       "      <td>2018090900</td>\n",
       "      <td>0</td>\n",
       "      <td>0</td>\n",
       "      <td>1</td>\n",
       "      <td>11.0</td>\n",
       "      <td>run</td>\n",
       "      <td>1464.0</td>\n",
       "      <td>3.0</td>\n",
       "      <td>NaN</td>\n",
       "      <td>NaN</td>\n",
       "      <td>middle</td>\n",
       "      <td>0.0</td>\n",
       "      <td>0.489985</td>\n",
       "      <td>0.442328</td>\n",
       "      <td>4.218395</td>\n",
       "      <td>1.0</td>\n",
       "    </tr>\n",
       "  </tbody>\n",
       "</table>\n",
       "</div>"
      ],
      "text/plain": [
       "    play_id     game_id  shotgun  no_huddle  ydstogo  yardline_100 play_type  \\\n",
       "3       445  2018090600        1          0        5          39.0       run   \n",
       "8      1160  2018090600        1          1        1          22.0       run   \n",
       "14     2672  2018090600        0          0        1          54.0       run   \n",
       "19     3460  2018090600        0          0        1          87.0       run   \n",
       "22      337  2018090900        0          0        1          11.0       run   \n",
       "\n",
       "    half_seconds_remaining  down pass_length pass_length.1 run_location  \\\n",
       "3                   1404.0   3.0         NaN           NaN        right   \n",
       "8                    613.0   3.0         NaN           NaN         left   \n",
       "14                  1429.0   3.0         NaN           NaN        right   \n",
       "19                   691.0   3.0         NaN           NaN        right   \n",
       "22                  1464.0   3.0         NaN           NaN       middle   \n",
       "\n",
       "    score_differential   fg_prob   td_prob        ep  third_down_converted  \n",
       "3                  0.0  0.395592  0.377457  2.642543                   1.0  \n",
       "8                 -3.0  0.415125  0.454985  3.967255                   1.0  \n",
       "14                -3.0  0.260790  0.458135  2.519950                   1.0  \n",
       "19                 4.0  0.097999  0.292759 -0.193396                   1.0  \n",
       "22                 0.0  0.489985  0.442328  4.218395                   1.0  "
      ]
     },
     "execution_count": 61,
     "metadata": {},
     "output_type": "execute_result"
    }
   ],
   "source": [
    "CR_1 = CR.dropna(subset=['run_location'])\n",
    "CR_1.head()\n"
   ]
  },
  {
   "cell_type": "code",
   "execution_count": 120,
   "metadata": {
    "scrolled": true
   },
   "outputs": [],
   "source": [
    "# 1 =  right, 2 = middle, 3 = left\n",
    "CR_R = CR_1.replace(['right', 'middle', 'left'], \n",
    "                     [1, 2, 3])"
   ]
  },
  {
   "cell_type": "code",
   "execution_count": 123,
   "metadata": {},
   "outputs": [
    {
     "data": {
      "text/html": [
       "<div>\n",
       "<style scoped>\n",
       "    .dataframe tbody tr th:only-of-type {\n",
       "        vertical-align: middle;\n",
       "    }\n",
       "\n",
       "    .dataframe tbody tr th {\n",
       "        vertical-align: top;\n",
       "    }\n",
       "\n",
       "    .dataframe thead th {\n",
       "        text-align: right;\n",
       "    }\n",
       "</style>\n",
       "<table border=\"1\" class=\"dataframe\">\n",
       "  <thead>\n",
       "    <tr style=\"text-align: right;\">\n",
       "      <th></th>\n",
       "      <th>play_id</th>\n",
       "      <th>game_id</th>\n",
       "      <th>shotgun</th>\n",
       "      <th>no_huddle</th>\n",
       "      <th>ydstogo</th>\n",
       "      <th>yardline_100</th>\n",
       "      <th>play_type</th>\n",
       "      <th>half_seconds_remaining</th>\n",
       "      <th>down</th>\n",
       "      <th>pass_length</th>\n",
       "      <th>pass_length.1</th>\n",
       "      <th>run_location</th>\n",
       "      <th>score_differential</th>\n",
       "      <th>fg_prob</th>\n",
       "      <th>td_prob</th>\n",
       "      <th>ep</th>\n",
       "      <th>third_down_converted</th>\n",
       "    </tr>\n",
       "  </thead>\n",
       "  <tbody>\n",
       "    <tr>\n",
       "      <th>3</th>\n",
       "      <td>445</td>\n",
       "      <td>2018090600</td>\n",
       "      <td>1</td>\n",
       "      <td>0</td>\n",
       "      <td>5</td>\n",
       "      <td>39.0</td>\n",
       "      <td>1</td>\n",
       "      <td>1404.0</td>\n",
       "      <td>3.0</td>\n",
       "      <td>NaN</td>\n",
       "      <td>NaN</td>\n",
       "      <td>1</td>\n",
       "      <td>0.0</td>\n",
       "      <td>0.395592</td>\n",
       "      <td>0.377457</td>\n",
       "      <td>2.642543</td>\n",
       "      <td>1.0</td>\n",
       "    </tr>\n",
       "    <tr>\n",
       "      <th>8</th>\n",
       "      <td>1160</td>\n",
       "      <td>2018090600</td>\n",
       "      <td>1</td>\n",
       "      <td>1</td>\n",
       "      <td>1</td>\n",
       "      <td>22.0</td>\n",
       "      <td>1</td>\n",
       "      <td>613.0</td>\n",
       "      <td>3.0</td>\n",
       "      <td>NaN</td>\n",
       "      <td>NaN</td>\n",
       "      <td>3</td>\n",
       "      <td>-3.0</td>\n",
       "      <td>0.415125</td>\n",
       "      <td>0.454985</td>\n",
       "      <td>3.967255</td>\n",
       "      <td>1.0</td>\n",
       "    </tr>\n",
       "    <tr>\n",
       "      <th>14</th>\n",
       "      <td>2672</td>\n",
       "      <td>2018090600</td>\n",
       "      <td>0</td>\n",
       "      <td>0</td>\n",
       "      <td>1</td>\n",
       "      <td>54.0</td>\n",
       "      <td>1</td>\n",
       "      <td>1429.0</td>\n",
       "      <td>3.0</td>\n",
       "      <td>NaN</td>\n",
       "      <td>NaN</td>\n",
       "      <td>1</td>\n",
       "      <td>-3.0</td>\n",
       "      <td>0.260790</td>\n",
       "      <td>0.458135</td>\n",
       "      <td>2.519950</td>\n",
       "      <td>1.0</td>\n",
       "    </tr>\n",
       "    <tr>\n",
       "      <th>19</th>\n",
       "      <td>3460</td>\n",
       "      <td>2018090600</td>\n",
       "      <td>0</td>\n",
       "      <td>0</td>\n",
       "      <td>1</td>\n",
       "      <td>87.0</td>\n",
       "      <td>1</td>\n",
       "      <td>691.0</td>\n",
       "      <td>3.0</td>\n",
       "      <td>NaN</td>\n",
       "      <td>NaN</td>\n",
       "      <td>1</td>\n",
       "      <td>4.0</td>\n",
       "      <td>0.097999</td>\n",
       "      <td>0.292759</td>\n",
       "      <td>-0.193396</td>\n",
       "      <td>1.0</td>\n",
       "    </tr>\n",
       "    <tr>\n",
       "      <th>22</th>\n",
       "      <td>337</td>\n",
       "      <td>2018090900</td>\n",
       "      <td>0</td>\n",
       "      <td>0</td>\n",
       "      <td>1</td>\n",
       "      <td>11.0</td>\n",
       "      <td>1</td>\n",
       "      <td>1464.0</td>\n",
       "      <td>3.0</td>\n",
       "      <td>NaN</td>\n",
       "      <td>NaN</td>\n",
       "      <td>2</td>\n",
       "      <td>0.0</td>\n",
       "      <td>0.489985</td>\n",
       "      <td>0.442328</td>\n",
       "      <td>4.218395</td>\n",
       "      <td>1.0</td>\n",
       "    </tr>\n",
       "  </tbody>\n",
       "</table>\n",
       "</div>"
      ],
      "text/plain": [
       "    play_id     game_id  shotgun  no_huddle  ydstogo  yardline_100 play_type  \\\n",
       "3       445  2018090600        1          0        5          39.0         1   \n",
       "8      1160  2018090600        1          1        1          22.0         1   \n",
       "14     2672  2018090600        0          0        1          54.0         1   \n",
       "19     3460  2018090600        0          0        1          87.0         1   \n",
       "22      337  2018090900        0          0        1          11.0         1   \n",
       "\n",
       "    half_seconds_remaining  down  pass_length  pass_length.1  run_location  \\\n",
       "3                   1404.0   3.0          NaN            NaN             1   \n",
       "8                    613.0   3.0          NaN            NaN             3   \n",
       "14                  1429.0   3.0          NaN            NaN             1   \n",
       "19                   691.0   3.0          NaN            NaN             1   \n",
       "22                  1464.0   3.0          NaN            NaN             2   \n",
       "\n",
       "    score_differential   fg_prob   td_prob        ep  third_down_converted  \n",
       "3                  0.0  0.395592  0.377457  2.642543                   1.0  \n",
       "8                 -3.0  0.415125  0.454985  3.967255                   1.0  \n",
       "14                -3.0  0.260790  0.458135  2.519950                   1.0  \n",
       "19                 4.0  0.097999  0.292759 -0.193396                   1.0  \n",
       "22                 0.0  0.489985  0.442328  4.218395                   1.0  "
      ]
     },
     "execution_count": 123,
     "metadata": {},
     "output_type": "execute_result"
    }
   ],
   "source": [
    "#run = 1, pass =2\n",
    "CR_Final=CR_R.replace(['run', 'pass'], \n",
    "                     [1, 2])\n",
    "CR_Final.head()"
   ]
  },
  {
   "cell_type": "code",
   "execution_count": 31,
   "metadata": {},
   "outputs": [
    {
     "data": {
      "text/plain": [
       "11"
      ]
     },
     "execution_count": 31,
     "metadata": {},
     "output_type": "execute_result"
    }
   ],
   "source": [
    "#CR_1.columns.get_loc('run_location')"
   ]
  },
  {
   "cell_type": "code",
   "execution_count": 104,
   "metadata": {},
   "outputs": [],
   "source": [
    "# #step 0: Reform data\n",
    "# oh1 = CR_1.values\n",
    "# x1 = oh1[:, 0:17]\n",
    "# y1 = oh1[:,11]"
   ]
  },
  {
   "cell_type": "code",
   "execution_count": 105,
   "metadata": {},
   "outputs": [],
   "source": [
    "# #one hot coding\n",
    "# from sklearn.preprocessing import LabelEncoder\n",
    "# label_encoder = LabelEncoder()\n",
    "# label_encoder.fit(y1)\n",
    "# encoded_y1 = label_encoder.transform(y1)\n",
    "# fit_transform(CR['run_location'].astype(str))"
   ]
  },
  {
   "cell_type": "code",
   "execution_count": 106,
   "metadata": {},
   "outputs": [
    {
     "data": {
      "text/plain": [
       "dtype('int32')"
      ]
     },
     "execution_count": 106,
     "metadata": {},
     "output_type": "execute_result"
    }
   ],
   "source": [
    "# encoded_y1.dtype"
   ]
  },
  {
   "cell_type": "code",
   "execution_count": 107,
   "metadata": {},
   "outputs": [
    {
     "data": {
      "text/plain": [
       "6"
      ]
     },
     "execution_count": 107,
     "metadata": {},
     "output_type": "execute_result"
    }
   ],
   "source": [
    "# CR_1.columns.get_loc('play_type')"
   ]
  },
  {
   "cell_type": "code",
   "execution_count": 108,
   "metadata": {},
   "outputs": [],
   "source": [
    "# #step 0: Reform data\n",
    "\n",
    "# x2 = oh1[:, 0:17]\n",
    "# y2 = oh1[:, 6]"
   ]
  },
  {
   "cell_type": "code",
   "execution_count": 109,
   "metadata": {},
   "outputs": [],
   "source": [
    "# #one hot coding\n",
    "# from sklearn.preprocessing import LabelEncoder\n",
    "# label_encoder = LabelEncoder()\n",
    "# label_encoder.fit(y2)\n",
    "# encoded_y2 = label_encoder.transform(y2)\n",
    "# # fit_transform(CR['run_location'].astype(str))"
   ]
  },
  {
   "cell_type": "code",
   "execution_count": 110,
   "metadata": {},
   "outputs": [
    {
     "data": {
      "text/plain": [
       "dtype('int32')"
      ]
     },
     "execution_count": 110,
     "metadata": {},
     "output_type": "execute_result"
    }
   ],
   "source": [
    "# encoded_y2.dtype"
   ]
  },
  {
   "cell_type": "code",
   "execution_count": null,
   "metadata": {},
   "outputs": [],
   "source": []
  },
  {
   "cell_type": "code",
   "execution_count": 111,
   "metadata": {},
   "outputs": [],
   "source": [
    "# y1=np.array(y1)\n",
    "# y2=np.array(y2)\n"
   ]
  },
  {
   "cell_type": "code",
   "execution_count": 112,
   "metadata": {},
   "outputs": [
    {
     "data": {
      "text/plain": [
       "array([[1.],\n",
       "       [1.],\n",
       "       [1.],\n",
       "       ...,\n",
       "       [1.],\n",
       "       [1.],\n",
       "       [1.]], dtype=float32)"
      ]
     },
     "execution_count": 112,
     "metadata": {},
     "output_type": "execute_result"
    }
   ],
   "source": [
    "# from keras.utils import to_categorical\n",
    "\n",
    "# #step 2\n",
    "# one_hot_y1 = to_categorical(encoded_y1)\n",
    "# one_hot_y2 = to_categorical(encoded_y2)\n",
    "# one_hot_y1\n",
    "# one_hot_y2"
   ]
  },
  {
   "cell_type": "code",
   "execution_count": 113,
   "metadata": {},
   "outputs": [
    {
     "data": {
      "text/plain": [
       "array([[445, 2018090600, 1, ..., 0.3774566601664061, 2.642543436776396,\n",
       "        1.0],\n",
       "       [1160, 2018090600, 1, ..., 0.4549845629613575, 3.967254581708053,\n",
       "        1.0],\n",
       "       [2672, 2018090600, 0, ..., 0.4581346023700066, 2.519950095501424,\n",
       "        1.0],\n",
       "       ...,\n",
       "       [819, 2010010308, 0, ..., 0.3889014989327876, 4.0786665638600486,\n",
       "        1.0],\n",
       "       [1734, 2010010308, 0, ..., 0.3630970976928048, 2.7462536195392198,\n",
       "        1.0],\n",
       "       [3338, 2010010308, 0, ..., 0.4168695365453912, 2.512945408063474,\n",
       "        1.0]], dtype=object)"
      ]
     },
     "execution_count": 113,
     "metadata": {},
     "output_type": "execute_result"
    }
   ],
   "source": [
    "# oh1"
   ]
  },
  {
   "cell_type": "code",
   "execution_count": 124,
   "metadata": {},
   "outputs": [],
   "source": [
    "\n",
    "#Define X & Y From Right side\n",
    "X = CR_Final[['ydstogo','half_seconds_remaining', 'shotgun', 'score_differential', 'run_location', 'yardline_100']]\n",
    "y = CR_Final['play_type']\n",
    "\n",
    "# Split into test and train\n",
    "from sklearn.model_selection import train_test_split\n",
    "X_train, X_test, y_train, y_test = train_test_split(X, y, random_state = 1, stratify=y)\n",
    "\n",
    "\n",
    "\n"
   ]
  },
  {
   "cell_type": "code",
   "execution_count": 125,
   "metadata": {},
   "outputs": [
    {
     "name": "stderr",
     "output_type": "stream",
     "text": [
      "C:\\ProgramData\\Anaconda3\\lib\\site-packages\\sklearn\\linear_model\\logistic.py:433: FutureWarning: Default solver will be changed to 'lbfgs' in 0.22. Specify a solver to silence this warning.\n",
      "  FutureWarning)\n"
     ]
    },
    {
     "ename": "ValueError",
     "evalue": "Unknown label type: 'unknown'",
     "output_type": "error",
     "traceback": [
      "\u001b[1;31m---------------------------------------------------------------------------\u001b[0m",
      "\u001b[1;31mValueError\u001b[0m                                Traceback (most recent call last)",
      "\u001b[1;32m<ipython-input-125-30ffa4c6d30c>\u001b[0m in \u001b[0;36m<module>\u001b[1;34m\u001b[0m\n\u001b[0;32m      3\u001b[0m \u001b[0mclassifier\u001b[0m \u001b[1;33m=\u001b[0m \u001b[0mLogisticRegression\u001b[0m\u001b[1;33m(\u001b[0m\u001b[1;33m)\u001b[0m\u001b[1;33m\u001b[0m\u001b[1;33m\u001b[0m\u001b[0m\n\u001b[0;32m      4\u001b[0m \u001b[0mclassifier\u001b[0m\u001b[1;33m\u001b[0m\u001b[1;33m\u001b[0m\u001b[0m\n\u001b[1;32m----> 5\u001b[1;33m \u001b[0mclassifier\u001b[0m\u001b[1;33m.\u001b[0m\u001b[0mfit\u001b[0m\u001b[1;33m(\u001b[0m\u001b[0mX_train\u001b[0m\u001b[1;33m,\u001b[0m \u001b[0my_train\u001b[0m\u001b[1;33m)\u001b[0m\u001b[1;33m\u001b[0m\u001b[1;33m\u001b[0m\u001b[0m\n\u001b[0m\u001b[0;32m      6\u001b[0m \u001b[0mprint\u001b[0m\u001b[1;33m(\u001b[0m\u001b[1;34mf\"First 10 predictions: {predictions[:10]}\"\u001b[0m\u001b[1;33m)\u001b[0m\u001b[1;33m\u001b[0m\u001b[1;33m\u001b[0m\u001b[0m\n\u001b[0;32m      7\u001b[0m \u001b[0mprint\u001b[0m\u001b[1;33m(\u001b[0m\u001b[1;34mf\"First 10 Actual Labels: {y_test[:10,tolist()]}\"\u001b[0m\u001b[1;33m)\u001b[0m\u001b[1;33m\u001b[0m\u001b[1;33m\u001b[0m\u001b[0m\n",
      "\u001b[1;32mC:\\ProgramData\\Anaconda3\\lib\\site-packages\\sklearn\\linear_model\\logistic.py\u001b[0m in \u001b[0;36mfit\u001b[1;34m(self, X, y, sample_weight)\u001b[0m\n\u001b[0;32m   1287\u001b[0m         X, y = check_X_y(X, y, accept_sparse='csr', dtype=_dtype, order=\"C\",\n\u001b[0;32m   1288\u001b[0m                          accept_large_sparse=solver != 'liblinear')\n\u001b[1;32m-> 1289\u001b[1;33m         \u001b[0mcheck_classification_targets\u001b[0m\u001b[1;33m(\u001b[0m\u001b[0my\u001b[0m\u001b[1;33m)\u001b[0m\u001b[1;33m\u001b[0m\u001b[1;33m\u001b[0m\u001b[0m\n\u001b[0m\u001b[0;32m   1290\u001b[0m         \u001b[0mself\u001b[0m\u001b[1;33m.\u001b[0m\u001b[0mclasses_\u001b[0m \u001b[1;33m=\u001b[0m \u001b[0mnp\u001b[0m\u001b[1;33m.\u001b[0m\u001b[0munique\u001b[0m\u001b[1;33m(\u001b[0m\u001b[0my\u001b[0m\u001b[1;33m)\u001b[0m\u001b[1;33m\u001b[0m\u001b[1;33m\u001b[0m\u001b[0m\n\u001b[0;32m   1291\u001b[0m         \u001b[0mn_samples\u001b[0m\u001b[1;33m,\u001b[0m \u001b[0mn_features\u001b[0m \u001b[1;33m=\u001b[0m \u001b[0mX\u001b[0m\u001b[1;33m.\u001b[0m\u001b[0mshape\u001b[0m\u001b[1;33m\u001b[0m\u001b[1;33m\u001b[0m\u001b[0m\n",
      "\u001b[1;32mC:\\ProgramData\\Anaconda3\\lib\\site-packages\\sklearn\\utils\\multiclass.py\u001b[0m in \u001b[0;36mcheck_classification_targets\u001b[1;34m(y)\u001b[0m\n\u001b[0;32m    169\u001b[0m     if y_type not in ['binary', 'multiclass', 'multiclass-multioutput',\n\u001b[0;32m    170\u001b[0m                       'multilabel-indicator', 'multilabel-sequences']:\n\u001b[1;32m--> 171\u001b[1;33m         \u001b[1;32mraise\u001b[0m \u001b[0mValueError\u001b[0m\u001b[1;33m(\u001b[0m\u001b[1;34m\"Unknown label type: %r\"\u001b[0m \u001b[1;33m%\u001b[0m \u001b[0my_type\u001b[0m\u001b[1;33m)\u001b[0m\u001b[1;33m\u001b[0m\u001b[1;33m\u001b[0m\u001b[0m\n\u001b[0m\u001b[0;32m    172\u001b[0m \u001b[1;33m\u001b[0m\u001b[0m\n\u001b[0;32m    173\u001b[0m \u001b[1;33m\u001b[0m\u001b[0m\n",
      "\u001b[1;31mValueError\u001b[0m: Unknown label type: 'unknown'"
     ]
    }
   ],
   "source": [
    "# Create the logistic regression\n",
    "from sklearn.linear_model import LogisticRegression\n",
    "classifier = LogisticRegression()\n",
    "classifier\n",
    "classifier.fit(X_train, y_train)\n",
    "print(f\"First 10 predictions: {predictions[:10]}\")\n",
    "print(f\"First 10 Actual Labels: {y_test[:10,tolist()]}\")\n",
    "pd.Dataframe({\"Prediction:\": predictions, \"Actual:\": y_test}).reset_index(drop=True)"
   ]
  },
  {
   "cell_type": "code",
   "execution_count": null,
   "metadata": {},
   "outputs": [],
   "source": []
  }
 ],
 "metadata": {
  "kernelspec": {
   "display_name": "Python 3",
   "language": "python",
   "name": "python3"
  },
  "language_info": {
   "codemirror_mode": {
    "name": "ipython",
    "version": 3
   },
   "file_extension": ".py",
   "mimetype": "text/x-python",
   "name": "python",
   "nbconvert_exporter": "python",
   "pygments_lexer": "ipython3",
   "version": "3.7.3"
  }
 },
 "nbformat": 4,
 "nbformat_minor": 2
}
