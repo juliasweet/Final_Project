{
 "cells": [
  {
   "cell_type": "markdown",
   "metadata": {},
   "source": [
    "# Random Forest Analysis"
   ]
  },
  {
   "cell_type": "markdown",
   "metadata": {},
   "source": [
    "## What Features are important in predicting third down conversion "
   ]
  },
  {
   "cell_type": "code",
   "execution_count": 39,
   "metadata": {},
   "outputs": [],
   "source": [
    "import pandas as pd\n",
    "import matplotlib.pyplot as plt\n",
    "import os\n",
    "import numpy as np\n",
    "from sklearn import tree"
   ]
  },
  {
   "cell_type": "code",
   "execution_count": 40,
   "metadata": {},
   "outputs": [
    {
     "data": {
      "text/html": [
       "<div>\n",
       "<style scoped>\n",
       "    .dataframe tbody tr th:only-of-type {\n",
       "        vertical-align: middle;\n",
       "    }\n",
       "\n",
       "    .dataframe tbody tr th {\n",
       "        vertical-align: top;\n",
       "    }\n",
       "\n",
       "    .dataframe thead th {\n",
       "        text-align: right;\n",
       "    }\n",
       "</style>\n",
       "<table border=\"1\" class=\"dataframe\">\n",
       "  <thead>\n",
       "    <tr style=\"text-align: right;\">\n",
       "      <th></th>\n",
       "      <th>play_id</th>\n",
       "      <th>game_id</th>\n",
       "      <th>shotgun</th>\n",
       "      <th>no_huddle</th>\n",
       "      <th>ydstogo</th>\n",
       "      <th>yardline_100</th>\n",
       "      <th>play_type</th>\n",
       "      <th>half_seconds_remaining</th>\n",
       "      <th>down</th>\n",
       "      <th>pass_length</th>\n",
       "      <th>run_location</th>\n",
       "      <th>score_differential</th>\n",
       "      <th>fg_prob</th>\n",
       "      <th>td_prob</th>\n",
       "      <th>ep</th>\n",
       "      <th>third_down_converted</th>\n",
       "    </tr>\n",
       "  </thead>\n",
       "  <tbody>\n",
       "    <tr>\n",
       "      <th>0</th>\n",
       "      <td>190</td>\n",
       "      <td>2018090600</td>\n",
       "      <td>1</td>\n",
       "      <td>0</td>\n",
       "      <td>10</td>\n",
       "      <td>39.0</td>\n",
       "      <td>pass</td>\n",
       "      <td>1681.0</td>\n",
       "      <td>3.0</td>\n",
       "      <td>deep</td>\n",
       "      <td>NaN</td>\n",
       "      <td>0.0</td>\n",
       "      <td>0.415009</td>\n",
       "      <td>0.333712</td>\n",
       "      <td>2.250232</td>\n",
       "      <td>1.0</td>\n",
       "    </tr>\n",
       "    <tr>\n",
       "      <th>1</th>\n",
       "      <td>256</td>\n",
       "      <td>2018090600</td>\n",
       "      <td>1</td>\n",
       "      <td>0</td>\n",
       "      <td>1</td>\n",
       "      <td>1.0</td>\n",
       "      <td>pass</td>\n",
       "      <td>1559.0</td>\n",
       "      <td>3.0</td>\n",
       "      <td>short</td>\n",
       "      <td>NaN</td>\n",
       "      <td>0.0</td>\n",
       "      <td>0.204515</td>\n",
       "      <td>0.749825</td>\n",
       "      <td>5.661931</td>\n",
       "      <td>0.0</td>\n",
       "    </tr>\n",
       "    <tr>\n",
       "      <th>2</th>\n",
       "      <td>344</td>\n",
       "      <td>2018090600</td>\n",
       "      <td>1</td>\n",
       "      <td>0</td>\n",
       "      <td>4</td>\n",
       "      <td>92.0</td>\n",
       "      <td>pass</td>\n",
       "      <td>1464.0</td>\n",
       "      <td>3.0</td>\n",
       "      <td>short</td>\n",
       "      <td>NaN</td>\n",
       "      <td>0.0</td>\n",
       "      <td>0.093928</td>\n",
       "      <td>0.213978</td>\n",
       "      <td>-1.832560</td>\n",
       "      <td>0.0</td>\n",
       "    </tr>\n",
       "    <tr>\n",
       "      <th>3</th>\n",
       "      <td>445</td>\n",
       "      <td>2018090600</td>\n",
       "      <td>1</td>\n",
       "      <td>0</td>\n",
       "      <td>5</td>\n",
       "      <td>39.0</td>\n",
       "      <td>run</td>\n",
       "      <td>1404.0</td>\n",
       "      <td>3.0</td>\n",
       "      <td>NaN</td>\n",
       "      <td>right</td>\n",
       "      <td>0.0</td>\n",
       "      <td>0.395592</td>\n",
       "      <td>0.377457</td>\n",
       "      <td>2.642543</td>\n",
       "      <td>1.0</td>\n",
       "    </tr>\n",
       "    <tr>\n",
       "      <th>4</th>\n",
       "      <td>636</td>\n",
       "      <td>2018090600</td>\n",
       "      <td>1</td>\n",
       "      <td>0</td>\n",
       "      <td>3</td>\n",
       "      <td>3.0</td>\n",
       "      <td>pass</td>\n",
       "      <td>1207.0</td>\n",
       "      <td>3.0</td>\n",
       "      <td>short</td>\n",
       "      <td>NaN</td>\n",
       "      <td>0.0</td>\n",
       "      <td>0.386222</td>\n",
       "      <td>0.567801</td>\n",
       "      <td>4.926552</td>\n",
       "      <td>0.0</td>\n",
       "    </tr>\n",
       "  </tbody>\n",
       "</table>\n",
       "</div>"
      ],
      "text/plain": [
       "   play_id     game_id  shotgun  no_huddle  ydstogo  yardline_100 play_type  \\\n",
       "0      190  2018090600        1          0       10          39.0      pass   \n",
       "1      256  2018090600        1          0        1           1.0      pass   \n",
       "2      344  2018090600        1          0        4          92.0      pass   \n",
       "3      445  2018090600        1          0        5          39.0       run   \n",
       "4      636  2018090600        1          0        3           3.0      pass   \n",
       "\n",
       "   half_seconds_remaining  down pass_length run_location  score_differential  \\\n",
       "0                  1681.0   3.0        deep          NaN                 0.0   \n",
       "1                  1559.0   3.0       short          NaN                 0.0   \n",
       "2                  1464.0   3.0       short          NaN                 0.0   \n",
       "3                  1404.0   3.0         NaN        right                 0.0   \n",
       "4                  1207.0   3.0       short          NaN                 0.0   \n",
       "\n",
       "    fg_prob   td_prob        ep  third_down_converted  \n",
       "0  0.415009  0.333712  2.250232                   1.0  \n",
       "1  0.204515  0.749825  5.661931                   0.0  \n",
       "2  0.093928  0.213978 -1.832560                   0.0  \n",
       "3  0.395592  0.377457  2.642543                   1.0  \n",
       "4  0.386222  0.567801  4.926552                   0.0  "
      ]
     },
     "execution_count": 40,
     "metadata": {},
     "output_type": "execute_result"
    }
   ],
   "source": [
    "df = pd.read_csv(\"thirdDown.csv\")\n",
    "\n",
    "df = df.drop(columns=['pass_length.1', 'Unnamed: 0'])\n",
    "\n",
    "df.head()\n",
    "\n"
   ]
  },
  {
   "cell_type": "markdown",
   "metadata": {},
   "source": [
    "#### Data preprocessing, change categorical values to numeric"
   ]
  },
  {
   "cell_type": "code",
   "execution_count": 41,
   "metadata": {},
   "outputs": [
    {
     "data": {
      "text/html": [
       "<div>\n",
       "<style scoped>\n",
       "    .dataframe tbody tr th:only-of-type {\n",
       "        vertical-align: middle;\n",
       "    }\n",
       "\n",
       "    .dataframe tbody tr th {\n",
       "        vertical-align: top;\n",
       "    }\n",
       "\n",
       "    .dataframe thead th {\n",
       "        text-align: right;\n",
       "    }\n",
       "</style>\n",
       "<table border=\"1\" class=\"dataframe\">\n",
       "  <thead>\n",
       "    <tr style=\"text-align: right;\">\n",
       "      <th></th>\n",
       "      <th>play_id</th>\n",
       "      <th>game_id</th>\n",
       "      <th>shotgun</th>\n",
       "      <th>no_huddle</th>\n",
       "      <th>ydstogo</th>\n",
       "      <th>yardline_100</th>\n",
       "      <th>half_seconds_remaining</th>\n",
       "      <th>down</th>\n",
       "      <th>score_differential</th>\n",
       "      <th>fg_prob</th>\n",
       "      <th>td_prob</th>\n",
       "      <th>ep</th>\n",
       "      <th>third_down_converted</th>\n",
       "      <th>play_type_pass</th>\n",
       "      <th>play_type_run</th>\n",
       "      <th>pass_length_deep</th>\n",
       "      <th>pass_length_short</th>\n",
       "      <th>run_location_left</th>\n",
       "      <th>run_location_middle</th>\n",
       "      <th>run_location_right</th>\n",
       "    </tr>\n",
       "  </thead>\n",
       "  <tbody>\n",
       "    <tr>\n",
       "      <th>0</th>\n",
       "      <td>190</td>\n",
       "      <td>2018090600</td>\n",
       "      <td>1</td>\n",
       "      <td>0</td>\n",
       "      <td>10</td>\n",
       "      <td>39.0</td>\n",
       "      <td>1681.0</td>\n",
       "      <td>3.0</td>\n",
       "      <td>0.0</td>\n",
       "      <td>0.415009</td>\n",
       "      <td>0.333712</td>\n",
       "      <td>2.250232</td>\n",
       "      <td>1.0</td>\n",
       "      <td>1</td>\n",
       "      <td>0</td>\n",
       "      <td>1</td>\n",
       "      <td>0</td>\n",
       "      <td>0</td>\n",
       "      <td>0</td>\n",
       "      <td>0</td>\n",
       "    </tr>\n",
       "    <tr>\n",
       "      <th>1</th>\n",
       "      <td>256</td>\n",
       "      <td>2018090600</td>\n",
       "      <td>1</td>\n",
       "      <td>0</td>\n",
       "      <td>1</td>\n",
       "      <td>1.0</td>\n",
       "      <td>1559.0</td>\n",
       "      <td>3.0</td>\n",
       "      <td>0.0</td>\n",
       "      <td>0.204515</td>\n",
       "      <td>0.749825</td>\n",
       "      <td>5.661931</td>\n",
       "      <td>0.0</td>\n",
       "      <td>1</td>\n",
       "      <td>0</td>\n",
       "      <td>0</td>\n",
       "      <td>1</td>\n",
       "      <td>0</td>\n",
       "      <td>0</td>\n",
       "      <td>0</td>\n",
       "    </tr>\n",
       "    <tr>\n",
       "      <th>2</th>\n",
       "      <td>344</td>\n",
       "      <td>2018090600</td>\n",
       "      <td>1</td>\n",
       "      <td>0</td>\n",
       "      <td>4</td>\n",
       "      <td>92.0</td>\n",
       "      <td>1464.0</td>\n",
       "      <td>3.0</td>\n",
       "      <td>0.0</td>\n",
       "      <td>0.093928</td>\n",
       "      <td>0.213978</td>\n",
       "      <td>-1.832560</td>\n",
       "      <td>0.0</td>\n",
       "      <td>1</td>\n",
       "      <td>0</td>\n",
       "      <td>0</td>\n",
       "      <td>1</td>\n",
       "      <td>0</td>\n",
       "      <td>0</td>\n",
       "      <td>0</td>\n",
       "    </tr>\n",
       "    <tr>\n",
       "      <th>3</th>\n",
       "      <td>445</td>\n",
       "      <td>2018090600</td>\n",
       "      <td>1</td>\n",
       "      <td>0</td>\n",
       "      <td>5</td>\n",
       "      <td>39.0</td>\n",
       "      <td>1404.0</td>\n",
       "      <td>3.0</td>\n",
       "      <td>0.0</td>\n",
       "      <td>0.395592</td>\n",
       "      <td>0.377457</td>\n",
       "      <td>2.642543</td>\n",
       "      <td>1.0</td>\n",
       "      <td>0</td>\n",
       "      <td>1</td>\n",
       "      <td>0</td>\n",
       "      <td>0</td>\n",
       "      <td>0</td>\n",
       "      <td>0</td>\n",
       "      <td>1</td>\n",
       "    </tr>\n",
       "    <tr>\n",
       "      <th>4</th>\n",
       "      <td>636</td>\n",
       "      <td>2018090600</td>\n",
       "      <td>1</td>\n",
       "      <td>0</td>\n",
       "      <td>3</td>\n",
       "      <td>3.0</td>\n",
       "      <td>1207.0</td>\n",
       "      <td>3.0</td>\n",
       "      <td>0.0</td>\n",
       "      <td>0.386222</td>\n",
       "      <td>0.567801</td>\n",
       "      <td>4.926552</td>\n",
       "      <td>0.0</td>\n",
       "      <td>1</td>\n",
       "      <td>0</td>\n",
       "      <td>0</td>\n",
       "      <td>1</td>\n",
       "      <td>0</td>\n",
       "      <td>0</td>\n",
       "      <td>0</td>\n",
       "    </tr>\n",
       "  </tbody>\n",
       "</table>\n",
       "</div>"
      ],
      "text/plain": [
       "   play_id     game_id  shotgun  no_huddle  ydstogo  yardline_100  \\\n",
       "0      190  2018090600        1          0       10          39.0   \n",
       "1      256  2018090600        1          0        1           1.0   \n",
       "2      344  2018090600        1          0        4          92.0   \n",
       "3      445  2018090600        1          0        5          39.0   \n",
       "4      636  2018090600        1          0        3           3.0   \n",
       "\n",
       "   half_seconds_remaining  down  score_differential   fg_prob   td_prob  \\\n",
       "0                  1681.0   3.0                 0.0  0.415009  0.333712   \n",
       "1                  1559.0   3.0                 0.0  0.204515  0.749825   \n",
       "2                  1464.0   3.0                 0.0  0.093928  0.213978   \n",
       "3                  1404.0   3.0                 0.0  0.395592  0.377457   \n",
       "4                  1207.0   3.0                 0.0  0.386222  0.567801   \n",
       "\n",
       "         ep  third_down_converted  play_type_pass  play_type_run  \\\n",
       "0  2.250232                   1.0               1              0   \n",
       "1  5.661931                   0.0               1              0   \n",
       "2 -1.832560                   0.0               1              0   \n",
       "3  2.642543                   1.0               0              1   \n",
       "4  4.926552                   0.0               1              0   \n",
       "\n",
       "   pass_length_deep  pass_length_short  run_location_left  \\\n",
       "0                 1                  0                  0   \n",
       "1                 0                  1                  0   \n",
       "2                 0                  1                  0   \n",
       "3                 0                  0                  0   \n",
       "4                 0                  1                  0   \n",
       "\n",
       "   run_location_middle  run_location_right  \n",
       "0                    0                   0  \n",
       "1                    0                   0  \n",
       "2                    0                   0  \n",
       "3                    0                   1  \n",
       "4                    0                   0  "
      ]
     },
     "execution_count": 41,
     "metadata": {},
     "output_type": "execute_result"
    }
   ],
   "source": [
    "df = pd.get_dummies(df) \n",
    "df.head()"
   ]
  },
  {
   "cell_type": "code",
   "execution_count": 42,
   "metadata": {},
   "outputs": [],
   "source": [
    "target = df['third_down_converted']\n",
    "target_names = [\"not_converted\", \"converted\"]\n"
   ]
  },
  {
   "cell_type": "code",
   "execution_count": 43,
   "metadata": {},
   "outputs": [],
   "source": [
    "data = df.drop(['third_down_converted', 'play_id', 'game_id'], axis=1)\n",
    "feature_names = data.columns\n",
    "data = np.array(data)\n"
   ]
  },
  {
   "cell_type": "markdown",
   "metadata": {},
   "source": [
    "#### Test/Train split"
   ]
  },
  {
   "cell_type": "code",
   "execution_count": 44,
   "metadata": {},
   "outputs": [],
   "source": [
    " from sklearn.model_selection import train_test_split\n",
    "X_train, X_test, y_train, y_test = train_test_split(data, target, test_size =0.25, random_state=42)\n"
   ]
  },
  {
   "cell_type": "markdown",
   "metadata": {},
   "source": [
    "#### Descision Tree and Random Forest Models"
   ]
  },
  {
   "cell_type": "code",
   "execution_count": 45,
   "metadata": {},
   "outputs": [
    {
     "data": {
      "text/plain": [
       "0.6069112627986348"
      ]
     },
     "execution_count": 45,
     "metadata": {},
     "output_type": "execute_result"
    }
   ],
   "source": [
    "clf = tree.DecisionTreeClassifier()\n",
    "clf = clf.fit(X_train, y_train)\n",
    "clf.score(X_test, y_test)"
   ]
  },
  {
   "cell_type": "code",
   "execution_count": 46,
   "metadata": {},
   "outputs": [
    {
     "data": {
      "text/plain": [
       "0.6408703071672355"
      ]
     },
     "execution_count": 46,
     "metadata": {},
     "output_type": "execute_result"
    }
   ],
   "source": [
    "from sklearn.ensemble import RandomForestClassifier\n",
    "rf = RandomForestClassifier(n_estimators=200)\n",
    "rf = rf.fit(X_train, y_train)\n",
    "rf.score(X_test, y_test)"
   ]
  },
  {
   "cell_type": "code",
   "execution_count": 49,
   "metadata": {
    "scrolled": true
   },
   "outputs": [
    {
     "data": {
      "text/plain": [
       "td_prob                   0.162392\n",
       "half_seconds_remaining    0.147252\n",
       "fg_prob                   0.147167\n",
       "ep                        0.146907\n",
       "score_differential        0.114618\n",
       "ydstogo                   0.107825\n",
       "yardline_100              0.088013\n",
       "pass_length_short         0.024889\n",
       "pass_length_deep          0.017620\n",
       "shotgun                   0.010621\n",
       "no_huddle                 0.008471\n",
       "play_type_pass            0.006873\n",
       "play_type_run             0.006854\n",
       "run_location_left         0.003574\n",
       "run_location_middle       0.003540\n",
       "run_location_right        0.003384\n",
       "down                      0.000000\n",
       "dtype: float64"
      ]
     },
     "execution_count": 49,
     "metadata": {},
     "output_type": "execute_result"
    }
   ],
   "source": [
    "# Listing feature importance weighting\n",
    "feature_imp = pd.Series(rf.feature_importances_, index=feature_names).sort_values(ascending=False)\n",
    "feature_imp"
   ]
  },
  {
   "cell_type": "code",
   "execution_count": 48,
   "metadata": {},
   "outputs": [
    {
     "data": {
      "image/png": "[encoded data removed]",
      "text/plain": [
       "<Figure size 432x288 with 1 Axes>"
      ]
     },
     "metadata": {
      "needs_background": "light"
     },
     "output_type": "display_data"
    }
   ],
   "source": [
    "# Charting feature impartance\n",
    "import matplotlib.pyplot as plt\n",
    "import seaborn as sns\n",
    "%matplotlib inline\n",
    "\n",
    "sns.barplot(x=feature_imp, y=feature_imp.index)\n",
    "\n",
    "plt.xlabel(\"Feature Importance Score\")\n",
    "plt.ylabel(\"Feature\")\n",
    "plt.title(\"Random Forest Feature Importance\")\n",
    "\n",
    "plt.show()"
   ]
  },
  {
   "cell_type": "markdown",
   "metadata": {},
   "source": [
    "## What Features are important in predicting whether a run or pass play "
   ]
  },
  {
   "cell_type": "code",
   "execution_count": 3,
   "metadata": {},
   "outputs": [
    {
     "data": {
      "text/html": [
       "<div>\n",
       "<style scoped>\n",
       "    .dataframe tbody tr th:only-of-type {\n",
       "        vertical-align: middle;\n",
       "    }\n",
       "\n",
       "    .dataframe tbody tr th {\n",
       "        vertical-align: top;\n",
       "    }\n",
       "\n",
       "    .dataframe thead th {\n",
       "        text-align: right;\n",
       "    }\n",
       "</style>\n",
       "<table border=\"1\" class=\"dataframe\">\n",
       "  <thead>\n",
       "    <tr style=\"text-align: right;\">\n",
       "      <th></th>\n",
       "      <th>play_id</th>\n",
       "      <th>game_id</th>\n",
       "      <th>shotgun</th>\n",
       "      <th>no_huddle</th>\n",
       "      <th>ydstogo</th>\n",
       "      <th>yardline_100</th>\n",
       "      <th>play_type</th>\n",
       "      <th>half_seconds_remaining</th>\n",
       "      <th>down</th>\n",
       "      <th>pass_length</th>\n",
       "      <th>run_location</th>\n",
       "      <th>score_differential</th>\n",
       "      <th>fg_prob</th>\n",
       "      <th>td_prob</th>\n",
       "      <th>ep</th>\n",
       "      <th>third_down_converted</th>\n",
       "    </tr>\n",
       "  </thead>\n",
       "  <tbody>\n",
       "    <tr>\n",
       "      <th>0</th>\n",
       "      <td>190</td>\n",
       "      <td>2018090600</td>\n",
       "      <td>1</td>\n",
       "      <td>0</td>\n",
       "      <td>10</td>\n",
       "      <td>39.0</td>\n",
       "      <td>pass</td>\n",
       "      <td>1681.0</td>\n",
       "      <td>3.0</td>\n",
       "      <td>deep</td>\n",
       "      <td>NaN</td>\n",
       "      <td>0.0</td>\n",
       "      <td>0.415009</td>\n",
       "      <td>0.333712</td>\n",
       "      <td>2.250232</td>\n",
       "      <td>1.0</td>\n",
       "    </tr>\n",
       "    <tr>\n",
       "      <th>1</th>\n",
       "      <td>256</td>\n",
       "      <td>2018090600</td>\n",
       "      <td>1</td>\n",
       "      <td>0</td>\n",
       "      <td>1</td>\n",
       "      <td>1.0</td>\n",
       "      <td>pass</td>\n",
       "      <td>1559.0</td>\n",
       "      <td>3.0</td>\n",
       "      <td>short</td>\n",
       "      <td>NaN</td>\n",
       "      <td>0.0</td>\n",
       "      <td>0.204515</td>\n",
       "      <td>0.749825</td>\n",
       "      <td>5.661931</td>\n",
       "      <td>0.0</td>\n",
       "    </tr>\n",
       "    <tr>\n",
       "      <th>2</th>\n",
       "      <td>344</td>\n",
       "      <td>2018090600</td>\n",
       "      <td>1</td>\n",
       "      <td>0</td>\n",
       "      <td>4</td>\n",
       "      <td>92.0</td>\n",
       "      <td>pass</td>\n",
       "      <td>1464.0</td>\n",
       "      <td>3.0</td>\n",
       "      <td>short</td>\n",
       "      <td>NaN</td>\n",
       "      <td>0.0</td>\n",
       "      <td>0.093928</td>\n",
       "      <td>0.213978</td>\n",
       "      <td>-1.832560</td>\n",
       "      <td>0.0</td>\n",
       "    </tr>\n",
       "    <tr>\n",
       "      <th>3</th>\n",
       "      <td>445</td>\n",
       "      <td>2018090600</td>\n",
       "      <td>1</td>\n",
       "      <td>0</td>\n",
       "      <td>5</td>\n",
       "      <td>39.0</td>\n",
       "      <td>run</td>\n",
       "      <td>1404.0</td>\n",
       "      <td>3.0</td>\n",
       "      <td>NaN</td>\n",
       "      <td>right</td>\n",
       "      <td>0.0</td>\n",
       "      <td>0.395592</td>\n",
       "      <td>0.377457</td>\n",
       "      <td>2.642543</td>\n",
       "      <td>1.0</td>\n",
       "    </tr>\n",
       "    <tr>\n",
       "      <th>4</th>\n",
       "      <td>636</td>\n",
       "      <td>2018090600</td>\n",
       "      <td>1</td>\n",
       "      <td>0</td>\n",
       "      <td>3</td>\n",
       "      <td>3.0</td>\n",
       "      <td>pass</td>\n",
       "      <td>1207.0</td>\n",
       "      <td>3.0</td>\n",
       "      <td>short</td>\n",
       "      <td>NaN</td>\n",
       "      <td>0.0</td>\n",
       "      <td>0.386222</td>\n",
       "      <td>0.567801</td>\n",
       "      <td>4.926552</td>\n",
       "      <td>0.0</td>\n",
       "    </tr>\n",
       "  </tbody>\n",
       "</table>\n",
       "</div>"
      ],
      "text/plain": [
       "   play_id     game_id  shotgun  no_huddle  ydstogo  yardline_100 play_type  \\\n",
       "0      190  2018090600        1          0       10          39.0      pass   \n",
       "1      256  2018090600        1          0        1           1.0      pass   \n",
       "2      344  2018090600        1          0        4          92.0      pass   \n",
       "3      445  2018090600        1          0        5          39.0       run   \n",
       "4      636  2018090600        1          0        3           3.0      pass   \n",
       "\n",
       "   half_seconds_remaining  down pass_length run_location  score_differential  \\\n",
       "0                  1681.0   3.0        deep          NaN                 0.0   \n",
       "1                  1559.0   3.0       short          NaN                 0.0   \n",
       "2                  1464.0   3.0       short          NaN                 0.0   \n",
       "3                  1404.0   3.0         NaN        right                 0.0   \n",
       "4                  1207.0   3.0       short          NaN                 0.0   \n",
       "\n",
       "    fg_prob   td_prob        ep  third_down_converted  \n",
       "0  0.415009  0.333712  2.250232                   1.0  \n",
       "1  0.204515  0.749825  5.661931                   0.0  \n",
       "2  0.093928  0.213978 -1.832560                   0.0  \n",
       "3  0.395592  0.377457  2.642543                   1.0  \n",
       "4  0.386222  0.567801  4.926552                   0.0  "
      ]
     },
     "execution_count": 3,
     "metadata": {},
     "output_type": "execute_result"
    }
   ],
   "source": [
    "df2 = pd.read_csv(\"thirdDown.csv\")\n",
    "df2 = df2.drop(columns=['pass_length.1', 'Unnamed: 0'])\n",
    "\n",
    "df2.head()\n"
   ]
  },
  {
   "cell_type": "markdown",
   "metadata": {},
   "source": [
    "#### Data preprocessing "
   ]
  },
  {
   "cell_type": "code",
   "execution_count": 4,
   "metadata": {},
   "outputs": [],
   "source": [
    "#Encode Play Type so that the column contains numerical codes.\n",
    "from sklearn.preprocessing import LabelEncoder\n",
    "le_play_type = LabelEncoder()\n",
    "\n",
    "\n",
    "\n"
   ]
  },
  {
   "cell_type": "code",
   "execution_count": 5,
   "metadata": {},
   "outputs": [
    {
     "data": {
      "text/plain": [
       "['play_id',\n",
       " 'game_id',\n",
       " 'shotgun',\n",
       " 'no_huddle',\n",
       " 'ydstogo',\n",
       " 'yardline_100',\n",
       " 'play_type',\n",
       " 'half_seconds_remaining',\n",
       " 'down',\n",
       " 'pass_length',\n",
       " 'run_location',\n",
       " 'score_differential',\n",
       " 'fg_prob',\n",
       " 'td_prob',\n",
       " 'ep',\n",
       " 'third_down_converted',\n",
       " 'play_type_n']"
      ]
     },
     "execution_count": 5,
     "metadata": {},
     "output_type": "execute_result"
    }
   ],
   "source": [
    "df2['play_type_n'] = le_play_type.fit_transform(df2['play_type'])\n",
    "\n",
    "\n",
    "                                                \n",
    "list(df2.columns)"
   ]
  },
  {
   "cell_type": "code",
   "execution_count": 29,
   "metadata": {},
   "outputs": [
    {
     "data": {
      "text/plain": [
       "Index(['shotgun', 'no_huddle', 'ydstogo', 'yardline_100',\n",
       "       'half_seconds_remaining', 'down', 'score_differential', 'fg_prob',\n",
       "       'td_prob', 'ep', 'third_down_converted'],\n",
       "      dtype='object')"
      ]
     },
     "execution_count": 29,
     "metadata": {},
     "output_type": "execute_result"
    }
   ],
   "source": [
    "# Set features and label to predit\n",
    "features = df2.drop(['play_type_n', 'play_id', 'game_id', 'pass_length', 'run_location', 'play_type'], axis=1)\n",
    "feature_names2 = features.columns\n",
    "# features = np.array(features)\n",
    "feature_names2\n",
    "\n"
   ]
  },
  {
   "cell_type": "code",
   "execution_count": 12,
   "metadata": {},
   "outputs": [],
   "source": [
    "label = df2['play_type_n']"
   ]
  },
  {
   "cell_type": "markdown",
   "metadata": {},
   "source": [
    "#### Test/Train split"
   ]
  },
  {
   "cell_type": "code",
   "execution_count": 13,
   "metadata": {},
   "outputs": [],
   "source": [
    "from sklearn.model_selection import train_test_split\n",
    "X_train, X_test, y_train, y_test = train_test_split(features, label, test_size =0.30, random_state=42)"
   ]
  },
  {
   "cell_type": "code",
   "execution_count": 20,
   "metadata": {},
   "outputs": [
    {
     "data": {
      "text/plain": [
       "RandomForestClassifier(bootstrap=True, class_weight=None, criterion='gini',\n",
       "            max_depth=None, max_features='auto', max_leaf_nodes=None,\n",
       "            min_impurity_decrease=0.0, min_impurity_split=None,\n",
       "            min_samples_leaf=1, min_samples_split=2,\n",
       "            min_weight_fraction_leaf=0.0, n_estimators=300, n_jobs=None,\n",
       "            oob_score=False, random_state=None, verbose=0,\n",
       "            warm_start=False)"
      ]
     },
     "execution_count": 20,
     "metadata": {},
     "output_type": "execute_result"
    }
   ],
   "source": [
    "from sklearn.ensemble import RandomForestClassifier\n",
    "rf2 = RandomForestClassifier(n_estimators=300)\n",
    "rf2.fit(X_train, y_train)\n"
   ]
  },
  {
   "cell_type": "code",
   "execution_count": 21,
   "metadata": {},
   "outputs": [
    {
     "data": {
      "text/plain": [
       "0.8513225255972696"
      ]
     },
     "execution_count": 21,
     "metadata": {},
     "output_type": "execute_result"
    }
   ],
   "source": [
    "rf2.score(X_test, y_test)"
   ]
  },
  {
   "cell_type": "code",
   "execution_count": 22,
   "metadata": {},
   "outputs": [],
   "source": [
    "y_predicted = rf2.predict(X_test)"
   ]
  },
  {
   "cell_type": "code",
   "execution_count": 23,
   "metadata": {},
   "outputs": [
    {
     "data": {
      "text/plain": [
       "array([[10614,   592],\n",
       "       [ 1499,  1359]], dtype=int64)"
      ]
     },
     "execution_count": 23,
     "metadata": {},
     "output_type": "execute_result"
    }
   ],
   "source": [
    "from sklearn.metrics import confusion_matrix\n",
    "cm = confusion_matrix(y_test, y_predicted)\n",
    "cm"
   ]
  },
  {
   "cell_type": "markdown",
   "metadata": {},
   "source": [
    "#### Confusion Matrix\n"
   ]
  },
  {
   "cell_type": "code",
   "execution_count": 24,
   "metadata": {},
   "outputs": [
    {
     "data": {
      "text/plain": [
       "Text(69.0, 0.5, 'Truth')"
      ]
     },
     "execution_count": 24,
     "metadata": {},
     "output_type": "execute_result"
    },
    {
     "data": {
      "image/png": "[encoded data removed]",
      "text/plain": [
       "<Figure size 720x504 with 2 Axes>"
      ]
     },
     "metadata": {
      "needs_background": "light"
     },
     "output_type": "display_data"
    }
   ],
   "source": [
    "%matplotlib inline\n",
    "import matplotlib.pyplot as plt\n",
    "import seaborn as sn\n",
    "plt.figure(figsize=(10,7))\n",
    "sn.heatmap(cm, annot=True)\n",
    "plt.xlabel('Predicted')\n",
    "plt.ylabel('Truth')"
   ]
  },
  {
   "cell_type": "code",
   "execution_count": 30,
   "metadata": {},
   "outputs": [
    {
     "data": {
      "text/plain": [
       "td_prob                   0.159095\n",
       "ydstogo                   0.145652\n",
       "half_seconds_remaining    0.130381\n",
       "shotgun                   0.127597\n",
       "ep                        0.124250\n",
       "fg_prob                   0.122621\n",
       "score_differential        0.096331\n",
       "yardline_100              0.073799\n",
       "third_down_converted      0.013725\n",
       "no_huddle                 0.006549\n",
       "down                      0.000000\n",
       "dtype: float64"
      ]
     },
     "execution_count": 30,
     "metadata": {},
     "output_type": "execute_result"
    }
   ],
   "source": [
    "feature_imp2 = pd.Series(rf2.feature_importances_, index=feature_names2).sort_values(ascending=False)\n",
    "feature_imp2"
   ]
  },
  {
   "cell_type": "code",
   "execution_count": 38,
   "metadata": {},
   "outputs": [
    {
     "data": {
      "image/png": "[encoded data removed]",
      "text/plain": [
       "<Figure size 432x288 with 1 Axes>"
      ]
     },
     "metadata": {
      "needs_background": "light"
     },
     "output_type": "display_data"
    }
   ],
   "source": [
    "import matplotlib.pyplot as plt\n",
    "import seaborn as sns\n",
    "%matplotlib inline\n",
    "\n",
    "plot = sns.barplot(x=feature_imp2, y=feature_imp2.index)\n",
    "\n",
    "plt.xlabel(\"Feature Importance Score\")\n",
    "plt.ylabel(\"Feature\")\n",
    "plt.title(\"Random Forest Feature Importance\")\n",
    "plt.savefig('passRun-feature-imp.png')\n",
    "plt.show()"
   ]
  },
  {
   "cell_type": "code",
   "execution_count": null,
   "metadata": {},
   "outputs": [],
   "source": []
  },
  {
   "cell_type": "code",
   "execution_count": null,
   "metadata": {},
   "outputs": [],
   "source": []
  }
 ],
 "metadata": {
  "kernelspec": {
   "display_name": "Python 3",
   "language": "python",
   "name": "python3"
  },
  "language_info": {
   "codemirror_mode": {
    "name": "ipython",
    "version": 3
   },
   "file_extension": ".py",
   "mimetype": "text/x-python",
   "name": "python",
   "nbconvert_exporter": "python",
   "pygments_lexer": "ipython3",
   "version": "3.7.3"
  }
 },
 "nbformat": 4,
 "nbformat_minor": 2
}
