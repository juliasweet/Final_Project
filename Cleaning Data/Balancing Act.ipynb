{
 "cells": [
  {
   "cell_type": "code",
   "execution_count": 1,
   "metadata": {},
   "outputs": [],
   "source": [
    "import pandas as pd\n",
    "import numpy as np\n",
    "import os"
   ]
  },
  {
   "cell_type": "code",
   "execution_count": 9,
   "metadata": {},
   "outputs": [],
   "source": [
    "thirdDown = pd.read_csv(\"thirdDown.csv\")"
   ]
  },
  {
   "cell_type": "code",
   "execution_count": 10,
   "metadata": {},
   "outputs": [
    {
     "data": {
      "text/plain": [
       "(46877, 18)"
      ]
     },
     "execution_count": 10,
     "metadata": {},
     "output_type": "execute_result"
    }
   ],
   "source": [
    "thirdDown.shape"
   ]
  },
  {
   "cell_type": "code",
   "execution_count": 11,
   "metadata": {},
   "outputs": [
    {
     "data": {
      "text/plain": [
       "pass    37025\n",
       "run      9852\n",
       "Name: play_type, dtype: int64"
      ]
     },
     "execution_count": 11,
     "metadata": {},
     "output_type": "execute_result"
    }
   ],
   "source": [
    "thirdDown[\"play_type\"].value_counts()"
   ]
  },
  {
   "cell_type": "code",
   "execution_count": 12,
   "metadata": {},
   "outputs": [],
   "source": [
    "Run_Data = thirdDown.loc[thirdDown['play_type'] == \"run\"]"
   ]
  },
  {
   "cell_type": "code",
   "execution_count": 13,
   "metadata": {},
   "outputs": [],
   "source": [
    "Pass_Data = thirdDown.loc[thirdDown['play_type'] == \"pass\"]"
   ]
  },
  {
   "cell_type": "code",
   "execution_count": 14,
   "metadata": {},
   "outputs": [
    {
     "data": {
      "text/plain": [
       "(9852, 18)"
      ]
     },
     "execution_count": 14,
     "metadata": {},
     "output_type": "execute_result"
    }
   ],
   "source": [
    "Run_Data.shape"
   ]
  },
  {
   "cell_type": "code",
   "execution_count": 15,
   "metadata": {},
   "outputs": [
    {
     "data": {
      "text/plain": [
       "(37025, 18)"
      ]
     },
     "execution_count": 15,
     "metadata": {},
     "output_type": "execute_result"
    }
   ],
   "source": [
    "Pass_Data.shape"
   ]
  },
  {
   "cell_type": "code",
   "execution_count": 17,
   "metadata": {},
   "outputs": [],
   "source": [
    "Pass_Sample = Pass_Data.sample(n=9852, random_state = 42)"
   ]
  },
  {
   "cell_type": "code",
   "execution_count": 20,
   "metadata": {},
   "outputs": [
    {
     "data": {
      "text/plain": [
       "(9852, 18)"
      ]
     },
     "execution_count": 20,
     "metadata": {},
     "output_type": "execute_result"
    }
   ],
   "source": [
    "Pass_Sample.shape"
   ]
  },
  {
   "cell_type": "code",
   "execution_count": 21,
   "metadata": {},
   "outputs": [
    {
     "data": {
      "text/plain": [
       "Index(['Unnamed: 0', 'play_id', 'game_id', 'shotgun', 'no_huddle', 'ydstogo',\n",
       "       'yardline_100', 'play_type', 'half_seconds_remaining', 'down',\n",
       "       'pass_length', 'pass_length.1', 'run_location', 'score_differential',\n",
       "       'fg_prob', 'td_prob', 'ep', 'third_down_converted'],\n",
       "      dtype='object')"
      ]
     },
     "execution_count": 21,
     "metadata": {},
     "output_type": "execute_result"
    }
   ],
   "source": [
    "Pass_Sample.columns"
   ]
  },
  {
   "cell_type": "code",
   "execution_count": null,
   "metadata": {},
   "outputs": [],
   "source": []
  },
  {
   "cell_type": "code",
   "execution_count": 25,
   "metadata": {},
   "outputs": [],
   "source": [
    "Balanced_Data = pd.concat([Pass_Sample, Run_Data], ignore_index = True)"
   ]
  },
  {
   "cell_type": "code",
   "execution_count": 26,
   "metadata": {},
   "outputs": [
    {
     "data": {
      "text/html": [
       "<div>\n",
       "<style scoped>\n",
       "    .dataframe tbody tr th:only-of-type {\n",
       "        vertical-align: middle;\n",
       "    }\n",
       "\n",
       "    .dataframe tbody tr th {\n",
       "        vertical-align: top;\n",
       "    }\n",
       "\n",
       "    .dataframe thead th {\n",
       "        text-align: right;\n",
       "    }\n",
       "</style>\n",
       "<table border=\"1\" class=\"dataframe\">\n",
       "  <thead>\n",
       "    <tr style=\"text-align: right;\">\n",
       "      <th></th>\n",
       "      <th>Unnamed: 0</th>\n",
       "      <th>play_id</th>\n",
       "      <th>game_id</th>\n",
       "      <th>shotgun</th>\n",
       "      <th>no_huddle</th>\n",
       "      <th>ydstogo</th>\n",
       "      <th>yardline_100</th>\n",
       "      <th>play_type</th>\n",
       "      <th>half_seconds_remaining</th>\n",
       "      <th>down</th>\n",
       "      <th>pass_length</th>\n",
       "      <th>pass_length.1</th>\n",
       "      <th>run_location</th>\n",
       "      <th>score_differential</th>\n",
       "      <th>fg_prob</th>\n",
       "      <th>td_prob</th>\n",
       "      <th>ep</th>\n",
       "      <th>third_down_converted</th>\n",
       "    </tr>\n",
       "  </thead>\n",
       "  <tbody>\n",
       "    <tr>\n",
       "      <th>0</th>\n",
       "      <td>32122</td>\n",
       "      <td>1084</td>\n",
       "      <td>2012121612</td>\n",
       "      <td>1</td>\n",
       "      <td>0</td>\n",
       "      <td>13</td>\n",
       "      <td>75.0</td>\n",
       "      <td>pass</td>\n",
       "      <td>735.0</td>\n",
       "      <td>3.0</td>\n",
       "      <td>deep</td>\n",
       "      <td>deep</td>\n",
       "      <td>NaN</td>\n",
       "      <td>-3.0</td>\n",
       "      <td>0.163596</td>\n",
       "      <td>0.221572</td>\n",
       "      <td>-0.728013</td>\n",
       "      <td>0.0</td>\n",
       "    </tr>\n",
       "    <tr>\n",
       "      <th>1</th>\n",
       "      <td>4466</td>\n",
       "      <td>3734</td>\n",
       "      <td>2018123015</td>\n",
       "      <td>1</td>\n",
       "      <td>0</td>\n",
       "      <td>9</td>\n",
       "      <td>20.0</td>\n",
       "      <td>pass</td>\n",
       "      <td>419.0</td>\n",
       "      <td>3.0</td>\n",
       "      <td>NaN</td>\n",
       "      <td>NaN</td>\n",
       "      <td>NaN</td>\n",
       "      <td>0.0</td>\n",
       "      <td>0.491748</td>\n",
       "      <td>0.313103</td>\n",
       "      <td>3.110654</td>\n",
       "      <td>0.0</td>\n",
       "    </tr>\n",
       "    <tr>\n",
       "      <th>2</th>\n",
       "      <td>36559</td>\n",
       "      <td>2680</td>\n",
       "      <td>2011121110</td>\n",
       "      <td>1</td>\n",
       "      <td>0</td>\n",
       "      <td>8</td>\n",
       "      <td>79.0</td>\n",
       "      <td>pass</td>\n",
       "      <td>1399.0</td>\n",
       "      <td>3.0</td>\n",
       "      <td>short</td>\n",
       "      <td>short</td>\n",
       "      <td>NaN</td>\n",
       "      <td>5.0</td>\n",
       "      <td>0.150793</td>\n",
       "      <td>0.239080</td>\n",
       "      <td>-1.075599</td>\n",
       "      <td>0.0</td>\n",
       "    </tr>\n",
       "    <tr>\n",
       "      <th>3</th>\n",
       "      <td>44288</td>\n",
       "      <td>920</td>\n",
       "      <td>2009110800</td>\n",
       "      <td>1</td>\n",
       "      <td>0</td>\n",
       "      <td>7</td>\n",
       "      <td>70.0</td>\n",
       "      <td>pass</td>\n",
       "      <td>900.0</td>\n",
       "      <td>3.0</td>\n",
       "      <td>NaN</td>\n",
       "      <td>NaN</td>\n",
       "      <td>NaN</td>\n",
       "      <td>-13.0</td>\n",
       "      <td>0.194591</td>\n",
       "      <td>0.280941</td>\n",
       "      <td>0.016882</td>\n",
       "      <td>0.0</td>\n",
       "    </tr>\n",
       "    <tr>\n",
       "      <th>4</th>\n",
       "      <td>24939</td>\n",
       "      <td>535</td>\n",
       "      <td>2013101308</td>\n",
       "      <td>1</td>\n",
       "      <td>0</td>\n",
       "      <td>6</td>\n",
       "      <td>48.0</td>\n",
       "      <td>pass</td>\n",
       "      <td>1447.0</td>\n",
       "      <td>3.0</td>\n",
       "      <td>deep</td>\n",
       "      <td>deep</td>\n",
       "      <td>NaN</td>\n",
       "      <td>-7.0</td>\n",
       "      <td>0.339833</td>\n",
       "      <td>0.356560</td>\n",
       "      <td>1.918829</td>\n",
       "      <td>0.0</td>\n",
       "    </tr>\n",
       "  </tbody>\n",
       "</table>\n",
       "</div>"
      ],
      "text/plain": [
       "   Unnamed: 0  play_id     game_id  shotgun  no_huddle  ydstogo  yardline_100  \\\n",
       "0       32122     1084  2012121612        1          0       13          75.0   \n",
       "1        4466     3734  2018123015        1          0        9          20.0   \n",
       "2       36559     2680  2011121110        1          0        8          79.0   \n",
       "3       44288      920  2009110800        1          0        7          70.0   \n",
       "4       24939      535  2013101308        1          0        6          48.0   \n",
       "\n",
       "  play_type  half_seconds_remaining  down pass_length pass_length.1  \\\n",
       "0      pass                   735.0   3.0        deep          deep   \n",
       "1      pass                   419.0   3.0         NaN           NaN   \n",
       "2      pass                  1399.0   3.0       short         short   \n",
       "3      pass                   900.0   3.0         NaN           NaN   \n",
       "4      pass                  1447.0   3.0        deep          deep   \n",
       "\n",
       "  run_location  score_differential   fg_prob   td_prob        ep  \\\n",
       "0          NaN                -3.0  0.163596  0.221572 -0.728013   \n",
       "1          NaN                 0.0  0.491748  0.313103  3.110654   \n",
       "2          NaN                 5.0  0.150793  0.239080 -1.075599   \n",
       "3          NaN               -13.0  0.194591  0.280941  0.016882   \n",
       "4          NaN                -7.0  0.339833  0.356560  1.918829   \n",
       "\n",
       "   third_down_converted  \n",
       "0                   0.0  \n",
       "1                   0.0  \n",
       "2                   0.0  \n",
       "3                   0.0  \n",
       "4                   0.0  "
      ]
     },
     "execution_count": 26,
     "metadata": {},
     "output_type": "execute_result"
    }
   ],
   "source": [
    "Balanced_Data.head()"
   ]
  },
  {
   "cell_type": "code",
   "execution_count": 28,
   "metadata": {},
   "outputs": [
    {
     "data": {
      "text/plain": [
       "(19704, 18)"
      ]
     },
     "execution_count": 28,
     "metadata": {},
     "output_type": "execute_result"
    }
   ],
   "source": [
    "Balanced_Data.shape"
   ]
  },
  {
   "cell_type": "code",
   "execution_count": 29,
   "metadata": {},
   "outputs": [],
   "source": [
    "Balanced_Data.to_csv(\"Balanced_Data.csv\")"
   ]
  },
  {
   "cell_type": "code",
   "execution_count": 30,
   "metadata": {},
   "outputs": [],
   "source": [
    "Balanced_Data = Balanced_Data.drop(columns = ['Unnamed: 0', 'play_id', 'game_id', 'pass_length.1'])"
   ]
  },
  {
   "cell_type": "code",
   "execution_count": 31,
   "metadata": {},
   "outputs": [
    {
     "data": {
      "text/plain": [
       "Index(['shotgun', 'no_huddle', 'ydstogo', 'yardline_100', 'play_type',\n",
       "       'half_seconds_remaining', 'down', 'pass_length', 'run_location',\n",
       "       'score_differential', 'fg_prob', 'td_prob', 'ep',\n",
       "       'third_down_converted'],\n",
       "      dtype='object')"
      ]
     },
     "execution_count": 31,
     "metadata": {},
     "output_type": "execute_result"
    }
   ],
   "source": [
    "Balanced_Data.columns"
   ]
  },
  {
   "cell_type": "code",
   "execution_count": 32,
   "metadata": {},
   "outputs": [],
   "source": [
    "Balanced_Data = Balanced_Data.drop(columns = ['pass_length', 'run_location'])"
   ]
  },
  {
   "cell_type": "code",
   "execution_count": 33,
   "metadata": {},
   "outputs": [
    {
     "data": {
      "text/plain": [
       "Index(['shotgun', 'no_huddle', 'ydstogo', 'yardline_100', 'play_type',\n",
       "       'half_seconds_remaining', 'down', 'score_differential', 'fg_prob',\n",
       "       'td_prob', 'ep', 'third_down_converted'],\n",
       "      dtype='object')"
      ]
     },
     "execution_count": 33,
     "metadata": {},
     "output_type": "execute_result"
    }
   ],
   "source": [
    "Balanced_Data.columns"
   ]
  },
  {
   "cell_type": "code",
   "execution_count": 34,
   "metadata": {},
   "outputs": [],
   "source": [
    "Balanced_Data.to_csv(\"finalBalance.csv\")"
   ]
  },
  {
   "cell_type": "code",
   "execution_count": null,
   "metadata": {},
   "outputs": [],
   "source": []
  }
 ],
 "metadata": {
  "kernelspec": {
   "display_name": "Python 3",
   "language": "python",
   "name": "python3"
  },
  "language_info": {
   "codemirror_mode": {
    "name": "ipython",
    "version": 3
   },
   "file_extension": ".py",
   "mimetype": "text/x-python",
   "name": "python",
   "nbconvert_exporter": "python",
   "pygments_lexer": "ipython3",
   "version": "3.7.3"
  }
 },
 "nbformat": 4,
 "nbformat_minor": 2
}
