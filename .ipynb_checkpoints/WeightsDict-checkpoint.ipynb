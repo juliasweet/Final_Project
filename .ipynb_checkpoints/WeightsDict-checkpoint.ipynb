{
 "cells": [
  {
   "cell_type": "code",
   "execution_count": 6,
   "metadata": {},
   "outputs": [],
   "source": [
    "# Create a dictionary to weight classes\n",
    "\n",
    "weights = {\"td_prob\":0.155520, \"ydstogo\": 0.147366,\"half_seconds_remaining\":0.130070,\n",
    "\"shotgun\": 0.129944, \"ep\":  0.125123, \"fg_prob\": 0.122270, \"score_differential\": 0.096070,\n",
    "\"yardline_100\":0.073235,\"third_down_converted\": 0.013885,\"no_huddle\": 0.006516}"
   ]
  },
  {
   "cell_type": "code",
   "execution_count": null,
   "metadata": {},
   "outputs": [],
   "source": []
  }
 ],
 "metadata": {
  "kernelspec": {
   "display_name": "Python 3",
   "language": "python",
   "name": "python3"
  },
  "language_info": {
   "codemirror_mode": {
    "name": "ipython",
    "version": 3
   },
   "file_extension": ".py",
   "mimetype": "text/x-python",
   "name": "python",
   "nbconvert_exporter": "python",
   "pygments_lexer": "ipython3",
   "version": "3.7.3"
  }
 },
 "nbformat": 4,
 "nbformat_minor": 2
}
