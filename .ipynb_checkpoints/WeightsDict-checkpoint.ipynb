{
 "cells": [
  {
   "cell_type": "code",
   "execution_count": 1,
   "metadata": {},
   "outputs": [
    {
     "ename": "SyntaxError",
     "evalue": "invalid syntax (<ipython-input-1-f907e6b3eb01>, line 3)",
     "output_type": "error",
     "traceback": [
      "\u001b[1;36m  File \u001b[1;32m\"<ipython-input-1-f907e6b3eb01>\"\u001b[1;36m, line \u001b[1;32m3\u001b[0m\n\u001b[1;33m    weights = td_prob                   0.155520\u001b[0m\n\u001b[1;37m                                               ^\u001b[0m\n\u001b[1;31mSyntaxError\u001b[0m\u001b[1;31m:\u001b[0m invalid syntax\n"
     ]
    }
   ],
   "source": [
    "# Create a dictionary to weight classes\n",
    "\n",
    "weights = {{\"td_prob\":0.155520},\n",
    "{\"ydstogo\": 0.147366},\n",
    "{\"half_seconds_remaining\":0.130070},\n",
    "{\"shotgun\": 0.129944},\n",
    "{\"ep\":  0.125123},\n",
    "{\"fg_prob\": 0.122270}\n",
    "{\"score_differential\": 0.096070},\n",
    "{\"yardline_100\":0.073235},\n",
    "{\"third_down_converted\": 0.013885},\n",
    "{\"no_huddle\": 0.006516}}"
   ]
  },
  {
   "cell_type": "code",
   "execution_count": null,
   "metadata": {},
   "outputs": [],
   "source": []
  }
 ],
 "metadata": {
  "kernelspec": {
   "display_name": "Python 3",
   "language": "python",
   "name": "python3"
  },
  "language_info": {
   "codemirror_mode": {
    "name": "ipython",
    "version": 3
   },
   "file_extension": ".py",
   "mimetype": "text/x-python",
   "name": "python",
   "nbconvert_exporter": "python",
   "pygments_lexer": "ipython3",
   "version": "3.7.3"
  }
 },
 "nbformat": 4,
 "nbformat_minor": 2
}
