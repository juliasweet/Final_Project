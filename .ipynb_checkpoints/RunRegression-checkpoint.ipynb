{
 "cells": [
  {
   "cell_type": "code",
   "execution_count": 29,
   "metadata": {},
   "outputs": [],
   "source": [
    "import pandas as pd\n",
    "import numpy as numpy \n",
    "import os \n",
    "from sklearn.model_selection import train_test_split\n",
    "from sklearn.linear_model import LogisticRegression\n",
    "from sklearn import metrics"
   ]
  },
  {
   "cell_type": "code",
   "execution_count": 30,
   "metadata": {},
   "outputs": [
    {
     "data": {
      "text/html": [
       "<div>\n",
       "<style scoped>\n",
       "    .dataframe tbody tr th:only-of-type {\n",
       "        vertical-align: middle;\n",
       "    }\n",
       "\n",
       "    .dataframe tbody tr th {\n",
       "        vertical-align: top;\n",
       "    }\n",
       "\n",
       "    .dataframe thead th {\n",
       "        text-align: right;\n",
       "    }\n",
       "</style>\n",
       "<table border=\"1\" class=\"dataframe\">\n",
       "  <thead>\n",
       "    <tr style=\"text-align: right;\">\n",
       "      <th></th>\n",
       "      <th>Unnamed: 0</th>\n",
       "      <th>shotgun</th>\n",
       "      <th>no_huddle</th>\n",
       "      <th>ydstogo</th>\n",
       "      <th>yardline_100</th>\n",
       "      <th>half_seconds_remaining</th>\n",
       "      <th>run_location</th>\n",
       "      <th>score_differential</th>\n",
       "      <th>fg_prob</th>\n",
       "      <th>td_prob</th>\n",
       "      <th>ep</th>\n",
       "      <th>third_down_converted</th>\n",
       "    </tr>\n",
       "  </thead>\n",
       "  <tbody>\n",
       "    <tr>\n",
       "      <th>0</th>\n",
       "      <td>3</td>\n",
       "      <td>1</td>\n",
       "      <td>0</td>\n",
       "      <td>5</td>\n",
       "      <td>39.0</td>\n",
       "      <td>1404.0</td>\n",
       "      <td>1</td>\n",
       "      <td>0.0</td>\n",
       "      <td>0.395592</td>\n",
       "      <td>0.377457</td>\n",
       "      <td>2.642543</td>\n",
       "      <td>1.0</td>\n",
       "    </tr>\n",
       "    <tr>\n",
       "      <th>1</th>\n",
       "      <td>8</td>\n",
       "      <td>1</td>\n",
       "      <td>1</td>\n",
       "      <td>1</td>\n",
       "      <td>22.0</td>\n",
       "      <td>613.0</td>\n",
       "      <td>3</td>\n",
       "      <td>-3.0</td>\n",
       "      <td>0.415125</td>\n",
       "      <td>0.454985</td>\n",
       "      <td>3.967255</td>\n",
       "      <td>1.0</td>\n",
       "    </tr>\n",
       "    <tr>\n",
       "      <th>2</th>\n",
       "      <td>14</td>\n",
       "      <td>0</td>\n",
       "      <td>0</td>\n",
       "      <td>1</td>\n",
       "      <td>54.0</td>\n",
       "      <td>1429.0</td>\n",
       "      <td>1</td>\n",
       "      <td>-3.0</td>\n",
       "      <td>0.260790</td>\n",
       "      <td>0.458135</td>\n",
       "      <td>2.519950</td>\n",
       "      <td>1.0</td>\n",
       "    </tr>\n",
       "    <tr>\n",
       "      <th>3</th>\n",
       "      <td>19</td>\n",
       "      <td>0</td>\n",
       "      <td>0</td>\n",
       "      <td>1</td>\n",
       "      <td>87.0</td>\n",
       "      <td>691.0</td>\n",
       "      <td>1</td>\n",
       "      <td>4.0</td>\n",
       "      <td>0.097999</td>\n",
       "      <td>0.292759</td>\n",
       "      <td>-0.193396</td>\n",
       "      <td>1.0</td>\n",
       "    </tr>\n",
       "    <tr>\n",
       "      <th>4</th>\n",
       "      <td>22</td>\n",
       "      <td>0</td>\n",
       "      <td>0</td>\n",
       "      <td>1</td>\n",
       "      <td>11.0</td>\n",
       "      <td>1464.0</td>\n",
       "      <td>2</td>\n",
       "      <td>0.0</td>\n",
       "      <td>0.489985</td>\n",
       "      <td>0.442328</td>\n",
       "      <td>4.218395</td>\n",
       "      <td>1.0</td>\n",
       "    </tr>\n",
       "  </tbody>\n",
       "</table>\n",
       "</div>"
      ],
      "text/plain": [
       "   Unnamed: 0  shotgun  no_huddle  ydstogo  yardline_100  \\\n",
       "0           3        1          0        5          39.0   \n",
       "1           8        1          1        1          22.0   \n",
       "2          14        0          0        1          54.0   \n",
       "3          19        0          0        1          87.0   \n",
       "4          22        0          0        1          11.0   \n",
       "\n",
       "   half_seconds_remaining  run_location  score_differential   fg_prob  \\\n",
       "0                  1404.0             1                 0.0  0.395592   \n",
       "1                   613.0             3                -3.0  0.415125   \n",
       "2                  1429.0             1                -3.0  0.260790   \n",
       "3                   691.0             1                 4.0  0.097999   \n",
       "4                  1464.0             2                 0.0  0.489985   \n",
       "\n",
       "    td_prob        ep  third_down_converted  \n",
       "0  0.377457  2.642543                   1.0  \n",
       "1  0.454985  3.967255                   1.0  \n",
       "2  0.458135  2.519950                   1.0  \n",
       "3  0.292759 -0.193396                   1.0  \n",
       "4  0.442328  4.218395                   1.0  "
      ]
     },
     "execution_count": 30,
     "metadata": {},
     "output_type": "execute_result"
    }
   ],
   "source": [
    "## Read in data from file\n",
    "RunDF = pd.read_csv(os.path.join('Run_Data.csv'))\n",
    "RunDF.head()"
   ]
  },
  {
   "cell_type": "code",
   "execution_count": 31,
   "metadata": {},
   "outputs": [],
   "source": [
    "RunDF = RunDF.drop(columns = [\"Unnamed: 0\", \"shotgun\"])"
   ]
  },
  {
   "cell_type": "code",
   "execution_count": 32,
   "metadata": {},
   "outputs": [
    {
     "data": {
      "text/plain": [
       "Index(['no_huddle', 'ydstogo', 'yardline_100', 'half_seconds_remaining',\n",
       "       'run_location', 'score_differential', 'fg_prob', 'td_prob', 'ep',\n",
       "       'third_down_converted'],\n",
       "      dtype='object')"
      ]
     },
     "execution_count": 32,
     "metadata": {},
     "output_type": "execute_result"
    }
   ],
   "source": [
    "RunDF.columns"
   ]
  },
  {
   "cell_type": "markdown",
   "metadata": {},
   "source": [
    "## Attempt One"
   ]
  },
  {
   "cell_type": "code",
   "execution_count": 33,
   "metadata": {},
   "outputs": [
    {
     "name": "stdout",
     "output_type": "stream",
     "text": [
      "(9698, 9) (9698,)\n"
     ]
    }
   ],
   "source": [
    "X = RunDF.drop(\"third_down_converted\", axis=1)\n",
    "y = RunDF['third_down_converted']\n",
    "print(X.shape, y.shape)\n",
    "X_train, X_test, y_train, y_test = train_test_split(X, y, test_size = 0.2, \n",
    "                                                    random_state = 1, stratify=y)"
   ]
  },
  {
   "cell_type": "code",
   "execution_count": 34,
   "metadata": {},
   "outputs": [
    {
     "data": {
      "text/plain": [
       "LogisticRegression(C=1.0, class_weight=None, dual=False, fit_intercept=True,\n",
       "          intercept_scaling=1, max_iter=100, multi_class='warn',\n",
       "          n_jobs=None, penalty='l2', random_state=None, solver='warn',\n",
       "          tol=0.0001, verbose=0, warm_start=False)"
      ]
     },
     "execution_count": 34,
     "metadata": {},
     "output_type": "execute_result"
    }
   ],
   "source": [
    "classifier = LogisticRegression()\n",
    "classifier"
   ]
  },
  {
   "cell_type": "code",
   "execution_count": 35,
   "metadata": {},
   "outputs": [
    {
     "name": "stdout",
     "output_type": "stream",
     "text": [
      "First 10 predictions: [1. 1. 0. 1. 0. 0. 1. 1. 1. 1.]\n",
      "First 10 Actual labels: [0.0, 1.0, 1.0, 0.0, 0.0, 0.0, 0.0, 1.0, 0.0, 1.0]\n",
      "Accuracy: 0.702061855670103\n"
     ]
    },
    {
     "name": "stderr",
     "output_type": "stream",
     "text": [
      "C:\\Users\\julia\\anaconda\\Anaconda3\\lib\\site-packages\\sklearn\\linear_model\\logistic.py:433: FutureWarning: Default solver will be changed to 'lbfgs' in 0.22. Specify a solver to silence this warning.\n",
      "  FutureWarning)\n"
     ]
    }
   ],
   "source": [
    "classifier.fit(X_train, y_train)\n",
    "predictions = classifier.predict(X_test)\n",
    "print(f\"First 10 predictions: {predictions[:10]}\")\n",
    "print(f\"First 10 Actual labels: {y_test[:10].tolist()}\")\n",
    "y_pred=classifier.predict(X_test)\n",
    "print(\"Accuracy:\", metrics.accuracy_score(y_test, y_pred))"
   ]
  },
  {
   "cell_type": "markdown",
   "metadata": {},
   "source": [
    "## Attempt Two\n",
    "\n",
    "##### Does ep predict success? "
   ]
  },
  {
   "cell_type": "code",
   "execution_count": 36,
   "metadata": {},
   "outputs": [],
   "source": [
    "RunDF2 = RunDF.drop(columns = ['no_huddle', 'ydstogo', 'yardline_100', 'half_seconds_remaining',\n",
    "       'run_location', 'score_differential', 'fg_prob', 'td_prob'])"
   ]
  },
  {
   "cell_type": "code",
   "execution_count": 37,
   "metadata": {},
   "outputs": [
    {
     "name": "stdout",
     "output_type": "stream",
     "text": [
      "(9698, 1) (9698,)\n"
     ]
    }
   ],
   "source": [
    "X2 = RunDF2.drop(\"third_down_converted\", axis=1)\n",
    "y2 = RunDF2['third_down_converted']\n",
    "print(X2.shape, y2.shape)\n",
    "X_train2, X_test2, y_train2, y_test2 = train_test_split(X2, y2, test_size = 0.2, \n",
    "                                                    random_state = 1, stratify=y)"
   ]
  },
  {
   "cell_type": "code",
   "execution_count": 38,
   "metadata": {},
   "outputs": [
    {
     "name": "stdout",
     "output_type": "stream",
     "text": [
      "First 10 predictions: [1. 1. 0. 1. 0. 1. 1. 1. 1. 0.]\n",
      "First 10 Actual labels: [0.0, 1.0, 1.0, 0.0, 0.0, 0.0, 0.0, 1.0, 0.0, 1.0]\n",
      "Accuracy: 0.540721649484536\n"
     ]
    },
    {
     "name": "stderr",
     "output_type": "stream",
     "text": [
      "C:\\Users\\julia\\anaconda\\Anaconda3\\lib\\site-packages\\sklearn\\linear_model\\logistic.py:433: FutureWarning: Default solver will be changed to 'lbfgs' in 0.22. Specify a solver to silence this warning.\n",
      "  FutureWarning)\n"
     ]
    }
   ],
   "source": [
    "classifier.fit(X_train2, y_train2)\n",
    "predictions2 = classifier.predict(X_test2)\n",
    "print(f\"First 10 predictions: {predictions2[:10]}\")\n",
    "print(f\"First 10 Actual labels: {y_test2[:10].tolist()}\")\n",
    "y_pred2=classifier.predict(X_test2)\n",
    "print(\"Accuracy:\", metrics.accuracy_score(y_test2, y_pred2))"
   ]
  },
  {
   "cell_type": "markdown",
   "metadata": {},
   "source": [
    "## Distance Based Regression"
   ]
  },
  {
   "cell_type": "code",
   "execution_count": 44,
   "metadata": {},
   "outputs": [],
   "source": [
    "RunDF3 = RunDF.drop(columns = ['no_huddle', 'half_seconds_remaining', 'yardline_100',\n",
    "       'run_location', 'score_differential', 'fg_prob', 'td_prob'])"
   ]
  },
  {
   "cell_type": "code",
   "execution_count": 45,
   "metadata": {},
   "outputs": [
    {
     "name": "stdout",
     "output_type": "stream",
     "text": [
      "(9698, 2) (9698,)\n"
     ]
    }
   ],
   "source": [
    "X3 = RunDF3.drop(\"third_down_converted\", axis=1)\n",
    "y3 = RunDF3['third_down_converted']\n",
    "print(X3.shape, y3.shape)\n",
    "X_train3, X_test3, y_train3, y_test3 = train_test_split(X3, y3, test_size = 0.2, \n",
    "                                                    random_state = 1, stratify=y)"
   ]
  },
  {
   "cell_type": "code",
   "execution_count": 46,
   "metadata": {},
   "outputs": [
    {
     "name": "stdout",
     "output_type": "stream",
     "text": [
      "First 10 predictions: [1. 1. 0. 1. 0. 0. 0. 1. 1. 1.]\n",
      "First 10 Actual labels: [0.0, 1.0, 1.0, 0.0, 0.0, 0.0, 0.0, 1.0, 0.0, 1.0]\n",
      "Accuracy: 0.6963917525773196\n"
     ]
    },
    {
     "name": "stderr",
     "output_type": "stream",
     "text": [
      "C:\\Users\\julia\\anaconda\\Anaconda3\\lib\\site-packages\\sklearn\\linear_model\\logistic.py:433: FutureWarning: Default solver will be changed to 'lbfgs' in 0.22. Specify a solver to silence this warning.\n",
      "  FutureWarning)\n"
     ]
    }
   ],
   "source": [
    "classifier.fit(X_train3, y_train3)\n",
    "predictions3 = classifier.predict(X_test3)\n",
    "print(f\"First 10 predictions: {predictions3[:10]}\")\n",
    "print(f\"First 10 Actual labels: {y_test3[:10].tolist()}\")\n",
    "y_pred3=classifier.predict(X_test3)\n",
    "print(\"Accuracy:\", metrics.accuracy_score(y_test3, y_pred3))"
   ]
  },
  {
   "cell_type": "markdown",
   "metadata": {},
   "source": [
    "## Time and Distance only"
   ]
  },
  {
   "cell_type": "code",
   "execution_count": 47,
   "metadata": {},
   "outputs": [],
   "source": [
    "RunDF4  = RunDF.drop(columns = ['no_huddle', 'yardline_100',\n",
    "       'run_location', 'score_differential', 'fg_prob', 'td_prob', 'ep'])"
   ]
  },
  {
   "cell_type": "code",
   "execution_count": 48,
   "metadata": {},
   "outputs": [
    {
     "name": "stdout",
     "output_type": "stream",
     "text": [
      "(9698, 2) (9698,)\n"
     ]
    }
   ],
   "source": [
    "X4 = RunDF4.drop(\"third_down_converted\", axis=1)\n",
    "y4 = RunDF3['third_down_converted']\n",
    "print(X4.shape, y4.shape)\n",
    "X_train4, X_test4, y_train4, y_test4 = train_test_split(X4, y4, test_size = 0.2, \n",
    "                                                    random_state = 1, stratify=y)"
   ]
  },
  {
   "cell_type": "code",
   "execution_count": 49,
   "metadata": {},
   "outputs": [
    {
     "name": "stdout",
     "output_type": "stream",
     "text": [
      "First 10 predictions: [1. 1. 0. 1. 0. 0. 1. 1. 1. 1.]\n",
      "First 10 Actual labels: [0.0, 1.0, 1.0, 0.0, 0.0, 0.0, 0.0, 1.0, 0.0, 1.0]\n",
      "Accuracy: 0.7015463917525773\n"
     ]
    },
    {
     "name": "stderr",
     "output_type": "stream",
     "text": [
      "C:\\Users\\julia\\anaconda\\Anaconda3\\lib\\site-packages\\sklearn\\linear_model\\logistic.py:433: FutureWarning: Default solver will be changed to 'lbfgs' in 0.22. Specify a solver to silence this warning.\n",
      "  FutureWarning)\n"
     ]
    }
   ],
   "source": [
    "classifier.fit(X_train4, y_train4)\n",
    "predictions4 = classifier.predict(X_test4)\n",
    "print(f\"First 10 predictions: {predictions4[:10]}\")\n",
    "print(f\"First 10 Actual labels: {y_test4[:10].tolist()}\")\n",
    "y_pred4=classifier.predict(X_test4)\n",
    "print(\"Accuracy:\", metrics.accuracy_score(y_test4, y_pred4))"
   ]
  },
  {
   "cell_type": "markdown",
   "metadata": {},
   "source": [
    "## Distance and direction"
   ]
  },
  {
   "cell_type": "code",
   "execution_count": 50,
   "metadata": {},
   "outputs": [],
   "source": [
    "RunDF5 = RunDF.drop(columns = ['no_huddle', 'yardline_100', 'half_seconds_remaining',\n",
    "       'score_differential', 'fg_prob', 'td_prob', 'ep'])"
   ]
  },
  {
   "cell_type": "code",
   "execution_count": 51,
   "metadata": {},
   "outputs": [
    {
     "name": "stdout",
     "output_type": "stream",
     "text": [
      "(9698, 2) (9698,)\n",
      "First 10 predictions: [1. 1. 0. 1. 0. 0. 0. 1. 1. 1.]\n",
      "First 10 Actual labels: [0.0, 1.0, 1.0, 0.0, 0.0, 0.0, 0.0, 1.0, 0.0, 1.0]\n",
      "Accuracy: 0.695360824742268\n"
     ]
    },
    {
     "name": "stderr",
     "output_type": "stream",
     "text": [
      "C:\\Users\\julia\\anaconda\\Anaconda3\\lib\\site-packages\\sklearn\\linear_model\\logistic.py:433: FutureWarning: Default solver will be changed to 'lbfgs' in 0.22. Specify a solver to silence this warning.\n",
      "  FutureWarning)\n"
     ]
    }
   ],
   "source": [
    "X5 = RunDF5.drop(\"third_down_converted\", axis=1)\n",
    "y5 = RunDF5['third_down_converted']\n",
    "print(X5.shape, y5.shape)\n",
    "X_train5, X_test5, y_train5, y_test5 = train_test_split(X5, y5, test_size = 0.2, \n",
    "                                                    random_state = 1, stratify=y)\n",
    "classifier.fit(X_train5, y_train5)\n",
    "predictions5 = classifier.predict(X_test5)\n",
    "print(f\"First 10 predictions: {predictions5[:10]}\")\n",
    "print(f\"First 10 Actual labels: {y_test5[:10].tolist()}\")\n",
    "y_pred5=classifier.predict(X_test5)\n",
    "print(\"Accuracy:\", metrics.accuracy_score(y_test5, y_pred5))"
   ]
  },
  {
   "cell_type": "markdown",
   "metadata": {},
   "source": [
    "## Huddle and distance"
   ]
  },
  {
   "cell_type": "code",
   "execution_count": 52,
   "metadata": {},
   "outputs": [],
   "source": [
    "RunDF6 = RunDF.drop(columns = ['half_seconds_remaining',\n",
    "       'score_differential', 'fg_prob', 'td_prob', 'ep'])"
   ]
  },
  {
   "cell_type": "code",
   "execution_count": 53,
   "metadata": {},
   "outputs": [
    {
     "data": {
      "text/plain": [
       "Index(['no_huddle', 'ydstogo', 'yardline_100', 'run_location',\n",
       "       'third_down_converted'],\n",
       "      dtype='object')"
      ]
     },
     "execution_count": 53,
     "metadata": {},
     "output_type": "execute_result"
    }
   ],
   "source": [
    "RunDF6.columns"
   ]
  },
  {
   "cell_type": "code",
   "execution_count": 54,
   "metadata": {},
   "outputs": [
    {
     "name": "stdout",
     "output_type": "stream",
     "text": [
      "(9698, 4) (9698,)\n",
      "First 10 predictions: [1. 1. 0. 1. 0. 0. 0. 1. 1. 1.]\n",
      "First 10 Actual labels: [0.0, 1.0, 1.0, 0.0, 0.0, 0.0, 0.0, 1.0, 0.0, 1.0]\n",
      "Accuracy: 0.6974226804123711\n"
     ]
    },
    {
     "name": "stderr",
     "output_type": "stream",
     "text": [
      "C:\\Users\\julia\\anaconda\\Anaconda3\\lib\\site-packages\\sklearn\\linear_model\\logistic.py:433: FutureWarning: Default solver will be changed to 'lbfgs' in 0.22. Specify a solver to silence this warning.\n",
      "  FutureWarning)\n"
     ]
    }
   ],
   "source": [
    "X6 = RunDF6.drop(\"third_down_converted\", axis=1)\n",
    "y6 = RunDF6['third_down_converted']\n",
    "print(X6.shape, y6.shape)\n",
    "X_train6, X_test6, y_train6, y_test6 = train_test_split(X6, y6, test_size = 0.2, \n",
    "                                                    random_state = 1, stratify=y)\n",
    "classifier.fit(X_train6, y_train6)\n",
    "predictions6 = classifier.predict(X_test6)\n",
    "print(f\"First 10 predictions: {predictions6[:10]}\")\n",
    "print(f\"First 10 Actual labels: {y_test5[:10].tolist()}\")\n",
    "y_pred6=classifier.predict(X_test6)\n",
    "print(\"Accuracy:\", metrics.accuracy_score(y_test6, y_pred6))"
   ]
  },
  {
   "cell_type": "code",
   "execution_count": null,
   "metadata": {},
   "outputs": [],
   "source": []
  }
 ],
 "metadata": {
  "kernelspec": {
   "display_name": "Python 3",
   "language": "python",
   "name": "python3"
  },
  "language_info": {
   "codemirror_mode": {
    "name": "ipython",
    "version": 3
   },
   "file_extension": ".py",
   "mimetype": "text/x-python",
   "name": "python",
   "nbconvert_exporter": "python",
   "pygments_lexer": "ipython3",
   "version": "3.7.3"
  }
 },
 "nbformat": 4,
 "nbformat_minor": 2
}
